{
 "cells": [
  {
   "cell_type": "markdown",
   "metadata": {},
   "source": [
    "# Scale your pandas workflows by changing one line of code #\n",
    "- https://github.com/modin-project/modin\n",
    "    \n",
    "## With Pandas ##\n",
    "```\n",
    "import pandas as pd\n",
    "```\n",
    "## With modin pandas ##\n",
    "```\n",
    "import modin.pandas as pd\n",
    "```"
   ]
  },
  {
   "cell_type": "code",
   "execution_count": null,
   "metadata": {},
   "outputs": [],
   "source": [
    "import glob\n",
    "from tqdm import tqdm\n",
    "import pandas as pd\n",
    "from datetime import datetime"
   ]
  },
  {
   "cell_type": "code",
   "execution_count": null,
   "metadata": {},
   "outputs": [],
   "source": [
    "!python --version"
   ]
  },
  {
   "cell_type": "code",
   "execution_count": null,
   "metadata": {},
   "outputs": [],
   "source": [
    "!pip show pandas"
   ]
  },
  {
   "cell_type": "code",
   "execution_count": null,
   "metadata": {},
   "outputs": [],
   "source": [
    "!pip show modin"
   ]
  },
  {
   "cell_type": "code",
   "execution_count": null,
   "metadata": {},
   "outputs": [],
   "source": [
    "!ls  -lha ../../wildfire/wildfire-data/"
   ]
  },
  {
   "cell_type": "code",
   "execution_count": null,
   "metadata": {},
   "outputs": [],
   "source": [
    "all_csv_files = glob.glob('../../wildfire/wildfire-data/**/*.csv', recursive=True)"
   ]
  },
  {
   "cell_type": "code",
   "execution_count": null,
   "metadata": {},
   "outputs": [],
   "source": [
    "print(len(all_csv_files))\n",
    "all_csv_files"
   ]
  },
  {
   "cell_type": "code",
   "execution_count": null,
   "metadata": {},
   "outputs": [],
   "source": [
    "all_modis_files = list(filter(lambda k: 'modis' in k, all_csv_files))"
   ]
  },
  {
   "cell_type": "code",
   "execution_count": null,
   "metadata": {},
   "outputs": [],
   "source": [
    "print(len(all_modis_files))\n",
    "all_modis_files"
   ]
  },
  {
   "cell_type": "code",
   "execution_count": null,
   "metadata": {},
   "outputs": [],
   "source": [
    "all_viirs_files = list(filter(lambda k: 'viirs' in k, all_csv_files))"
   ]
  },
  {
   "cell_type": "code",
   "execution_count": null,
   "metadata": {},
   "outputs": [],
   "source": [
    "print(len(all_viirs_files))\n",
    "all_viirs_files"
   ]
  },
  {
   "cell_type": "code",
   "execution_count": null,
   "metadata": {},
   "outputs": [],
   "source": [
    "# Taken this idea from the H2O.ai wild fire competition github repo and changed it meet the local need\n",
    "rows = []\n",
    "fire_df = []\n",
    "row_sum = 0\n",
    "for f in tqdm(all_viirs_files):\n",
    "    df = pd.read_csv(f, parse_dates=['acq_time'], low_memory=False) \n",
    "    csv_name = f.split('/')[-1]\n",
    "    row = [\n",
    "        f, csv_name, df.shape[0], df.shape[1], df.acq_date.min(), df.acq_date.max(),\n",
    "        df.satellite.unique(), df.instrument.max(), df.version.max(),\n",
    "        df.latitude.nunique(), df.longitude.nunique(),\n",
    "        df.confidence.nunique(), df.satellite.nunique(), df.acq_date.nunique()\n",
    "    ]\n",
    "    if isinstance(df.confidence[0], str):\n",
    "        df.confidence = df.confidence.replace({'l': 0, 'n': 50, 'h': 100})\n",
    "    rows.append(row)\n",
    "    row_sum = row_sum + df.shape[0]\n",
    "    fire_df.append(df)\n",
    "cols = [\n",
    "    'path', 'csv', 'rows', 'cols', 'start', 'end',\n",
    "    'satellite', 'instrument', 'version',\n",
    "    'lats', 'lons', 'confs', 'sats', 'days'\n",
    "]\n",
    "filestats = pd.DataFrame(rows, columns=cols)\n",
    "filestats.sort_values(by=['start', 'instrument'])\n",
    "print(\"Total Rows: \" + str(row_sum))"
   ]
  },
  {
   "cell_type": "code",
   "execution_count": null,
   "metadata": {},
   "outputs": [],
   "source": [
    "viirs_fire_df = pd.concat(fire_df)\n",
    "viirs_fire_df.shape"
   ]
  },
  {
   "cell_type": "code",
   "execution_count": null,
   "metadata": {},
   "outputs": [],
   "source": [
    "viirs_fire_df['acq_date'] = pd.to_datetime(viirs_fire_df['acq_date'])"
   ]
  },
  {
   "cell_type": "code",
   "execution_count": null,
   "metadata": {},
   "outputs": [],
   "source": [
    "viirs_fire_df.to_csv('viirs_fire_data_raw.csv.gz', index=False, compression='gzip')"
   ]
  },
  {
   "cell_type": "code",
   "execution_count": null,
   "metadata": {},
   "outputs": [],
   "source": [
    "daily_fires_viirs = viirs_fire_df.groupby(\n",
    "            ['latitude', 'longitude', 'acq_date', 'satellite', 'instrument']).confidence.max().reset_index()"
   ]
  },
  {
   "cell_type": "code",
   "execution_count": null,
   "metadata": {},
   "outputs": [],
   "source": [
    "daily_fires_viirs['year'] = daily_fires_viirs.acq_date.dt.year"
   ]
  },
  {
   "cell_type": "code",
   "execution_count": null,
   "metadata": {},
   "outputs": [],
   "source": [
    "daily_fires_viirs['month'] = daily_fires_viirs.acq_date.dt.month"
   ]
  },
  {
   "cell_type": "code",
   "execution_count": null,
   "metadata": {},
   "outputs": [],
   "source": [
    "daily_fires_viirs.to_csv('daily_fires_viirs.csv.gz', index=False, compression='gzip')"
   ]
  },
  {
   "cell_type": "code",
   "execution_count": null,
   "metadata": {},
   "outputs": [],
   "source": [
    "PRECISION = 1"
   ]
  },
  {
   "cell_type": "markdown",
   "metadata": {},
   "source": [
    "## Using Pandas"
   ]
  },
  {
   "cell_type": "code",
   "execution_count": null,
   "metadata": {},
   "outputs": [],
   "source": [
    "t_start = datetime.now()\n",
    "## ----\n",
    "df = df_pd_gz[['latitude', 'longitude', 'acq_date', 'confidence']]\n",
    "df.latitude = df.latitude.round(PRECISION)\n",
    "df.longitude = df.longitude.round(PRECISION)\n",
    "df['acq_date'] = pd.to_datetime(df['acq_date'])\n",
    "df['year'] = df.acq_date.dt.year\n",
    "df['month'] = df.acq_date.dt.month\n",
    "total_fires = df.groupby(['latitude', 'longitude', 'year', 'month']).size().reset_index()\n",
    "total_fires.columns = ['latitude', 'longitude', 'year', 'month', 'fire_count']\n",
    "yearly_fires = total_fires.groupby(['longitude', 'latitude', 'year', ]).count().reset_index()\n",
    "global_fires = total_fires.groupby(['latitude', 'longitude']).sum().reset_index()\n",
    "# ----\n",
    "t_end = datetime.now()\n",
    "t_end.strftime('%Y-%m-%d %H:%M:%S')\n",
    "f'Total time {(t_end - t_start).seconds} (s)'"
   ]
  },
  {
   "cell_type": "code",
   "execution_count": null,
   "metadata": {},
   "outputs": [],
   "source": [
    "print(yearly_fires.shape)\n",
    "yearly_fires"
   ]
  },
  {
   "cell_type": "code",
   "execution_count": null,
   "metadata": {},
   "outputs": [],
   "source": [
    "print(global_fires.shape)\n",
    "global_fires"
   ]
  },
  {
   "cell_type": "code",
   "execution_count": null,
   "metadata": {},
   "outputs": [],
   "source": [
    "import plotly.express as px\n",
    "import plotly.figure_factory as ff\n",
    "import numpy as np\n",
    "MAPBOX_TOKEN = 'pk.eyJ1IjoiZm9kZ2Fib3JtYXRoIiwiYSI6ImNrZmY3Nzc2bjBiemkyeG8zdGNzcXgzMGIifQ.J0dZhMiuZTPVexL8nrpS6Q'\n",
    "px.set_mapbox_access_token(MAPBOX_TOKEN)"
   ]
  },
  {
   "cell_type": "code",
   "execution_count": null,
   "metadata": {},
   "outputs": [],
   "source": [
    "t_start = datetime.now()\n",
    "## ----\n",
    "fig = ff.create_hexbin_mapbox(\n",
    "    data_frame=global_fires, lat='latitude', lon='longitude',\n",
    "    nx_hexagon=100, opacity=0.9, labels={\"color\": \"Hotspot records\"},\n",
    "    color='fire_count', agg_func=np.sum, color_continuous_scale=\"Reds\"\n",
    ")\n",
    "fig.show()\n",
    "# ----\n",
    "t_end = datetime.now()\n",
    "t_end.strftime('%Y-%m-%d %H:%M:%S')\n",
    "f'Total time {(t_end - t_start).seconds} (s)'"
   ]
  },
  {
   "cell_type": "code",
   "execution_count": null,
   "metadata": {},
   "outputs": [],
   "source": [
    "global_fires.columns"
   ]
  },
  {
   "cell_type": "code",
   "execution_count": null,
   "metadata": {},
   "outputs": [],
   "source": [
    "fig = px.density_mapbox(global_fires, lat=0, lon=1, z=4, radius=10,\n",
    "                        center=dict(lat=0, lon=180), zoom=0,\n",
    "                        mapbox_style=\"stamen-terrain\")\n",
    "fig.show()"
   ]
  },
  {
   "cell_type": "code",
   "execution_count": null,
   "metadata": {},
   "outputs": [],
   "source": []
  }
 ],
 "metadata": {
  "kernelspec": {
   "display_name": "Python 3",
   "language": "python",
   "name": "python3"
  },
  "language_info": {
   "codemirror_mode": {
    "name": "ipython",
    "version": 3
   },
   "file_extension": ".py",
   "mimetype": "text/x-python",
   "name": "python",
   "nbconvert_exporter": "python",
   "pygments_lexer": "ipython3",
   "version": "3.7.6"
  }
 },
 "nbformat": 4,
 "nbformat_minor": 5
}
