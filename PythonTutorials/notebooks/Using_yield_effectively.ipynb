{
 "cells": [
  {
   "cell_type": "markdown",
   "id": "21feac8d-79da-401d-a7fa-c6effb831d96",
   "metadata": {},
   "source": [
    "# Using \"yield\" effectively"
   ]
  },
  {
   "cell_type": "markdown",
   "id": "35dbf2ad-91b6-43b8-88ad-c3f8029e22a6",
   "metadata": {},
   "source": [
    "- Keyword \"yield\" is used like return, however the function will return a generator\n",
    "- Creating custom iterator for given function remember using function with () not with [] as list\n",
    "- The yield statement suspends function’s execution and sends a value back to the caller, but retains enough state to enable function to resume where it is left off. \n",
    "- When resumed, the function continues execution immediately after the last yield run. \n",
    "This allows its code to produce a series of values over time, rather than computing them at once and sending them back like a list."
   ]
  },
  {
   "cell_type": "code",
   "execution_count": 1,
   "id": "713ba853-057e-4b21-99d2-23db773f11be",
   "metadata": {},
   "outputs": [
    {
     "name": "stdout",
     "output_type": "stream",
     "text": [
      "Python 3.9.7\n"
     ]
    }
   ],
   "source": [
    "!python -V"
   ]
  },
  {
   "cell_type": "code",
   "execution_count": 7,
   "id": "a592fc58-e95f-45b7-a25e-a69429e6f387",
   "metadata": {},
   "outputs": [],
   "source": [
    "my_list = [1, 8, 27, 64, 125]"
   ]
  },
  {
   "cell_type": "code",
   "execution_count": 14,
   "id": "08240561-5dd5-424a-be14-7f12c0648610",
   "metadata": {},
   "outputs": [],
   "source": [
    "my_list = [x*x*x for x in range(6) if x > 0]"
   ]
  },
  {
   "cell_type": "code",
   "execution_count": 15,
   "id": "a2a13120-5936-4883-8859-398b7bb01d14",
   "metadata": {},
   "outputs": [
    {
     "data": {
      "text/plain": [
       "[1, 8, 27, 64, 125]"
      ]
     },
     "execution_count": 15,
     "metadata": {},
     "output_type": "execute_result"
    }
   ],
   "source": [
    "my_list"
   ]
  },
  {
   "cell_type": "code",
   "execution_count": 16,
   "id": "53b5bd3f-e263-407a-8d63-91c3fd903fd6",
   "metadata": {},
   "outputs": [
    {
     "name": "stdout",
     "output_type": "stream",
     "text": [
      "1\n",
      "8\n",
      "27\n",
      "64\n",
      "125\n"
     ]
    }
   ],
   "source": [
    "for i in my_list:\n",
    "    print(i)"
   ]
  },
  {
   "cell_type": "code",
   "execution_count": 21,
   "id": "6abb74a5-055c-403d-9dd7-d90a24ee29a6",
   "metadata": {},
   "outputs": [
    {
     "data": {
      "text/plain": [
       "64"
      ]
     },
     "execution_count": 21,
     "metadata": {},
     "output_type": "execute_result"
    }
   ],
   "source": [
    "my_list[3]"
   ]
  },
  {
   "cell_type": "code",
   "execution_count": 18,
   "id": "6e3b75f5-b5c5-445e-b935-90fdbaa7c3d9",
   "metadata": {},
   "outputs": [],
   "source": [
    "my_generator = (x*x*x for x in range(6) if x > 0)"
   ]
  },
  {
   "cell_type": "code",
   "execution_count": 19,
   "id": "7a8874dd-1b56-470d-87a1-8708a09949d4",
   "metadata": {},
   "outputs": [
    {
     "data": {
      "text/plain": [
       "<generator object <genexpr> at 0x7fb42072b970>"
      ]
     },
     "execution_count": 19,
     "metadata": {},
     "output_type": "execute_result"
    }
   ],
   "source": [
    "my_generator"
   ]
  },
  {
   "cell_type": "code",
   "execution_count": 20,
   "id": "6ba950b8-d931-40c6-a398-3f1ab73f1532",
   "metadata": {},
   "outputs": [
    {
     "name": "stdout",
     "output_type": "stream",
     "text": [
      "1\n",
      "8\n",
      "27\n",
      "64\n",
      "125\n"
     ]
    }
   ],
   "source": [
    "for i in my_generator:\n",
    "    print(i)"
   ]
  },
  {
   "cell_type": "code",
   "execution_count": 23,
   "id": "817516a7-f5f8-4141-a8c2-69bf5c4d3c12",
   "metadata": {},
   "outputs": [],
   "source": [
    "def my_generator_function():\n",
    "    my_list = range(6)\n",
    "    for i in my_list:\n",
    "        if i > 0:\n",
    "            yield i*i*i"
   ]
  },
  {
   "cell_type": "code",
   "execution_count": 24,
   "id": "cfab3ad6-abb2-4af3-a35c-c108b9d05bfc",
   "metadata": {},
   "outputs": [],
   "source": [
    "y_generator_func = my_generator_function()"
   ]
  },
  {
   "cell_type": "code",
   "execution_count": 25,
   "id": "f2b3ffa3-8b8b-48d1-abb5-a66805972aa4",
   "metadata": {},
   "outputs": [
    {
     "data": {
      "text/plain": [
       "<generator object my_generator_function at 0x7fb42072b270>"
      ]
     },
     "execution_count": 25,
     "metadata": {},
     "output_type": "execute_result"
    }
   ],
   "source": [
    "y_generator_func"
   ]
  },
  {
   "cell_type": "code",
   "execution_count": 26,
   "id": "7905a68a-6234-43d9-a9de-6f17435fa099",
   "metadata": {},
   "outputs": [
    {
     "name": "stdout",
     "output_type": "stream",
     "text": [
      "1\n",
      "8\n",
      "27\n",
      "64\n",
      "125\n"
     ]
    }
   ],
   "source": [
    "for i in y_generator_func:\n",
    "    print(i)"
   ]
  },
  {
   "cell_type": "code",
   "execution_count": 27,
   "id": "d5c6d263-983c-4166-a0d6-b135beb24bb7",
   "metadata": {},
   "outputs": [],
   "source": [
    "def test_generator_function():\n",
    "    yield 'a'\n",
    "    yield 'b'\n",
    "    yield 'c'"
   ]
  },
  {
   "cell_type": "code",
   "execution_count": 46,
   "id": "3fe2c2e5-abe8-4aff-a42f-e6996a995b7b",
   "metadata": {},
   "outputs": [],
   "source": [
    "test_generator_func = test_generator_function()"
   ]
  },
  {
   "cell_type": "code",
   "execution_count": 37,
   "id": "a1ebf8bb-6960-4536-adaa-1d45676d9c54",
   "metadata": {},
   "outputs": [
    {
     "data": {
      "text/plain": [
       "<generator object test_generator_function at 0x7fb42072bf90>"
      ]
     },
     "execution_count": 37,
     "metadata": {},
     "output_type": "execute_result"
    }
   ],
   "source": [
    "test_generator_func"
   ]
  },
  {
   "cell_type": "code",
   "execution_count": 30,
   "id": "34158a3d-fe56-42b6-a7e7-39555acdbcf0",
   "metadata": {},
   "outputs": [
    {
     "name": "stdout",
     "output_type": "stream",
     "text": [
      "a\n",
      "b\n",
      "c\n"
     ]
    }
   ],
   "source": [
    "for i in test_generator_function():\n",
    "    print(i)"
   ]
  },
  {
   "cell_type": "code",
   "execution_count": 31,
   "id": "1e9ff810-f09b-47fd-ad73-7bba455e908f",
   "metadata": {},
   "outputs": [
    {
     "name": "stdout",
     "output_type": "stream",
     "text": [
      "a\n",
      "b\n",
      "c\n"
     ]
    }
   ],
   "source": [
    "for i in test_generator_func:\n",
    "    print(i)"
   ]
  },
  {
   "cell_type": "code",
   "execution_count": 45,
   "id": "16882da9-fb8e-4bd5-8d75-88f8237e0f63",
   "metadata": {},
   "outputs": [
    {
     "data": {
      "text/plain": [
       "<generator object test_generator_function at 0x7fb4109ad900>"
      ]
     },
     "execution_count": 45,
     "metadata": {},
     "output_type": "execute_result"
    }
   ],
   "source": [
    "test_generator_func"
   ]
  },
  {
   "cell_type": "code",
   "execution_count": 47,
   "id": "ddfb4322-59fb-493a-86fc-adccf25e697d",
   "metadata": {},
   "outputs": [],
   "source": [
    "my_generator_iter = iter(test_generator_func)"
   ]
  },
  {
   "cell_type": "code",
   "execution_count": 50,
   "id": "aa7eff87-f071-4968-a10a-5bbe64abdf05",
   "metadata": {},
   "outputs": [
    {
     "data": {
      "text/plain": [
       "'c'"
      ]
     },
     "execution_count": 50,
     "metadata": {},
     "output_type": "execute_result"
    }
   ],
   "source": [
    "next(my_generator_iter)"
   ]
  },
  {
   "cell_type": "code",
   "execution_count": 51,
   "id": "226f3592-7db7-4c9c-b6bf-b7338cd7cb1a",
   "metadata": {},
   "outputs": [],
   "source": [
    "my_generator_iter = iter(test_generator_function())"
   ]
  },
  {
   "cell_type": "code",
   "execution_count": 55,
   "id": "587aff1c-c9d6-4310-ab9e-21ab3cc73b9a",
   "metadata": {},
   "outputs": [
    {
     "ename": "StopIteration",
     "evalue": "",
     "output_type": "error",
     "traceback": [
      "\u001b[0;31m---------------------------------------------------------------------------\u001b[0m",
      "\u001b[0;31mStopIteration\u001b[0m                             Traceback (most recent call last)",
      "\u001b[0;32m/var/folders/j9/zkczhkln1w95vm9cj3p_qzhr0000gp/T/ipykernel_85845/1854047982.py\u001b[0m in \u001b[0;36m<module>\u001b[0;34m\u001b[0m\n\u001b[0;32m----> 1\u001b[0;31m \u001b[0mnext\u001b[0m\u001b[0;34m(\u001b[0m\u001b[0mmy_generator_iter\u001b[0m\u001b[0;34m)\u001b[0m\u001b[0;34m\u001b[0m\u001b[0;34m\u001b[0m\u001b[0m\n\u001b[0m",
      "\u001b[0;31mStopIteration\u001b[0m: "
     ]
    }
   ],
   "source": [
    "next(my_generator_iter)"
   ]
  },
  {
   "cell_type": "code",
   "execution_count": null,
   "id": "58cc4d25-f9f1-4e0d-8a70-8789fabd9a32",
   "metadata": {},
   "outputs": [],
   "source": []
  }
 ],
 "metadata": {
  "kernelspec": {
   "display_name": "Python 3 (ipykernel)",
   "language": "python",
   "name": "python3"
  },
  "language_info": {
   "codemirror_mode": {
    "name": "ipython",
    "version": 3
   },
   "file_extension": ".py",
   "mimetype": "text/x-python",
   "name": "python",
   "nbconvert_exporter": "python",
   "pygments_lexer": "ipython3",
   "version": "3.9.7"
  }
 },
 "nbformat": 4,
 "nbformat_minor": 5
}
