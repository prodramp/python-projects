{
 "cells": [
  {
   "cell_type": "markdown",
   "metadata": {},
   "source": [
    "# **Why use decorators:**\n",
    "- Extend the behavior of a function without modifying the function’s code.\n",
    "- Decorators are applied to a function by prepending the “@” symbol to the function’s name\n",
    "- Metaprogramming concepts because a function or a part of the code modifies function or another part of the code at compile time."
   ]
  },
  {
   "cell_type": "code",
   "execution_count": 1,
   "metadata": {},
   "outputs": [
    {
     "name": "stdout",
     "output_type": "stream",
     "text": [
      "Python 3.9.7\n"
     ]
    }
   ],
   "source": [
    "!python -V"
   ]
  },
  {
   "cell_type": "code",
   "execution_count": 12,
   "metadata": {},
   "outputs": [],
   "source": [
    "def outer_function(func):\n",
    "    def inner_function():\n",
    "        print('i am inner function inside the outer function')\n",
    "        func()\n",
    "    return inner_function"
   ]
  },
  {
   "cell_type": "code",
   "execution_count": 3,
   "metadata": {},
   "outputs": [],
   "source": [
    "def just_a_function():\n",
    "    print('this is just a function')"
   ]
  },
  {
   "cell_type": "code",
   "execution_count": 4,
   "metadata": {},
   "outputs": [
    {
     "data": {
      "text/plain": [
       "<function __main__.just_a_function()>"
      ]
     },
     "execution_count": 4,
     "metadata": {},
     "output_type": "execute_result"
    }
   ],
   "source": [
    "just_a_function"
   ]
  },
  {
   "cell_type": "code",
   "execution_count": 5,
   "metadata": {},
   "outputs": [
    {
     "name": "stdout",
     "output_type": "stream",
     "text": [
      "this is just a function\n"
     ]
    }
   ],
   "source": [
    "just_a_function()"
   ]
  },
  {
   "cell_type": "code",
   "execution_count": 8,
   "metadata": {},
   "outputs": [
    {
     "data": {
      "text/plain": [
       "<function __main__.outer_function.<locals>.inner_function()>"
      ]
     },
     "execution_count": 8,
     "metadata": {},
     "output_type": "execute_result"
    }
   ],
   "source": [
    "outer_function(just_a_function)"
   ]
  },
  {
   "cell_type": "code",
   "execution_count": 14,
   "metadata": {},
   "outputs": [],
   "source": [
    "caller_object = outer_function(just_a_function)"
   ]
  },
  {
   "cell_type": "code",
   "execution_count": 15,
   "metadata": {},
   "outputs": [
    {
     "data": {
      "text/plain": [
       "<function __main__.outer_function.<locals>.inner_function()>"
      ]
     },
     "execution_count": 15,
     "metadata": {},
     "output_type": "execute_result"
    }
   ],
   "source": [
    "caller_object"
   ]
  },
  {
   "cell_type": "code",
   "execution_count": 16,
   "metadata": {},
   "outputs": [
    {
     "name": "stdout",
     "output_type": "stream",
     "text": [
      "i am inner function inside the outer function\n",
      "this is just a function\n"
     ]
    }
   ],
   "source": [
    "caller_object()"
   ]
  },
  {
   "cell_type": "markdown",
   "metadata": {},
   "source": [
    "# **What is Decoration:**\n",
    "- The function just_a_function() got decorated by the outer_function()\n",
    "- The object caller_object (is a function) which has the both the outer_function() and just_a_function() as results\n",
    "- The values of just_a_function is decorated by outer_function()"
   ]
  },
  {
   "cell_type": "code",
   "execution_count": 17,
   "metadata": {},
   "outputs": [],
   "source": [
    "def outer_function_new(func):\n",
    "    def inner_function():\n",
    "        print('i am inner function inside the outer function')\n",
    "        func()\n",
    "    return inner_function"
   ]
  },
  {
   "cell_type": "code",
   "execution_count": 18,
   "metadata": {},
   "outputs": [],
   "source": [
    "@outer_function_new\n",
    "def just_a_function_new():\n",
    "    print('this is just a function')"
   ]
  },
  {
   "cell_type": "code",
   "execution_count": 23,
   "metadata": {},
   "outputs": [],
   "source": [
    "# --------\n",
    "# This assignment is INCORRECT\n",
    "# -----\n",
    "new_caller_obj = outer_function_new(just_a_function_new)"
   ]
  },
  {
   "cell_type": "code",
   "execution_count": 20,
   "metadata": {},
   "outputs": [
    {
     "data": {
      "text/plain": [
       "<function __main__.outer_function_new.<locals>.inner_function()>"
      ]
     },
     "execution_count": 20,
     "metadata": {},
     "output_type": "execute_result"
    }
   ],
   "source": [
    "new_caller_obj"
   ]
  },
  {
   "cell_type": "code",
   "execution_count": 21,
   "metadata": {},
   "outputs": [
    {
     "name": "stdout",
     "output_type": "stream",
     "text": [
      "i am inner function inside the outer function\n",
      "i am inner function inside the outer function\n",
      "this is just a function\n"
     ]
    }
   ],
   "source": [
    "new_caller_obj()"
   ]
  },
  {
   "cell_type": "code",
   "execution_count": 24,
   "metadata": {},
   "outputs": [
    {
     "name": "stdout",
     "output_type": "stream",
     "text": [
      "i am inner function inside the outer function\n",
      "this is just a function\n"
     ]
    }
   ],
   "source": [
    "new_caller_obj_for_decorator = just_a_function_new()"
   ]
  },
  {
   "cell_type": "markdown",
   "metadata": {},
   "source": [
    "## Function with Decorator Assignment"
   ]
  },
  {
   "cell_type": "code",
   "execution_count": 28,
   "metadata": {},
   "outputs": [],
   "source": [
    "## ----\n",
    "## This is the better way to assign a decorator\n",
    "## ---\n",
    "new_caller_obj_for_decorator = just_a_function_new"
   ]
  },
  {
   "cell_type": "code",
   "execution_count": 26,
   "metadata": {},
   "outputs": [
    {
     "data": {
      "text/plain": [
       "<function __main__.outer_function_new.<locals>.inner_function()>"
      ]
     },
     "execution_count": 26,
     "metadata": {},
     "output_type": "execute_result"
    }
   ],
   "source": [
    "new_caller_obj_for_decorator"
   ]
  },
  {
   "cell_type": "code",
   "execution_count": 27,
   "metadata": {},
   "outputs": [
    {
     "name": "stdout",
     "output_type": "stream",
     "text": [
      "i am inner function inside the outer function\n",
      "this is just a function\n"
     ]
    }
   ],
   "source": [
    "new_caller_obj_for_decorator()"
   ]
  },
  {
   "cell_type": "markdown",
   "metadata": {},
   "source": [
    "## Chaining Decorators"
   ]
  },
  {
   "cell_type": "code",
   "execution_count": 29,
   "metadata": {},
   "outputs": [],
   "source": [
    "def master_decorator_function(func):\n",
    "    def inner_function():\n",
    "        print('Inner function inside master_decorator_function')\n",
    "        func()\n",
    "    return inner_function"
   ]
  },
  {
   "cell_type": "code",
   "execution_count": 30,
   "metadata": {},
   "outputs": [],
   "source": [
    "def commander_decorator_function(func):\n",
    "    def inner_function():\n",
    "        print('Inner function inside commander_decorator_function')\n",
    "        func()\n",
    "    return inner_function"
   ]
  },
  {
   "cell_type": "code",
   "execution_count": 32,
   "metadata": {},
   "outputs": [],
   "source": [
    "@master_decorator_function\n",
    "@commander_decorator_function\n",
    "def just_a_rookie():\n",
    "    print('I am just a rookie')"
   ]
  },
  {
   "cell_type": "code",
   "execution_count": 33,
   "metadata": {},
   "outputs": [
    {
     "name": "stdout",
     "output_type": "stream",
     "text": [
      "Inner function inside master_decorator_function\n",
      "Inner function inside commander_decorator_function\n",
      "I am just a rookie\n"
     ]
    }
   ],
   "source": [
    "just_a_rookie()"
   ]
  },
  {
   "cell_type": "markdown",
   "metadata": {},
   "source": [
    "# **Decorators with Parameters**\n"
   ]
  },
  {
   "cell_type": "code",
   "execution_count": 34,
   "metadata": {},
   "outputs": [],
   "source": [
    "zipcodes = [94401, 94402, 94403, 94404, 94405]"
   ]
  },
  {
   "cell_type": "code",
   "execution_count": 35,
   "metadata": {},
   "outputs": [],
   "source": [
    "def find_zipcodes_in_list(zip_to_find):\n",
    "    try:\n",
    "        return zipcodes.index(zip_to_find)\n",
    "    except ValueError:\n",
    "        return -1"
   ]
  },
  {
   "cell_type": "code",
   "execution_count": 37,
   "metadata": {},
   "outputs": [
    {
     "data": {
      "text/plain": [
       "-1"
      ]
     },
     "execution_count": 37,
     "metadata": {},
     "output_type": "execute_result"
    }
   ],
   "source": [
    "find_zipcodes_in_list(94409)"
   ]
  },
  {
   "cell_type": "code",
   "execution_count": 60,
   "metadata": {},
   "outputs": [],
   "source": [
    "def zipcode_validator(func):\n",
    "    def inner_func(zip_to_find):\n",
    "        print('Searching {} zipcode in the list'.format(zip_to_find))\n",
    "        # condition1: integer\n",
    "        # condition2: 5 digit number\n",
    "        if not int(zip_to_find) or zip_to_find < 10000 or zip_to_find > 99999:\n",
    "            print('Given zipcode is not a valid number')\n",
    "        else:\n",
    "            return func(zip_to_find)\n",
    "    return inner_func"
   ]
  },
  {
   "cell_type": "code",
   "execution_count": 57,
   "metadata": {},
   "outputs": [],
   "source": [
    "@zipcode_validator\n",
    "def find_zipcodes_in_list_with_decorator(zip_to_find):\n",
    "    try:\n",
    "        return zipcodes.index(zip_to_find)\n",
    "    except ValueError:\n",
    "        return -1"
   ]
  },
  {
   "cell_type": "code",
   "execution_count": 58,
   "metadata": {},
   "outputs": [
    {
     "name": "stdout",
     "output_type": "stream",
     "text": [
      "Searching 94401 zipcode in the list\n",
      "Given zipcode is not a valid number\n"
     ]
    }
   ],
   "source": [
    "find_zipcodes_in_list_with_decorator(94401)"
   ]
  },
  {
   "cell_type": "code",
   "execution_count": 54,
   "metadata": {},
   "outputs": [
    {
     "name": "stdout",
     "output_type": "stream",
     "text": [
      "Searching 94901 zipcode in the list\n"
     ]
    },
    {
     "data": {
      "text/plain": [
       "-1"
      ]
     },
     "execution_count": 54,
     "metadata": {},
     "output_type": "execute_result"
    }
   ],
   "source": [
    "find_zipcodes_in_list_with_decorator(94901)"
   ]
  },
  {
   "cell_type": "code",
   "execution_count": 59,
   "metadata": {},
   "outputs": [
    {
     "name": "stdout",
     "output_type": "stream",
     "text": [
      "Searching 92 zipcode in the list\n",
      "Given zipcode is not a valid number\n"
     ]
    }
   ],
   "source": [
    "find_zipcodes_in_list_with_decorator(92)"
   ]
  },
  {
   "cell_type": "markdown",
   "metadata": {},
   "source": [
    "## Summary:\n",
    "\n",
    "Finally you can say the decorators are glorified function extenders which can enhance the use of an existing function, without touching the code within the function,"
   ]
  },
  {
   "cell_type": "code",
   "execution_count": null,
   "metadata": {},
   "outputs": [],
   "source": []
  }
 ],
 "metadata": {
  "kernelspec": {
   "display_name": "Python 3 (ipykernel)",
   "language": "python",
   "name": "python3"
  },
  "language_info": {
   "codemirror_mode": {
    "name": "ipython",
    "version": 3
   },
   "file_extension": ".py",
   "mimetype": "text/x-python",
   "name": "python",
   "nbconvert_exporter": "python",
   "pygments_lexer": "ipython3",
   "version": "3.9.7"
  }
 },
 "nbformat": 4,
 "nbformat_minor": 4
}
