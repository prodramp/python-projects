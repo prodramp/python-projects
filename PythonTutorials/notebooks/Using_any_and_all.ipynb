{
 "cells": [
  {
   "cell_type": "markdown",
   "id": "e5857090-bca7-450c-be03-7b66e98d99ad",
   "metadata": {},
   "source": [
    "## When to use \"any\" and \"all\""
   ]
  },
  {
   "cell_type": "markdown",
   "id": "cab4d53b-b73f-4e4b-a824-70e1a1f73706",
   "metadata": {},
   "source": [
    "When to use \"any\" and \"all\"\n",
    "\n",
    "- You can use any or all to check a sequence of items for either all of them are true or false"
   ]
  },
  {
   "cell_type": "code",
   "execution_count": 2,
   "id": "43e8c7fa-b2b1-4a43-9809-0fe625a8ca78",
   "metadata": {},
   "outputs": [
    {
     "name": "stdout",
     "output_type": "stream",
     "text": [
      "Python 3.9.7\n"
     ]
    }
   ],
   "source": [
    "!python -V"
   ]
  },
  {
   "cell_type": "code",
   "execution_count": 3,
   "id": "f6838c35-891c-49b0-94ce-37e9b35c0cc1",
   "metadata": {},
   "outputs": [],
   "source": [
    "my_list = [True, True, False, False, False]"
   ]
  },
  {
   "cell_type": "code",
   "execution_count": 4,
   "id": "c2515f48-b929-49ee-9a21-28137a283256",
   "metadata": {},
   "outputs": [
    {
     "data": {
      "text/plain": [
       "[True, True, False, False, False]"
      ]
     },
     "execution_count": 4,
     "metadata": {},
     "output_type": "execute_result"
    }
   ],
   "source": [
    "my_list"
   ]
  },
  {
   "cell_type": "code",
   "execution_count": 5,
   "id": "cacbb620-5a14-4c4f-96fb-8cb703ba9611",
   "metadata": {},
   "outputs": [
    {
     "data": {
      "text/plain": [
       "False"
      ]
     },
     "execution_count": 5,
     "metadata": {},
     "output_type": "execute_result"
    }
   ],
   "source": [
    "all(my_list)"
   ]
  },
  {
   "cell_type": "code",
   "execution_count": 6,
   "id": "4e7d843c-a56c-4600-8bfd-59bcb7fc2e87",
   "metadata": {},
   "outputs": [
    {
     "data": {
      "text/plain": [
       "False"
      ]
     },
     "execution_count": 6,
     "metadata": {},
     "output_type": "execute_result"
    }
   ],
   "source": [
    "all(my_list) == True"
   ]
  },
  {
   "cell_type": "code",
   "execution_count": 7,
   "id": "41330919-2bbc-47fe-879a-830dd8d7b4dc",
   "metadata": {},
   "outputs": [
    {
     "data": {
      "text/plain": [
       "True"
      ]
     },
     "execution_count": 7,
     "metadata": {},
     "output_type": "execute_result"
    }
   ],
   "source": [
    "any(my_list)"
   ]
  },
  {
   "cell_type": "code",
   "execution_count": 8,
   "id": "43b7e70a-5479-4325-b07c-30739e973b07",
   "metadata": {},
   "outputs": [
    {
     "data": {
      "text/plain": [
       "True"
      ]
     },
     "execution_count": 8,
     "metadata": {},
     "output_type": "execute_result"
    }
   ],
   "source": [
    "any(my_list) == True"
   ]
  },
  {
   "cell_type": "code",
   "execution_count": 9,
   "id": "1b0d6925-b364-42c6-8b1a-6964ac375523",
   "metadata": {},
   "outputs": [
    {
     "data": {
      "text/plain": [
       "False"
      ]
     },
     "execution_count": 9,
     "metadata": {},
     "output_type": "execute_result"
    }
   ],
   "source": [
    "not any(my_list)"
   ]
  },
  {
   "cell_type": "code",
   "execution_count": 11,
   "id": "ec3c4904-9a12-45a5-bee4-3ddd1f8429ac",
   "metadata": {},
   "outputs": [
    {
     "name": "stdout",
     "output_type": "stream",
     "text": [
      "all items are not ture and there may be 1 or more items as false\n"
     ]
    }
   ],
   "source": [
    "if all(my_list):\n",
    "    print(\"all items are true\")\n",
    "else:\n",
    "    print(\"all items are not ture and there may be 1 or more items as false\")"
   ]
  },
  {
   "cell_type": "code",
   "execution_count": 13,
   "id": "7b3b92b0-f371-4497-a1c2-bc83ac6b522e",
   "metadata": {},
   "outputs": [
    {
     "name": "stdout",
     "output_type": "stream",
     "text": [
      "any item among all items are true\n"
     ]
    }
   ],
   "source": [
    "if any(my_list):\n",
    "    print(\"any item among all items are true\")\n",
    "else:\n",
    "    print(\"all items are false in this given list or sequence\")"
   ]
  },
  {
   "cell_type": "code",
   "execution_count": 15,
   "id": "61609a84-00be-499b-afae-f9f917650fe3",
   "metadata": {},
   "outputs": [],
   "source": [
    "my_num_list = [10, 20, 30, 40, 50]"
   ]
  },
  {
   "cell_type": "code",
   "execution_count": 19,
   "id": "55764da3-50d7-4006-a9a6-0d900a8865b9",
   "metadata": {},
   "outputs": [],
   "source": [
    "# if any(my_num_list):\n",
    "#     print(\"any number is true\")"
   ]
  },
  {
   "cell_type": "code",
   "execution_count": 16,
   "id": "d94074d2-7188-4b82-8c0d-9113d937179d",
   "metadata": {},
   "outputs": [
    {
     "data": {
      "text/plain": [
       "True"
      ]
     },
     "execution_count": 16,
     "metadata": {},
     "output_type": "execute_result"
    }
   ],
   "source": [
    "any(my_num_list)"
   ]
  },
  {
   "cell_type": "code",
   "execution_count": 23,
   "id": "5f232b68-aad2-40ba-8ae7-5344e8d0ed39",
   "metadata": {},
   "outputs": [
    {
     "data": {
      "text/plain": [
       "False"
      ]
     },
     "execution_count": 23,
     "metadata": {},
     "output_type": "execute_result"
    }
   ],
   "source": [
    "# following has no meaning\n",
    "any(my_num_list) > 10"
   ]
  },
  {
   "cell_type": "code",
   "execution_count": 28,
   "id": "0889147a-e1a1-4886-8bef-5badf7ec2315",
   "metadata": {},
   "outputs": [
    {
     "data": {
      "text/plain": [
       "[10, 20, 30, 40, 50]"
      ]
     },
     "execution_count": 28,
     "metadata": {},
     "output_type": "execute_result"
    }
   ],
   "source": [
    "[x for x in my_num_list if x >= 10]"
   ]
  },
  {
   "cell_type": "code",
   "execution_count": 41,
   "id": "8bf7a9b5-55da-471e-9f7f-9c99ee1526a1",
   "metadata": {},
   "outputs": [
    {
     "data": {
      "text/plain": [
       "True"
      ]
     },
     "execution_count": 41,
     "metadata": {},
     "output_type": "execute_result"
    }
   ],
   "source": [
    "any(x > 10 for x in my_num_list)"
   ]
  },
  {
   "cell_type": "code",
   "execution_count": 36,
   "id": "5a483088-a983-401e-98bf-c0d67a844886",
   "metadata": {},
   "outputs": [
    {
     "data": {
      "text/plain": [
       "False"
      ]
     },
     "execution_count": 36,
     "metadata": {},
     "output_type": "execute_result"
    }
   ],
   "source": [
    "all(x > 10 for x in my_num_list)"
   ]
  },
  {
   "cell_type": "code",
   "execution_count": null,
   "id": "20935b18-8b00-4c9c-8d5f-14cc84c41059",
   "metadata": {},
   "outputs": [],
   "source": []
  }
 ],
 "metadata": {
  "kernelspec": {
   "display_name": "Python 3 (ipykernel)",
   "language": "python",
   "name": "python3"
  },
  "language_info": {
   "codemirror_mode": {
    "name": "ipython",
    "version": 3
   },
   "file_extension": ".py",
   "mimetype": "text/x-python",
   "name": "python",
   "nbconvert_exporter": "python",
   "pygments_lexer": "ipython3",
   "version": "3.9.7"
  }
 },
 "nbformat": 4,
 "nbformat_minor": 5
}
