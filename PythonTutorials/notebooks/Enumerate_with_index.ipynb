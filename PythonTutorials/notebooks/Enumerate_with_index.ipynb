{
 "cells": [
  {
   "cell_type": "markdown",
   "id": "e4144a30-9740-4734-8553-9427cf10c644",
   "metadata": {},
   "source": [
    "# How to use Enumerate with Index"
   ]
  },
  {
   "cell_type": "markdown",
   "id": "ba972f3e-be86-42aa-8a36-e4e16130d775",
   "metadata": {},
   "source": [
    "You can use \"enumerate\" method of function to iterate a sequence or list and get value along with index. \n",
    "- The result will be a tupple of (index, value)."
   ]
  },
  {
   "cell_type": "code",
   "execution_count": 2,
   "id": "3aa353a4-e074-4e6a-a4cf-8130b6305eef",
   "metadata": {},
   "outputs": [
    {
     "name": "stdout",
     "output_type": "stream",
     "text": [
      "Python 3.9.7\n"
     ]
    }
   ],
   "source": [
    "!python -V"
   ]
  },
  {
   "cell_type": "code",
   "execution_count": 3,
   "id": "440ce7d4-123c-4fee-b705-723ae73c79d7",
   "metadata": {},
   "outputs": [],
   "source": [
    "my_list = ['a', 'b', 'c', 'd', 'e', 'f']"
   ]
  },
  {
   "cell_type": "code",
   "execution_count": 4,
   "id": "b805de1a-11cd-4599-9005-64dc95a294bc",
   "metadata": {},
   "outputs": [
    {
     "name": "stdout",
     "output_type": "stream",
     "text": [
      "a\n",
      "b\n",
      "c\n",
      "d\n",
      "e\n",
      "f\n"
     ]
    }
   ],
   "source": [
    "for i in my_list:\n",
    "    print(i)"
   ]
  },
  {
   "cell_type": "code",
   "execution_count": 5,
   "id": "15a1f156-ddb3-43f6-97ce-e334c2a2ae41",
   "metadata": {},
   "outputs": [
    {
     "ename": "ValueError",
     "evalue": "not enough values to unpack (expected 2, got 1)",
     "output_type": "error",
     "traceback": [
      "\u001b[0;31m---------------------------------------------------------------------------\u001b[0m",
      "\u001b[0;31mValueError\u001b[0m                                Traceback (most recent call last)",
      "\u001b[0;32m/var/folders/j9/zkczhkln1w95vm9cj3p_qzhr0000gp/T/ipykernel_81156/834541452.py\u001b[0m in \u001b[0;36m<module>\u001b[0;34m\u001b[0m\n\u001b[0;32m----> 1\u001b[0;31m \u001b[0;32mfor\u001b[0m \u001b[0mindex\u001b[0m\u001b[0;34m,\u001b[0m \u001b[0mi\u001b[0m \u001b[0;32min\u001b[0m \u001b[0mmy_list\u001b[0m\u001b[0;34m:\u001b[0m\u001b[0;34m\u001b[0m\u001b[0;34m\u001b[0m\u001b[0m\n\u001b[0m\u001b[1;32m      2\u001b[0m     \u001b[0mprint\u001b[0m\u001b[0;34m(\u001b[0m\u001b[0mi\u001b[0m\u001b[0;34m)\u001b[0m\u001b[0;34m\u001b[0m\u001b[0;34m\u001b[0m\u001b[0m\n",
      "\u001b[0;31mValueError\u001b[0m: not enough values to unpack (expected 2, got 1)"
     ]
    }
   ],
   "source": [
    "for index, i in my_list:\n",
    "    print(i)"
   ]
  },
  {
   "cell_type": "code",
   "execution_count": 8,
   "id": "57e22110-9e63-4ea2-849b-117c75a65013",
   "metadata": {},
   "outputs": [
    {
     "name": "stdout",
     "output_type": "stream",
     "text": [
      "0 a\n",
      "1 b\n",
      "2 c\n",
      "3 d\n",
      "4 e\n",
      "5 f\n"
     ]
    }
   ],
   "source": [
    "for index, i in enumerate(my_list):\n",
    "    print(index, i)"
   ]
  },
  {
   "cell_type": "code",
   "execution_count": 9,
   "id": "2bd1f3bc-a64f-4d34-bfc6-7ec676e4f9b0",
   "metadata": {},
   "outputs": [
    {
     "data": {
      "text/plain": [
       "<enumerate at 0x7fa5d0821c80>"
      ]
     },
     "execution_count": 9,
     "metadata": {},
     "output_type": "execute_result"
    }
   ],
   "source": [
    "enumerate(my_list)"
   ]
  },
  {
   "cell_type": "code",
   "execution_count": 10,
   "id": "8a8be234-4d4c-4713-919b-9d9853cb8122",
   "metadata": {},
   "outputs": [],
   "source": [
    "enum_list = enumerate(my_list)"
   ]
  },
  {
   "cell_type": "code",
   "execution_count": 11,
   "id": "595ecc22-c7ed-43a5-a81d-f33de3d8f96d",
   "metadata": {},
   "outputs": [
    {
     "data": {
      "text/plain": [
       "<enumerate at 0x7fa5d0827600>"
      ]
     },
     "execution_count": 11,
     "metadata": {},
     "output_type": "execute_result"
    }
   ],
   "source": [
    "enum_list"
   ]
  },
  {
   "cell_type": "code",
   "execution_count": 12,
   "id": "bbeecf4c-6910-4628-8c61-3febf896ac56",
   "metadata": {},
   "outputs": [
    {
     "name": "stdout",
     "output_type": "stream",
     "text": [
      "(0, 'a')\n",
      "(1, 'b')\n",
      "(2, 'c')\n",
      "(3, 'd')\n",
      "(4, 'e')\n",
      "(5, 'f')\n"
     ]
    }
   ],
   "source": [
    "for i in enum_list:\n",
    "    print(i)"
   ]
  },
  {
   "cell_type": "code",
   "execution_count": 14,
   "id": "73da8075-edf7-4be4-aa3a-083cd3e49829",
   "metadata": {},
   "outputs": [
    {
     "ename": "TypeError",
     "evalue": "'enumerate' object is not subscriptable",
     "output_type": "error",
     "traceback": [
      "\u001b[0;31m---------------------------------------------------------------------------\u001b[0m",
      "\u001b[0;31mTypeError\u001b[0m                                 Traceback (most recent call last)",
      "\u001b[0;32m/var/folders/j9/zkczhkln1w95vm9cj3p_qzhr0000gp/T/ipykernel_81156/614697263.py\u001b[0m in \u001b[0;36m<module>\u001b[0;34m\u001b[0m\n\u001b[1;32m      1\u001b[0m \u001b[0;31m# following will not work\u001b[0m\u001b[0;34m\u001b[0m\u001b[0;34m\u001b[0m\u001b[0m\n\u001b[0;32m----> 2\u001b[0;31m \u001b[0menum_list\u001b[0m\u001b[0;34m[\u001b[0m\u001b[0;36m0\u001b[0m\u001b[0;34m]\u001b[0m\u001b[0;34m\u001b[0m\u001b[0;34m\u001b[0m\u001b[0m\n\u001b[0m",
      "\u001b[0;31mTypeError\u001b[0m: 'enumerate' object is not subscriptable"
     ]
    }
   ],
   "source": [
    "# following will not work\n",
    "enum_list[0]"
   ]
  },
  {
   "cell_type": "code",
   "execution_count": 15,
   "id": "2dffa749-7d3d-4d5d-86c2-9cbbdd28eda3",
   "metadata": {},
   "outputs": [],
   "source": [
    "my_new_list = [{'a': 1}, {'b': 2}, {'c': 3}]"
   ]
  },
  {
   "cell_type": "code",
   "execution_count": 16,
   "id": "28099392-5676-41b0-a1c9-fb772693a7e7",
   "metadata": {},
   "outputs": [
    {
     "data": {
      "text/plain": [
       "[{'a': 1}, {'b': 2}, {'c': 3}]"
      ]
     },
     "execution_count": 16,
     "metadata": {},
     "output_type": "execute_result"
    }
   ],
   "source": [
    "my_new_list"
   ]
  },
  {
   "cell_type": "code",
   "execution_count": 26,
   "id": "da2e1b35-0227-4990-b466-f99912f52c05",
   "metadata": {},
   "outputs": [],
   "source": [
    "enum_list = enumerate(my_new_list)"
   ]
  },
  {
   "cell_type": "code",
   "execution_count": 18,
   "id": "f9ad85f1-1572-4222-ba4a-ba7f3cdc31cc",
   "metadata": {},
   "outputs": [
    {
     "name": "stdout",
     "output_type": "stream",
     "text": [
      "(0, {'a': 1})\n",
      "(1, {'b': 2})\n",
      "(2, {'c': 3})\n"
     ]
    }
   ],
   "source": [
    "for i in enum_list:\n",
    "    print(i)"
   ]
  },
  {
   "cell_type": "code",
   "execution_count": 22,
   "id": "5a3c9abb-b500-42c6-a007-8b7f472497b5",
   "metadata": {},
   "outputs": [
    {
     "name": "stdout",
     "output_type": "stream",
     "text": [
      "0 {'a': 1}\n",
      "1 {'b': 2}\n",
      "2 {'c': 3}\n"
     ]
    }
   ],
   "source": [
    "for index, value in enum_list:\n",
    "    print(index, value)"
   ]
  },
  {
   "cell_type": "code",
   "execution_count": 25,
   "id": "0e09168d-cf4a-4e21-948b-35dbb2d95874",
   "metadata": {},
   "outputs": [
    {
     "name": "stdout",
     "output_type": "stream",
     "text": [
      "0 {'a': 1}\n",
      "1 {'b': 2}\n",
      "2 {'c': 3}\n"
     ]
    }
   ],
   "source": [
    "for index, value in enum_list:\n",
    "    print(index, value)"
   ]
  },
  {
   "cell_type": "code",
   "execution_count": 28,
   "id": "8c6918f6-dfe6-410a-8bd5-8e5a8267c633",
   "metadata": {},
   "outputs": [
    {
     "ename": "TypeError",
     "evalue": "'enumerate' object is not subscriptable",
     "output_type": "error",
     "traceback": [
      "\u001b[0;31m---------------------------------------------------------------------------\u001b[0m",
      "\u001b[0;31mTypeError\u001b[0m                                 Traceback (most recent call last)",
      "\u001b[0;32m/var/folders/j9/zkczhkln1w95vm9cj3p_qzhr0000gp/T/ipykernel_81156/1956082289.py\u001b[0m in \u001b[0;36m<module>\u001b[0;34m\u001b[0m\n\u001b[0;32m----> 1\u001b[0;31m \u001b[0menum_list\u001b[0m\u001b[0;34m[\u001b[0m\u001b[0;36m0\u001b[0m\u001b[0;34m]\u001b[0m\u001b[0;34m\u001b[0m\u001b[0;34m\u001b[0m\u001b[0m\n\u001b[0m",
      "\u001b[0;31mTypeError\u001b[0m: 'enumerate' object is not subscriptable"
     ]
    }
   ],
   "source": [
    "# not going to work\n",
    "enum_list[0]"
   ]
  },
  {
   "cell_type": "code",
   "execution_count": 32,
   "id": "310e71a9-011f-47eb-a307-21a305a5f7e3",
   "metadata": {},
   "outputs": [
    {
     "data": {
      "text/plain": [
       "1"
      ]
     },
     "execution_count": 32,
     "metadata": {},
     "output_type": "execute_result"
    }
   ],
   "source": [
    "my_new_list[0]['a']"
   ]
  },
  {
   "cell_type": "code",
   "execution_count": 34,
   "id": "c6db246b-af92-40a0-85a2-46d2881aae56",
   "metadata": {},
   "outputs": [
    {
     "data": {
      "text/plain": [
       "1"
      ]
     },
     "execution_count": 34,
     "metadata": {},
     "output_type": "execute_result"
    }
   ],
   "source": [
    "my_new_list[0].get('a')"
   ]
  },
  {
   "cell_type": "code",
   "execution_count": null,
   "id": "75e435cb-85ed-4b8f-9b32-976193031961",
   "metadata": {},
   "outputs": [],
   "source": []
  }
 ],
 "metadata": {
  "kernelspec": {
   "display_name": "Python 3 (ipykernel)",
   "language": "python",
   "name": "python3"
  },
  "language_info": {
   "codemirror_mode": {
    "name": "ipython",
    "version": 3
   },
   "file_extension": ".py",
   "mimetype": "text/x-python",
   "name": "python",
   "nbconvert_exporter": "python",
   "pygments_lexer": "ipython3",
   "version": "3.9.7"
  }
 },
 "nbformat": 4,
 "nbformat_minor": 5
}
