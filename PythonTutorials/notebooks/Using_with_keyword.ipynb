{
 "cells": [
  {
   "cell_type": "markdown",
   "id": "a1812f61-804d-4ba5-83c3-81889715d029",
   "metadata": {},
   "source": [
    "# Using_keyword_with_files_and_DB"
   ]
  },
  {
   "cell_type": "markdown",
   "id": "1d2688e5-0ea9-4d19-a88f-997cff23822a",
   "metadata": {},
   "source": [
    "- \"with\" keyword is effective to remove the object from memory so we don't need to clean the object in memory explicitly\n",
    "- \"with\" keyword can be used with managing file and database access and closing the handles just after accessing the target resourses"
   ]
  },
  {
   "cell_type": "code",
   "execution_count": 1,
   "id": "3e8c884e-9b60-4703-8a92-08d44d104d0a",
   "metadata": {},
   "outputs": [
    {
     "name": "stdout",
     "output_type": "stream",
     "text": [
      "Python 3.9.7\n"
     ]
    }
   ],
   "source": [
    "!python -V"
   ]
  },
  {
   "cell_type": "code",
   "execution_count": 2,
   "id": "5c2e810c-6a3e-4e1d-8c47-162e15e96b99",
   "metadata": {},
   "outputs": [],
   "source": [
    "file_name = '/Users/avkash/Downloads/ca_stores.csv'"
   ]
  },
  {
   "cell_type": "code",
   "execution_count": 3,
   "id": "2e945aea-f40e-49db-9b01-72e55fa7cd4a",
   "metadata": {},
   "outputs": [
    {
     "name": "stdout",
     "output_type": "stream",
     "text": [
      "-rw-r--r--@ 1 avkash  staff   437B Jun  6 08:50 /Users/avkash/Downloads/ca_stores.csv\n"
     ]
    }
   ],
   "source": [
    "!ls -lah $file_name"
   ]
  },
  {
   "cell_type": "code",
   "execution_count": 4,
   "id": "f4b9538a-642d-4d7e-a711-1c4868ecd2d1",
   "metadata": {},
   "outputs": [],
   "source": [
    "file_handle = open(file_name)\n",
    "file_data = file_handle.read()"
   ]
  },
  {
   "cell_type": "code",
   "execution_count": 5,
   "id": "2aa93850-76d2-4a6a-9fc5-56ec0eb5d3ea",
   "metadata": {},
   "outputs": [
    {
     "data": {
      "text/plain": [
       "<_io.TextIOWrapper name='/Users/avkash/Downloads/ca_stores.csv' mode='r' encoding='UTF-8'>"
      ]
     },
     "execution_count": 5,
     "metadata": {},
     "output_type": "execute_result"
    }
   ],
   "source": [
    "file_handle"
   ]
  },
  {
   "cell_type": "code",
   "execution_count": 6,
   "id": "26e10fc0-a049-44a2-958f-6e7bb04703c5",
   "metadata": {},
   "outputs": [
    {
     "data": {
      "text/plain": [
       "'id,state,city,zip_code,latitude,longitude\\n374,CA,American Canyon,94503,38.182987,-122.252632\\n375,CA,Anaheim,92801,33.833236,-117.995057\\n376,CA,Anaheim,92801,33.8363,-117.938\\n377,CA,Anaheim,92801,33.857602,-117.918796\\n378,CA,Anaheim,92805,33.819473,-117.908042\\n379,CA,Anderson,96007,40.431344,-122.289703\\n380,CA,Antelope,95843,38.712775,-121.394667\\n381,CA,Antioch,94531,37.96348,-121.761615\\n382,CA,Apple Valley,92307,34.525592,-117.223224'"
      ]
     },
     "execution_count": 6,
     "metadata": {},
     "output_type": "execute_result"
    }
   ],
   "source": [
    "file_data"
   ]
  },
  {
   "cell_type": "code",
   "execution_count": 9,
   "id": "51356a09-570a-4cfb-b473-25f3b429c448",
   "metadata": {},
   "outputs": [],
   "source": [
    "file_handle.close()"
   ]
  },
  {
   "cell_type": "code",
   "execution_count": 8,
   "id": "fba0e117-61c6-46a7-8497-68d950ab93b5",
   "metadata": {},
   "outputs": [
    {
     "data": {
      "text/plain": [
       "'id,state,city,zip_code,latitude,longitude\\n374,CA,American Canyon,94503,38.182987,-122.252632\\n375,CA,Anaheim,92801,33.833236,-117.995057\\n376,CA,Anaheim,92801,33.8363,-117.938\\n377,CA,Anaheim,92801,33.857602,-117.918796\\n378,CA,Anaheim,92805,33.819473,-117.908042\\n379,CA,Anderson,96007,40.431344,-122.289703\\n380,CA,Antelope,95843,38.712775,-121.394667\\n381,CA,Antioch,94531,37.96348,-121.761615\\n382,CA,Apple Valley,92307,34.525592,-117.223224'"
      ]
     },
     "execution_count": 8,
     "metadata": {},
     "output_type": "execute_result"
    }
   ],
   "source": [
    "file_data"
   ]
  },
  {
   "cell_type": "code",
   "execution_count": 11,
   "id": "31f19e5a-72dc-4da2-835a-1ca1d5748ec5",
   "metadata": {},
   "outputs": [
    {
     "ename": "AttributeError",
     "evalue": "'_io.TextIOWrapper' object has no attribute 'open'",
     "output_type": "error",
     "traceback": [
      "\u001b[0;31m---------------------------------------------------------------------------\u001b[0m",
      "\u001b[0;31mAttributeError\u001b[0m                            Traceback (most recent call last)",
      "\u001b[0;32m/var/folders/j9/zkczhkln1w95vm9cj3p_qzhr0000gp/T/ipykernel_42687/892023209.py\u001b[0m in \u001b[0;36m<module>\u001b[0;34m\u001b[0m\n\u001b[0;32m----> 1\u001b[0;31m \u001b[0mfile_handle\u001b[0m\u001b[0;34m.\u001b[0m\u001b[0mopen\u001b[0m\u001b[0;34m(\u001b[0m\u001b[0mfile_name\u001b[0m\u001b[0;34m)\u001b[0m\u001b[0;34m\u001b[0m\u001b[0;34m\u001b[0m\u001b[0m\n\u001b[0m",
      "\u001b[0;31mAttributeError\u001b[0m: '_io.TextIOWrapper' object has no attribute 'open'"
     ]
    }
   ],
   "source": [
    "file_handle.open(file_name)"
   ]
  },
  {
   "cell_type": "code",
   "execution_count": 12,
   "id": "6fffc179-e7f9-4907-ab76-f10fee9471e5",
   "metadata": {},
   "outputs": [],
   "source": [
    "with open(file_name) as file_handle:\n",
    "    file_data = file_handle.read()"
   ]
  },
  {
   "cell_type": "code",
   "execution_count": 13,
   "id": "6856a3f3-5bb7-43fc-8202-4d94d5c8300d",
   "metadata": {},
   "outputs": [
    {
     "data": {
      "text/plain": [
       "<_io.TextIOWrapper name='/Users/avkash/Downloads/ca_stores.csv' mode='r' encoding='UTF-8'>"
      ]
     },
     "execution_count": 13,
     "metadata": {},
     "output_type": "execute_result"
    }
   ],
   "source": [
    "file_handle"
   ]
  },
  {
   "cell_type": "code",
   "execution_count": 14,
   "id": "8a572d31-bfcb-45bb-8930-e98c9fc244dc",
   "metadata": {},
   "outputs": [
    {
     "ename": "ValueError",
     "evalue": "I/O operation on closed file.",
     "output_type": "error",
     "traceback": [
      "\u001b[0;31m---------------------------------------------------------------------------\u001b[0m",
      "\u001b[0;31mValueError\u001b[0m                                Traceback (most recent call last)",
      "\u001b[0;32m/var/folders/j9/zkczhkln1w95vm9cj3p_qzhr0000gp/T/ipykernel_42687/236022328.py\u001b[0m in \u001b[0;36m<module>\u001b[0;34m\u001b[0m\n\u001b[0;32m----> 1\u001b[0;31m \u001b[0mfile_handle\u001b[0m\u001b[0;34m.\u001b[0m\u001b[0mread\u001b[0m\u001b[0;34m(\u001b[0m\u001b[0;34m)\u001b[0m\u001b[0;34m\u001b[0m\u001b[0;34m\u001b[0m\u001b[0m\n\u001b[0m",
      "\u001b[0;31mValueError\u001b[0m: I/O operation on closed file."
     ]
    }
   ],
   "source": [
    "file_handle.read()"
   ]
  },
  {
   "cell_type": "code",
   "execution_count": 15,
   "id": "69a27703-a2c7-480c-8ac8-6d01da25777d",
   "metadata": {},
   "outputs": [
    {
     "data": {
      "text/plain": [
       "'id,state,city,zip_code,latitude,longitude\\n374,CA,American Canyon,94503,38.182987,-122.252632\\n375,CA,Anaheim,92801,33.833236,-117.995057\\n376,CA,Anaheim,92801,33.8363,-117.938\\n377,CA,Anaheim,92801,33.857602,-117.918796\\n378,CA,Anaheim,92805,33.819473,-117.908042\\n379,CA,Anderson,96007,40.431344,-122.289703\\n380,CA,Antelope,95843,38.712775,-121.394667\\n381,CA,Antioch,94531,37.96348,-121.761615\\n382,CA,Apple Valley,92307,34.525592,-117.223224'"
      ]
     },
     "execution_count": 15,
     "metadata": {},
     "output_type": "execute_result"
    }
   ],
   "source": [
    "file_data"
   ]
  },
  {
   "cell_type": "code",
   "execution_count": 16,
   "id": "d4bea613-96a0-4861-94b1-640991ce4eda",
   "metadata": {},
   "outputs": [],
   "source": [
    "import sqlite3"
   ]
  },
  {
   "cell_type": "code",
   "execution_count": 26,
   "id": "bda8f83e-d03c-4f10-b788-908864cab5ed",
   "metadata": {},
   "outputs": [],
   "source": [
    "conn = sqlite3.connect('test.db')"
   ]
  },
  {
   "cell_type": "code",
   "execution_count": 18,
   "id": "a2a29859-2011-4266-9b8d-8d0297db50eb",
   "metadata": {},
   "outputs": [
    {
     "data": {
      "text/plain": [
       "<sqlite3.Connection at 0x7fa2286c64e0>"
      ]
     },
     "execution_count": 18,
     "metadata": {},
     "output_type": "execute_result"
    }
   ],
   "source": [
    "conn"
   ]
  },
  {
   "cell_type": "code",
   "execution_count": 19,
   "id": "aa130900-bca9-4346-b252-1c68cd6605a1",
   "metadata": {},
   "outputs": [
    {
     "name": "stdout",
     "output_type": "stream",
     "text": [
      "Table created successfully\n"
     ]
    }
   ],
   "source": [
    "conn.execute('''CREATE TABLE  IF NOT EXISTS USERS\n",
    "         (ID INT PRIMARY KEY     NOT NULL,\n",
    "         NAME           TEXT    NOT NULL,\n",
    "         AGE            INT     NOT NULL,\n",
    "         ADDRESS        CHAR(50));''')\n",
    "print(\"Table created successfully\")"
   ]
  },
  {
   "cell_type": "code",
   "execution_count": 20,
   "id": "53709290-fd06-45ac-8890-b22791951a5b",
   "metadata": {},
   "outputs": [],
   "source": [
    "conn.execute(\"INSERT INTO USERS (ID,NAME,AGE,ADDRESS) \\\n",
    "      VALUES (1, 'James', 40, 'San Mateo')\")\n",
    "conn.commit()"
   ]
  },
  {
   "cell_type": "code",
   "execution_count": 21,
   "id": "07d17b04-a44a-421e-afb5-8069104b3449",
   "metadata": {},
   "outputs": [
    {
     "name": "stdout",
     "output_type": "stream",
     "text": [
      "ID = 1 NAME = James ADDRESS = San Mateo \n"
     ]
    }
   ],
   "source": [
    "cursor = conn.execute(\"SELECT id, name, address from USERS\")\n",
    "for row in cursor:\n",
    "   print(\"ID = {} NAME = {} ADDRESS = {} \".format(row[0], row[1], row[2]))"
   ]
  },
  {
   "cell_type": "code",
   "execution_count": 28,
   "id": "d8713fca-5269-4348-a210-ba77a94f5c8a",
   "metadata": {},
   "outputs": [
    {
     "data": {
      "text/plain": [
       "<sqlite3.Connection at 0x7fa2286c67b0>"
      ]
     },
     "execution_count": 28,
     "metadata": {},
     "output_type": "execute_result"
    }
   ],
   "source": [
    "conn"
   ]
  },
  {
   "cell_type": "code",
   "execution_count": 30,
   "id": "8451f0cd-b836-4aae-8090-fc2ca56a9fb4",
   "metadata": {},
   "outputs": [
    {
     "name": "stdout",
     "output_type": "stream",
     "text": [
      "Connection is closed\n"
     ]
    }
   ],
   "source": [
    "try:\n",
    "    cursor = conn.execute(\"SELECT id, name, address from USERS\")\n",
    "    for row in cursor:\n",
    "       print(\"ID = {} NAME = {} ADDRESS = {} \".format(row[0], row[1], row[2]))\n",
    "except:\n",
    "    print('Connection is closed')"
   ]
  },
  {
   "cell_type": "code",
   "execution_count": 29,
   "id": "caf9c45d-2396-44e2-8c1e-af0e7bbfc980",
   "metadata": {},
   "outputs": [],
   "source": [
    "conn.close()"
   ]
  },
  {
   "cell_type": "code",
   "execution_count": 46,
   "id": "fa344a7f-4d93-4f14-9847-e6df789073c6",
   "metadata": {},
   "outputs": [
    {
     "name": "stdout",
     "output_type": "stream",
     "text": [
      "ID = 1 NAME = James ADDRESS = San Mateo \n"
     ]
    },
    {
     "ename": "ProgrammingError",
     "evalue": "Cannot operate on a closed database.",
     "output_type": "error",
     "traceback": [
      "\u001b[0;31m---------------------------------------------------------------------------\u001b[0m",
      "\u001b[0;31mProgrammingError\u001b[0m                          Traceback (most recent call last)",
      "\u001b[0;31mProgrammingError\u001b[0m: Cannot operate on a closed database.",
      "\nDuring handling of the above exception, another exception occurred:\n",
      "\u001b[0;31mProgrammingError\u001b[0m                          Traceback (most recent call last)",
      "\u001b[0;32m/var/folders/j9/zkczhkln1w95vm9cj3p_qzhr0000gp/T/ipykernel_42687/3153403758.py\u001b[0m in \u001b[0;36m<module>\u001b[0;34m\u001b[0m\n\u001b[1;32m      3\u001b[0m     \u001b[0;32mfor\u001b[0m \u001b[0mrow\u001b[0m \u001b[0;32min\u001b[0m \u001b[0mcursor\u001b[0m\u001b[0;34m:\u001b[0m\u001b[0;34m\u001b[0m\u001b[0;34m\u001b[0m\u001b[0m\n\u001b[1;32m      4\u001b[0m         \u001b[0mprint\u001b[0m\u001b[0;34m(\u001b[0m\u001b[0;34m\"ID = {} NAME = {} ADDRESS = {} \"\u001b[0m\u001b[0;34m.\u001b[0m\u001b[0mformat\u001b[0m\u001b[0;34m(\u001b[0m\u001b[0mrow\u001b[0m\u001b[0;34m[\u001b[0m\u001b[0;36m0\u001b[0m\u001b[0;34m]\u001b[0m\u001b[0;34m,\u001b[0m \u001b[0mrow\u001b[0m\u001b[0;34m[\u001b[0m\u001b[0;36m1\u001b[0m\u001b[0;34m]\u001b[0m\u001b[0;34m,\u001b[0m \u001b[0mrow\u001b[0m\u001b[0;34m[\u001b[0m\u001b[0;36m2\u001b[0m\u001b[0;34m]\u001b[0m\u001b[0;34m)\u001b[0m\u001b[0;34m)\u001b[0m\u001b[0;34m\u001b[0m\u001b[0;34m\u001b[0m\u001b[0m\n\u001b[0;32m----> 5\u001b[0;31m     \u001b[0mconn_x\u001b[0m\u001b[0;34m.\u001b[0m\u001b[0mclose\u001b[0m\u001b[0;34m(\u001b[0m\u001b[0;34m)\u001b[0m\u001b[0;34m\u001b[0m\u001b[0;34m\u001b[0m\u001b[0m\n\u001b[0m",
      "\u001b[0;31mProgrammingError\u001b[0m: Cannot operate on a closed database."
     ]
    }
   ],
   "source": [
    "with sqlite3.connect('test.db') as conn_x:\n",
    "    cursor = conn_x.execute(\"SELECT id, name, address from USERS\")\n",
    "    for row in cursor:\n",
    "        print(\"ID = {} NAME = {} ADDRESS = {} \".format(row[0], row[1], row[2]))\n",
    "    conn_x.close()"
   ]
  },
  {
   "cell_type": "code",
   "execution_count": 42,
   "id": "db6c85f7-bf75-409d-bf92-6c5d30ef9b2b",
   "metadata": {},
   "outputs": [
    {
     "data": {
      "text/plain": [
       "<sqlite3.Connection at 0x7fa2286c6c60>"
      ]
     },
     "execution_count": 42,
     "metadata": {},
     "output_type": "execute_result"
    }
   ],
   "source": [
    "conn_x"
   ]
  },
  {
   "cell_type": "code",
   "execution_count": 45,
   "id": "257656e4-4965-45d7-ac22-546aab4b4fbd",
   "metadata": {},
   "outputs": [
    {
     "ename": "ProgrammingError",
     "evalue": "Cannot operate on a closed database.",
     "output_type": "error",
     "traceback": [
      "\u001b[0;31m---------------------------------------------------------------------------\u001b[0m",
      "\u001b[0;31mProgrammingError\u001b[0m                          Traceback (most recent call last)",
      "\u001b[0;32m/var/folders/j9/zkczhkln1w95vm9cj3p_qzhr0000gp/T/ipykernel_42687/4280787580.py\u001b[0m in \u001b[0;36m<module>\u001b[0;34m\u001b[0m\n\u001b[0;32m----> 1\u001b[0;31m \u001b[0mcursor\u001b[0m \u001b[0;34m=\u001b[0m \u001b[0mconn_x\u001b[0m\u001b[0;34m.\u001b[0m\u001b[0mexecute\u001b[0m\u001b[0;34m(\u001b[0m\u001b[0;34m\"SELECT id, name, address from USERS\"\u001b[0m\u001b[0;34m)\u001b[0m\u001b[0;34m\u001b[0m\u001b[0;34m\u001b[0m\u001b[0m\n\u001b[0m\u001b[1;32m      2\u001b[0m \u001b[0;32mfor\u001b[0m \u001b[0mrow\u001b[0m \u001b[0;32min\u001b[0m \u001b[0mcursor\u001b[0m\u001b[0;34m:\u001b[0m\u001b[0;34m\u001b[0m\u001b[0;34m\u001b[0m\u001b[0m\n\u001b[1;32m      3\u001b[0m     \u001b[0mprint\u001b[0m\u001b[0;34m(\u001b[0m\u001b[0;34m\"ID = {} NAME = {} ADDRESS = {} \"\u001b[0m\u001b[0;34m.\u001b[0m\u001b[0mformat\u001b[0m\u001b[0;34m(\u001b[0m\u001b[0mrow\u001b[0m\u001b[0;34m[\u001b[0m\u001b[0;36m0\u001b[0m\u001b[0;34m]\u001b[0m\u001b[0;34m,\u001b[0m \u001b[0mrow\u001b[0m\u001b[0;34m[\u001b[0m\u001b[0;36m1\u001b[0m\u001b[0;34m]\u001b[0m\u001b[0;34m,\u001b[0m \u001b[0mrow\u001b[0m\u001b[0;34m[\u001b[0m\u001b[0;36m2\u001b[0m\u001b[0;34m]\u001b[0m\u001b[0;34m)\u001b[0m\u001b[0;34m)\u001b[0m\u001b[0;34m\u001b[0m\u001b[0;34m\u001b[0m\u001b[0m\n",
      "\u001b[0;31mProgrammingError\u001b[0m: Cannot operate on a closed database."
     ]
    }
   ],
   "source": [
    "cursor = conn_x.execute(\"SELECT id, name, address from USERS\")\n",
    "for row in cursor:\n",
    "    print(\"ID = {} NAME = {} ADDRESS = {} \".format(row[0], row[1], row[2]))"
   ]
  },
  {
   "cell_type": "code",
   "execution_count": 44,
   "id": "d56e88ce-fdf0-42b6-8d60-03c5a903714c",
   "metadata": {},
   "outputs": [],
   "source": [
    "conn_x.close()"
   ]
  },
  {
   "cell_type": "code",
   "execution_count": null,
   "id": "a91772d6-ede3-4710-bd77-41627b05e67c",
   "metadata": {},
   "outputs": [],
   "source": []
  }
 ],
 "metadata": {
  "kernelspec": {
   "display_name": "Python 3 (ipykernel)",
   "language": "python",
   "name": "python3"
  },
  "language_info": {
   "codemirror_mode": {
    "name": "ipython",
    "version": 3
   },
   "file_extension": ".py",
   "mimetype": "text/x-python",
   "name": "python",
   "nbconvert_exporter": "python",
   "pygments_lexer": "ipython3",
   "version": "3.9.7"
  }
 },
 "nbformat": 4,
 "nbformat_minor": 5
}
