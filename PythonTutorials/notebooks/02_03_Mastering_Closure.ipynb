{
 "cells": [
  {
   "cell_type": "markdown",
   "metadata": {},
   "source": [
    "# Mastering Closure in Python"
   ]
  },
  {
   "cell_type": "code",
   "execution_count": 1,
   "metadata": {},
   "outputs": [
    {
     "name": "stdout",
     "output_type": "stream",
     "text": [
      "Python 3.9.7\n"
     ]
    }
   ],
   "source": [
    "!python -V"
   ]
  },
  {
   "cell_type": "code",
   "execution_count": 7,
   "metadata": {},
   "outputs": [],
   "source": [
    "# outer or the enclosure or the master function\n",
    "# whenever outer_main_function will be called, internal_nested_function will run\n",
    "def outer_main_function(passing_parameter):\n",
    "\n",
    "    # nested function\n",
    "    # This function can access the passing_parameter which is non_local variable\n",
    "    def internal_nested_function():\n",
    "        print(passing_parameter)\n",
    "        \n",
    "    # Calling the internal function\n",
    "    internal_nested_function()"
   ]
  },
  {
   "cell_type": "code",
   "execution_count": 8,
   "metadata": {},
   "outputs": [
    {
     "data": {
      "text/plain": [
       "<function __main__.outer_main_function(passing_parameter)>"
      ]
     },
     "execution_count": 8,
     "metadata": {},
     "output_type": "execute_result"
    }
   ],
   "source": [
    "outer_main_function"
   ]
  },
  {
   "cell_type": "code",
   "execution_count": 10,
   "metadata": {},
   "outputs": [
    {
     "name": "stdout",
     "output_type": "stream",
     "text": [
      "My Parameter\n"
     ]
    }
   ],
   "source": [
    "outer_main_function('My Parameter')"
   ]
  },
  {
   "cell_type": "code",
   "execution_count": 11,
   "metadata": {},
   "outputs": [
    {
     "name": "stdout",
     "output_type": "stream",
     "text": [
      "My Parameter\n"
     ]
    }
   ],
   "source": [
    "new_obj = outer_main_function('My Parameter')"
   ]
  },
  {
   "cell_type": "code",
   "execution_count": 14,
   "metadata": {},
   "outputs": [],
   "source": [
    "new_obj"
   ]
  },
  {
   "cell_type": "code",
   "execution_count": null,
   "metadata": {},
   "outputs": [],
   "source": []
  },
  {
   "cell_type": "code",
   "execution_count": 15,
   "metadata": {},
   "outputs": [],
   "source": [
    "# outer or the enclosure or the master function\n",
    "# whenever outer_main_function will be called, internal_nested_function will run\n",
    "def outer_main_function_with_return(passing_parameter):\n",
    "\n",
    "    # nested function\n",
    "    # This function can access the passing_parameter which is non_local variable\n",
    "    def internal_nested_function():\n",
    "        print(passing_parameter)\n",
    "        \n",
    "    # Returning the internal function\n",
    "    return internal_nested_function"
   ]
  },
  {
   "cell_type": "code",
   "execution_count": 16,
   "metadata": {},
   "outputs": [
    {
     "data": {
      "text/plain": [
       "<function __main__.outer_main_function_with_return(passing_parameter)>"
      ]
     },
     "execution_count": 16,
     "metadata": {},
     "output_type": "execute_result"
    }
   ],
   "source": [
    "outer_main_function_with_return"
   ]
  },
  {
   "cell_type": "code",
   "execution_count": 18,
   "metadata": {},
   "outputs": [
    {
     "data": {
      "text/plain": [
       "<function __main__.outer_main_function_with_return.<locals>.internal_nested_function()>"
      ]
     },
     "execution_count": 18,
     "metadata": {},
     "output_type": "execute_result"
    }
   ],
   "source": [
    "outer_main_function_with_return('new param')"
   ]
  },
  {
   "cell_type": "code",
   "execution_count": 19,
   "metadata": {},
   "outputs": [],
   "source": [
    "new_obj = outer_main_function_with_return('new param')"
   ]
  },
  {
   "cell_type": "code",
   "execution_count": 20,
   "metadata": {},
   "outputs": [
    {
     "data": {
      "text/plain": [
       "<function __main__.outer_main_function_with_return.<locals>.internal_nested_function()>"
      ]
     },
     "execution_count": 20,
     "metadata": {},
     "output_type": "execute_result"
    }
   ],
   "source": [
    "new_obj"
   ]
  },
  {
   "cell_type": "code",
   "execution_count": 21,
   "metadata": {},
   "outputs": [
    {
     "name": "stdout",
     "output_type": "stream",
     "text": [
      "new param\n"
     ]
    }
   ],
   "source": [
    "new_obj()"
   ]
  },
  {
   "cell_type": "markdown",
   "metadata": {},
   "source": [
    "## So What happened above"
   ]
  },
  {
   "cell_type": "markdown",
   "metadata": {},
   "source": [
    "- The outer_main_function_with_return() function was called with the string \"new param\" \n",
    "- The function outer_main_function_with_return() is bound to new_object. \n",
    "- When we called new_object() we did not pass any message\n",
    "- However the message \"new param\" was still remembered inside the outer_main_function_with_return and returned when called.\n",
    "- The message \"new param\" was attached to the function code"
   ]
  },
  {
   "cell_type": "markdown",
   "metadata": {},
   "source": [
    "# So what is closure:\n",
    "- A process in which the data (i.e. \"Any Data i.e. new param\") gets attached to the code is called \"closure\"."
   ]
  },
  {
   "cell_type": "markdown",
   "metadata": {},
   "source": [
    "# **When to use closures?**\n",
    "If the following conditions are met:\n",
    "- Function inside a function or nested function\n",
    "- The nested (or internal) function must refer to a value defined in the outer or the parent or the enclosing function.\n",
    "- The outer/parent/enclosing function must return the nested/internal function."
   ]
  },
  {
   "cell_type": "code",
   "execution_count": null,
   "metadata": {},
   "outputs": [],
   "source": []
  }
 ],
 "metadata": {
  "kernelspec": {
   "display_name": "Python 3 (ipykernel)",
   "language": "python",
   "name": "python3"
  },
  "language_info": {
   "codemirror_mode": {
    "name": "ipython",
    "version": 3
   },
   "file_extension": ".py",
   "mimetype": "text/x-python",
   "name": "python",
   "nbconvert_exporter": "python",
   "pygments_lexer": "ipython3",
   "version": "3.9.7"
  }
 },
 "nbformat": 4,
 "nbformat_minor": 4
}
