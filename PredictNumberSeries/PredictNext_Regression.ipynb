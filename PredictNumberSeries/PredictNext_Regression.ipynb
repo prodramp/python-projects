{
  "nbformat": 4,
  "nbformat_minor": 0,
  "metadata": {
    "colab": {
      "name": "PredictNext-Regression.ipynb",
      "provenance": [],
      "collapsed_sections": [],
      "authorship_tag": "ABX9TyPouLnQCWaFBEeBr3uMUVPE",
      "include_colab_link": true
    },
    "kernelspec": {
      "name": "python3",
      "display_name": "Python 3"
    },
    "language_info": {
      "name": "python"
    }
  },
  "cells": [
    {
      "cell_type": "markdown",
      "metadata": {
        "id": "view-in-github",
        "colab_type": "text"
      },
      "source": [
        "<a href=\"https://colab.research.google.com/github/prodramp/python-projects/blob/main/PredictNumberSeries/PredictNext_Regression.ipynb\" target=\"_parent\"><img src=\"https://colab.research.google.com/assets/colab-badge.svg\" alt=\"Open In Colab\"/></a>"
      ]
    },
    {
      "cell_type": "code",
      "execution_count": 1,
      "metadata": {
        "id": "QFjTWytTEeyi"
      },
      "outputs": [],
      "source": [
        "import numpy as np\n",
        "import matplotlib.pyplot as plt\n",
        "import pandas as pd"
      ]
    },
    {
      "cell_type": "code",
      "source": [
        "n = 100"
      ],
      "metadata": {
        "id": "QTReU4ytm-NN"
      },
      "execution_count": 2,
      "outputs": []
    },
    {
      "cell_type": "code",
      "source": [
        "x = np.random.uniform(size=(n,1))\n",
        "noise = np.random.normal(0, 0.01, size=x.shape)\n",
        "#y = np.square(x) + x + 1 + noise\n",
        "# y = np.sin(2*np.pi*x) + noise\n",
        "y = np.cos(2*np.pi*x) + noise"
      ],
      "metadata": {
        "id": "uAmBfjs_EiX0"
      },
      "execution_count": 145,
      "outputs": []
    },
    {
      "cell_type": "code",
      "source": [
        "len(x) == len(y)"
      ],
      "metadata": {
        "colab": {
          "base_uri": "https://localhost:8080/"
        },
        "id": "6cUjYdtxEnAp",
        "outputId": "9ad0c554-4f97-480e-e308-6d05c4b960d7"
      },
      "execution_count": 146,
      "outputs": [
        {
          "output_type": "execute_result",
          "data": {
            "text/plain": [
              "True"
            ]
          },
          "metadata": {},
          "execution_count": 146
        }
      ]
    },
    {
      "cell_type": "code",
      "source": [
        "def generate_numbers_plot(x,y):\n",
        "  fig, ax = plt.subplots(dpi=100, figsize=(15,5))\n",
        "  plt.scatter(x,y.ravel())"
      ],
      "metadata": {
        "id": "Xnod_UsFEssG"
      },
      "execution_count": 147,
      "outputs": []
    },
    {
      "cell_type": "code",
      "source": [
        "generate_numbers_plot(x,y)"
      ],
      "metadata": {
        "colab": {
          "base_uri": "https://localhost:8080/",
          "height": 383
        },
        "id": "UbZBU0gRE0jh",
        "outputId": "6b175b54-cf05-4e4f-9f6d-482003086a09"
      },
      "execution_count": 148,
      "outputs": [
        {
          "output_type": "display_data",
          "data": {
            "text/plain": [
              "<Figure size 1500x500 with 1 Axes>"
            ],
            "image/png": "[encoded data removed]"
          },
          "metadata": {
            "needs_background": "light"
          }
        }
      ]
    },
    {
      "cell_type": "code",
      "source": [
        "all_values = []\n",
        "for i in range(len(x)):\n",
        "  all_values.append([i, x[i][0], y[i][0]])"
      ],
      "metadata": {
        "id": "qnggDXs1EoxB"
      },
      "execution_count": 149,
      "outputs": []
    },
    {
      "cell_type": "code",
      "source": [
        "#all_values"
      ],
      "metadata": {
        "id": "DUw9QbMtooUO"
      },
      "execution_count": 150,
      "outputs": []
    },
    {
      "cell_type": "code",
      "source": [
        "df_full = pd.DataFrame(all_values, columns=['sn', 'x', 'y'])\n",
        "df_full"
      ],
      "metadata": {
        "colab": {
          "base_uri": "https://localhost:8080/",
          "height": 424
        },
        "id": "Ankd6mMCE19E",
        "outputId": "1764f8e6-caca-44ea-c5f1-35e6f624c045"
      },
      "execution_count": 151,
      "outputs": [
        {
          "output_type": "execute_result",
          "data": {
            "text/plain": [
              "    sn         x         y\n",
              "0    0  0.476104 -0.997278\n",
              "1    1  0.880127  0.725126\n",
              "2    2  0.960823  0.966083\n",
              "3    3  0.095116  0.810312\n",
              "4    4  0.201423  0.308237\n",
              "..  ..       ...       ...\n",
              "95  95  0.081301  0.880558\n",
              "96  96  0.030973  0.986673\n",
              "97  97  0.616126 -0.740700\n",
              "98  98  0.258659 -0.061384\n",
              "99  99  0.869701  0.670097\n",
              "\n",
              "[100 rows x 3 columns]"
            ],
            "text/html": [
              "\n",
              "  <div id=\"df-c93eb0d4-37c7-49b5-bf56-3ed14600ec3a\">\n",
              "    <div class=\"colab-df-container\">\n",
              "      <div>\n",
              "<style scoped>\n",
              "    .dataframe tbody tr th:only-of-type {\n",
              "        vertical-align: middle;\n",
              "    }\n",
              "\n",
              "    .dataframe tbody tr th {\n",
              "        vertical-align: top;\n",
              "    }\n",
              "\n",
              "    .dataframe thead th {\n",
              "        text-align: right;\n",
              "    }\n",
              "</style>\n",
              "<table border=\"1\" class=\"dataframe\">\n",
              "  <thead>\n",
              "    <tr style=\"text-align: right;\">\n",
              "      <th></th>\n",
              "      <th>sn</th>\n",
              "      <th>x</th>\n",
              "      <th>y</th>\n",
              "    </tr>\n",
              "  </thead>\n",
              "  <tbody>\n",
              "    <tr>\n",
              "      <th>0</th>\n",
              "      <td>0</td>\n",
              "      <td>0.476104</td>\n",
              "      <td>-0.997278</td>\n",
              "    </tr>\n",
              "    <tr>\n",
              "      <th>1</th>\n",
              "      <td>1</td>\n",
              "      <td>0.880127</td>\n",
              "      <td>0.725126</td>\n",
              "    </tr>\n",
              "    <tr>\n",
              "      <th>2</th>\n",
              "      <td>2</td>\n",
              "      <td>0.960823</td>\n",
              "      <td>0.966083</td>\n",
              "    </tr>\n",
              "    <tr>\n",
              "      <th>3</th>\n",
              "      <td>3</td>\n",
              "      <td>0.095116</td>\n",
              "      <td>0.810312</td>\n",
              "    </tr>\n",
              "    <tr>\n",
              "      <th>4</th>\n",
              "      <td>4</td>\n",
              "      <td>0.201423</td>\n",
              "      <td>0.308237</td>\n",
              "    </tr>\n",
              "    <tr>\n",
              "      <th>...</th>\n",
              "      <td>...</td>\n",
              "      <td>...</td>\n",
              "      <td>...</td>\n",
              "    </tr>\n",
              "    <tr>\n",
              "      <th>95</th>\n",
              "      <td>95</td>\n",
              "      <td>0.081301</td>\n",
              "      <td>0.880558</td>\n",
              "    </tr>\n",
              "    <tr>\n",
              "      <th>96</th>\n",
              "      <td>96</td>\n",
              "      <td>0.030973</td>\n",
              "      <td>0.986673</td>\n",
              "    </tr>\n",
              "    <tr>\n",
              "      <th>97</th>\n",
              "      <td>97</td>\n",
              "      <td>0.616126</td>\n",
              "      <td>-0.740700</td>\n",
              "    </tr>\n",
              "    <tr>\n",
              "      <th>98</th>\n",
              "      <td>98</td>\n",
              "      <td>0.258659</td>\n",
              "      <td>-0.061384</td>\n",
              "    </tr>\n",
              "    <tr>\n",
              "      <th>99</th>\n",
              "      <td>99</td>\n",
              "      <td>0.869701</td>\n",
              "      <td>0.670097</td>\n",
              "    </tr>\n",
              "  </tbody>\n",
              "</table>\n",
              "<p>100 rows × 3 columns</p>\n",
              "</div>\n",
              "      <button class=\"colab-df-convert\" onclick=\"convertToInteractive('df-c93eb0d4-37c7-49b5-bf56-3ed14600ec3a')\"\n",
              "              title=\"Convert this dataframe to an interactive table.\"\n",
              "              style=\"display:none;\">\n",
              "        \n",
              "  <svg xmlns=\"http://www.w3.org/2000/svg\" height=\"24px\"viewBox=\"0 0 24 24\"\n",
              "       width=\"24px\">\n",
              "    <path d=\"M0 0h24v24H0V0z\" fill=\"none\"/>\n",
              "    <path d=\"M18.56 5.44l.94 2.06.94-2.06 2.06-.94-2.06-.94-.94-2.06-.94 2.06-2.06.94zm-11 1L8.5 8.5l.94-2.06 2.06-.94-2.06-.94L8.5 2.5l-.94 2.06-2.06.94zm10 10l.94 2.06.94-2.06 2.06-.94-2.06-.94-.94-2.06-.94 2.06-2.06.94z\"/><path d=\"M17.41 7.96l-1.37-1.37c-.4-.4-.92-.59-1.43-.59-.52 0-1.04.2-1.43.59L10.3 9.45l-7.72 7.72c-.78.78-.78 2.05 0 2.83L4 21.41c.39.39.9.59 1.41.59.51 0 1.02-.2 1.41-.59l7.78-7.78 2.81-2.81c.8-.78.8-2.07 0-2.86zM5.41 20L4 18.59l7.72-7.72 1.47 1.35L5.41 20z\"/>\n",
              "  </svg>\n",
              "      </button>\n",
              "      \n",
              "  <style>\n",
              "    .colab-df-container {\n",
              "      display:flex;\n",
              "      flex-wrap:wrap;\n",
              "      gap: 12px;\n",
              "    }\n",
              "\n",
              "    .colab-df-convert {\n",
              "      background-color: #E8F0FE;\n",
              "      border: none;\n",
              "      border-radius: 50%;\n",
              "      cursor: pointer;\n",
              "      display: none;\n",
              "      fill: #1967D2;\n",
              "      height: 32px;\n",
              "      padding: 0 0 0 0;\n",
              "      width: 32px;\n",
              "    }\n",
              "\n",
              "    .colab-df-convert:hover {\n",
              "      background-color: #E2EBFA;\n",
              "      box-shadow: 0px 1px 2px rgba(60, 64, 67, 0.3), 0px 1px 3px 1px rgba(60, 64, 67, 0.15);\n",
              "      fill: #174EA6;\n",
              "    }\n",
              "\n",
              "    [theme=dark] .colab-df-convert {\n",
              "      background-color: #3B4455;\n",
              "      fill: #D2E3FC;\n",
              "    }\n",
              "\n",
              "    [theme=dark] .colab-df-convert:hover {\n",
              "      background-color: #434B5C;\n",
              "      box-shadow: 0px 1px 3px 1px rgba(0, 0, 0, 0.15);\n",
              "      filter: drop-shadow(0px 1px 2px rgba(0, 0, 0, 0.3));\n",
              "      fill: #FFFFFF;\n",
              "    }\n",
              "  </style>\n",
              "\n",
              "      <script>\n",
              "        const buttonEl =\n",
              "          document.querySelector('#df-c93eb0d4-37c7-49b5-bf56-3ed14600ec3a button.colab-df-convert');\n",
              "        buttonEl.style.display =\n",
              "          google.colab.kernel.accessAllowed ? 'block' : 'none';\n",
              "\n",
              "        async function convertToInteractive(key) {\n",
              "          const element = document.querySelector('#df-c93eb0d4-37c7-49b5-bf56-3ed14600ec3a');\n",
              "          const dataTable =\n",
              "            await google.colab.kernel.invokeFunction('convertToInteractive',\n",
              "                                                     [key], {});\n",
              "          if (!dataTable) return;\n",
              "\n",
              "          const docLinkHtml = 'Like what you see? Visit the ' +\n",
              "            '<a target=\"_blank\" href=https://colab.research.google.com/notebooks/data_table.ipynb>data table notebook</a>'\n",
              "            + ' to learn more about interactive tables.';\n",
              "          element.innerHTML = '';\n",
              "          dataTable['output_type'] = 'display_data';\n",
              "          await google.colab.output.renderOutput(dataTable, element);\n",
              "          const docLink = document.createElement('div');\n",
              "          docLink.innerHTML = docLinkHtml;\n",
              "          element.appendChild(docLink);\n",
              "        }\n",
              "      </script>\n",
              "    </div>\n",
              "  </div>\n",
              "  "
            ]
          },
          "metadata": {},
          "execution_count": 151
        }
      ]
    },
    {
      "cell_type": "code",
      "source": [
        "y = np.array(df_full['x'])\n",
        "y"
      ],
      "metadata": {
        "colab": {
          "base_uri": "https://localhost:8080/"
        },
        "id": "0r-U7v4cKaWv",
        "outputId": "144f2dbd-28d3-4a01-d8ca-912420ac4b92"
      },
      "execution_count": 152,
      "outputs": [
        {
          "output_type": "execute_result",
          "data": {
            "text/plain": [
              "array([0.47610448, 0.88012719, 0.96082326, 0.09511556, 0.20142301,\n",
              "       0.66278878, 0.61647993, 0.60272125, 0.89577035, 0.31581058,\n",
              "       0.00438273, 0.69865085, 0.66076878, 0.53599825, 0.16657409,\n",
              "       0.65933259, 0.7952566 , 0.56736603, 0.54968635, 0.6706534 ,\n",
              "       0.49508711, 0.49054237, 0.15788522, 0.62265571, 0.09403034,\n",
              "       0.82858136, 0.34518106, 0.84785515, 0.20664046, 0.8891928 ,\n",
              "       0.98515979, 0.39695229, 0.77927413, 0.59678919, 0.0733582 ,\n",
              "       0.91485736, 0.30860567, 0.99705667, 0.92823858, 0.95701308,\n",
              "       0.9912267 , 0.96822892, 0.41884321, 0.51550023, 0.49937041,\n",
              "       0.85130024, 0.32586053, 0.26209434, 0.35549061, 0.78129782,\n",
              "       0.45140445, 0.20875941, 0.95558468, 0.23132414, 0.66871237,\n",
              "       0.3630459 , 0.88842623, 0.2935851 , 0.01936294, 0.88633152,\n",
              "       0.76476875, 0.5445117 , 0.9733524 , 0.70613012, 0.56531581,\n",
              "       0.01296077, 0.92631033, 0.90902023, 0.72031133, 0.90811465,\n",
              "       0.59481738, 0.28715556, 0.2052264 , 0.83157968, 0.48035492,\n",
              "       0.45727509, 0.83797072, 0.7816698 , 0.51261361, 0.74047916,\n",
              "       0.73121529, 0.26023573, 0.61681846, 0.46020236, 0.44587643,\n",
              "       0.71743681, 0.21288644, 0.99137383, 0.77056361, 0.16907709,\n",
              "       0.76927956, 0.83164929, 0.61415493, 0.97951353, 0.38926407,\n",
              "       0.08130082, 0.03097299, 0.61612581, 0.2586588 , 0.86970106])"
            ]
          },
          "metadata": {},
          "execution_count": 152
        }
      ]
    },
    {
      "cell_type": "code",
      "source": [
        "y = y.reshape(-1,1)\n",
        "#y"
      ],
      "metadata": {
        "id": "LVYk8ohfGkPZ"
      },
      "execution_count": 154,
      "outputs": []
    },
    {
      "cell_type": "code",
      "source": [
        "X_list = []\n",
        "for i in range(len(y)):\n",
        "  X_list.append([i])"
      ],
      "metadata": {
        "id": "w_G8WXIqE4_n"
      },
      "execution_count": 155,
      "outputs": []
    },
    {
      "cell_type": "code",
      "source": [
        "#X_list"
      ],
      "metadata": {
        "id": "bSUsayB4Fto_"
      },
      "execution_count": 156,
      "outputs": []
    },
    {
      "cell_type": "code",
      "source": [
        "X = np.array(X_list).reshape(-1,1)\n",
        "#X"
      ],
      "metadata": {
        "id": "7YRe66YcIiNj"
      },
      "execution_count": 157,
      "outputs": []
    },
    {
      "cell_type": "code",
      "source": [
        "#to_predict_x= [101,102,103, 104, 105, 106, 107, 108, 109, 110]\n",
        "to_predict_x = []\n",
        "for i in range(len(y)):\n",
        "  to_predict_x.append([i+100])"
      ],
      "metadata": {
        "id": "a9cqFv44F9CE"
      },
      "execution_count": 158,
      "outputs": []
    },
    {
      "cell_type": "code",
      "source": [
        "#to_predict_x"
      ],
      "metadata": {
        "id": "05_0AM9YK70Q"
      },
      "execution_count": 188,
      "outputs": []
    },
    {
      "cell_type": "code",
      "source": [
        "to_predict_x= np.array(to_predict_x).reshape(-1,1)"
      ],
      "metadata": {
        "id": "nW1LqxoZGZPo"
      },
      "execution_count": 160,
      "outputs": []
    },
    {
      "cell_type": "code",
      "source": [
        "#to_predict_x"
      ],
      "metadata": {
        "id": "xV0OVrm7Gd1C"
      },
      "execution_count": 161,
      "outputs": []
    },
    {
      "cell_type": "code",
      "source": [
        "from sklearn.linear_model import LinearRegression"
      ],
      "metadata": {
        "id": "bsjOSpDSI4c2"
      },
      "execution_count": 162,
      "outputs": []
    },
    {
      "cell_type": "code",
      "source": [
        "regressor = LinearRegression()"
      ],
      "metadata": {
        "id": "Dk4c0cRxGehU"
      },
      "execution_count": 163,
      "outputs": []
    },
    {
      "cell_type": "code",
      "source": [
        "regressor.fit(X,y)"
      ],
      "metadata": {
        "colab": {
          "base_uri": "https://localhost:8080/"
        },
        "id": "ZJLykIBOI8LA",
        "outputId": "700bd79d-a2db-415b-c323-bb4cf9503785"
      },
      "execution_count": 164,
      "outputs": [
        {
          "output_type": "execute_result",
          "data": {
            "text/plain": [
              "LinearRegression()"
            ]
          },
          "metadata": {},
          "execution_count": 164
        }
      ]
    },
    {
      "cell_type": "code",
      "source": [
        "predicted_y= regressor.predict(to_predict_x)"
      ],
      "metadata": {
        "id": "CH59Ng_OI8oB"
      },
      "execution_count": 165,
      "outputs": []
    },
    {
      "cell_type": "code",
      "source": [
        "m= regressor.coef_\n",
        "c= regressor.intercept_\n",
        "print(\"slope (m): \",m)\n",
        "print(\"y-intercept (c): \",c)"
      ],
      "metadata": {
        "colab": {
          "base_uri": "https://localhost:8080/"
        },
        "id": "Nw_s7urqJKZ8",
        "outputId": "a6a24256-3198-47bd-c139-564ad7aab2b9"
      },
      "execution_count": 166,
      "outputs": [
        {
          "output_type": "stream",
          "name": "stdout",
          "text": [
            "slope (m):  [[0.00012398]]\n",
            "y-intercept (c):  [0.56829089]\n"
          ]
        }
      ]
    },
    {
      "cell_type": "markdown",
      "source": [
        "- Input (X,y)\n",
        "- Equation = m*x +c \n",
        "  - m= slope\n",
        "  - c= y_intercept"
      ],
      "metadata": {
        "id": "nueSzW7rt6YP"
      }
    },
    {
      "cell_type": "code",
      "source": [
        "new_y=[ m*i+c for i in np.append(X,to_predict_x)]\n",
        "new_y=np.array(new_y).reshape(-1,1)\n",
        "plt.plot(np.append(X,to_predict_x),new_y,color=\"green\")\n",
        "plt.show()"
      ],
      "metadata": {
        "colab": {
          "base_uri": "https://localhost:8080/",
          "height": 265
        },
        "id": "J7m1lGn9n-bb",
        "outputId": "a377e108-2bea-4468-b167-1723c57cc846"
      },
      "execution_count": 167,
      "outputs": [
        {
          "output_type": "display_data",
          "data": {
            "text/plain": [
              "<Figure size 432x288 with 1 Axes>"
            ],
            "image/png": "[encoded data removed]"
          },
          "metadata": {
            "needs_background": "light"
          }
        }
      ]
    },
    {
      "cell_type": "code",
      "source": [
        "#print(\"Predicted y Values:\\n\",predicted_y)"
      ],
      "metadata": {
        "id": "uKPLChbQJPQK"
      },
      "execution_count": 168,
      "outputs": []
    },
    {
      "cell_type": "code",
      "source": [
        "df_full['x']"
      ],
      "metadata": {
        "colab": {
          "base_uri": "https://localhost:8080/"
        },
        "id": "HfLWQfBwJxoj",
        "outputId": "8b5482b5-56fb-49f5-97ec-14a2450d5825"
      },
      "execution_count": 169,
      "outputs": [
        {
          "output_type": "execute_result",
          "data": {
            "text/plain": [
              "0     0.476104\n",
              "1     0.880127\n",
              "2     0.960823\n",
              "3     0.095116\n",
              "4     0.201423\n",
              "        ...   \n",
              "95    0.081301\n",
              "96    0.030973\n",
              "97    0.616126\n",
              "98    0.258659\n",
              "99    0.869701\n",
              "Name: x, Length: 100, dtype: float64"
            ]
          },
          "metadata": {},
          "execution_count": 169
        }
      ]
    },
    {
      "cell_type": "code",
      "source": [
        "np.array(df_full['x'])"
      ],
      "metadata": {
        "colab": {
          "base_uri": "https://localhost:8080/"
        },
        "id": "_uaKpCmbMu4z",
        "outputId": "3723b1c5-8830-42c9-e4ff-2f3fee82aeaf"
      },
      "execution_count": 170,
      "outputs": [
        {
          "output_type": "execute_result",
          "data": {
            "text/plain": [
              "array([0.47610448, 0.88012719, 0.96082326, 0.09511556, 0.20142301,\n",
              "       0.66278878, 0.61647993, 0.60272125, 0.89577035, 0.31581058,\n",
              "       0.00438273, 0.69865085, 0.66076878, 0.53599825, 0.16657409,\n",
              "       0.65933259, 0.7952566 , 0.56736603, 0.54968635, 0.6706534 ,\n",
              "       0.49508711, 0.49054237, 0.15788522, 0.62265571, 0.09403034,\n",
              "       0.82858136, 0.34518106, 0.84785515, 0.20664046, 0.8891928 ,\n",
              "       0.98515979, 0.39695229, 0.77927413, 0.59678919, 0.0733582 ,\n",
              "       0.91485736, 0.30860567, 0.99705667, 0.92823858, 0.95701308,\n",
              "       0.9912267 , 0.96822892, 0.41884321, 0.51550023, 0.49937041,\n",
              "       0.85130024, 0.32586053, 0.26209434, 0.35549061, 0.78129782,\n",
              "       0.45140445, 0.20875941, 0.95558468, 0.23132414, 0.66871237,\n",
              "       0.3630459 , 0.88842623, 0.2935851 , 0.01936294, 0.88633152,\n",
              "       0.76476875, 0.5445117 , 0.9733524 , 0.70613012, 0.56531581,\n",
              "       0.01296077, 0.92631033, 0.90902023, 0.72031133, 0.90811465,\n",
              "       0.59481738, 0.28715556, 0.2052264 , 0.83157968, 0.48035492,\n",
              "       0.45727509, 0.83797072, 0.7816698 , 0.51261361, 0.74047916,\n",
              "       0.73121529, 0.26023573, 0.61681846, 0.46020236, 0.44587643,\n",
              "       0.71743681, 0.21288644, 0.99137383, 0.77056361, 0.16907709,\n",
              "       0.76927956, 0.83164929, 0.61415493, 0.97951353, 0.38926407,\n",
              "       0.08130082, 0.03097299, 0.61612581, 0.2586588 , 0.86970106])"
            ]
          },
          "metadata": {},
          "execution_count": 170
        }
      ]
    },
    {
      "cell_type": "code",
      "source": [
        "#predicted_y"
      ],
      "metadata": {
        "id": "scOBxF1JMwAV"
      },
      "execution_count": 171,
      "outputs": []
    },
    {
      "cell_type": "code",
      "source": [
        "final_y = []\n",
        "for i in range(len(predicted_y)):\n",
        "  final_y.append(predicted_y[i][0])"
      ],
      "metadata": {
        "id": "Yzf25WnBrAgh"
      },
      "execution_count": 172,
      "outputs": []
    },
    {
      "cell_type": "code",
      "source": [
        "#final_y"
      ],
      "metadata": {
        "id": "2wsp8ZnzrPdB"
      },
      "execution_count": 173,
      "outputs": []
    },
    {
      "cell_type": "code",
      "source": [
        "final_x = np.concatenate([np.array(df_full['x']),  final_y])"
      ],
      "metadata": {
        "id": "6wutOHu7L-lW"
      },
      "execution_count": 174,
      "outputs": []
    },
    {
      "cell_type": "code",
      "source": [
        "#final_x"
      ],
      "metadata": {
        "id": "58DpAri8n1Gj"
      },
      "execution_count": 175,
      "outputs": []
    },
    {
      "cell_type": "code",
      "source": [
        "len(final_x)"
      ],
      "metadata": {
        "colab": {
          "base_uri": "https://localhost:8080/"
        },
        "id": "JaI2380kpdF4",
        "outputId": "895c0ce6-3a8d-4f26-b959-41a77f74f588"
      },
      "execution_count": 176,
      "outputs": [
        {
          "output_type": "execute_result",
          "data": {
            "text/plain": [
              "200"
            ]
          },
          "metadata": {},
          "execution_count": 176
        }
      ]
    },
    {
      "cell_type": "code",
      "source": [
        "noise = np.random.normal(0, 0.01, size=x.shape)\n",
        "# y = np.square(final_x) * np.square(final_x) + final_x + 1 # + noise\n",
        "# y = np.square(x) + x + 1 + noise\n",
        "# y = np.sin(2*np.pi*x) + noise\n",
        "y = np.cos(2*np.pi*x) + noise\n",
        "x = final_x"
      ],
      "metadata": {
        "id": "p9hSucC-NPkS"
      },
      "execution_count": 180,
      "outputs": []
    },
    {
      "cell_type": "code",
      "source": [
        "generate_numbers_plot(x,y)"
      ],
      "metadata": {
        "colab": {
          "base_uri": "https://localhost:8080/",
          "height": 383
        },
        "id": "Dz2HPaEyNYj-",
        "outputId": "454cb0c6-bc3c-47a1-cdc9-784017ef9bed"
      },
      "execution_count": 181,
      "outputs": [
        {
          "output_type": "display_data",
          "data": {
            "text/plain": [
              "<Figure size 1500x500 with 1 Axes>"
            ],
            "image/png": "[encoded data removed]"
          },
          "metadata": {
            "needs_background": "light"
          }
        }
      ]
    },
    {
      "cell_type": "code",
      "source": [
        "len(y)"
      ],
      "metadata": {
        "colab": {
          "base_uri": "https://localhost:8080/"
        },
        "id": "yVuntiUYo7xj",
        "outputId": "fe6c0a12-fe74-4705-d007-de36fd05d479"
      },
      "execution_count": 182,
      "outputs": [
        {
          "output_type": "execute_result",
          "data": {
            "text/plain": [
              "200"
            ]
          },
          "metadata": {},
          "execution_count": 182
        }
      ]
    },
    {
      "cell_type": "code",
      "source": [
        "all_values_new = []\n",
        "for i in range(len(x)):\n",
        "  color = 0\n",
        "  if i > 99:\n",
        "    color = 1\n",
        "  all_values_new.append([i, x[i], y[i], color])"
      ],
      "metadata": {
        "id": "fanhI1xPJYXs"
      },
      "execution_count": 183,
      "outputs": []
    },
    {
      "cell_type": "code",
      "source": [
        "#all_values_new"
      ],
      "metadata": {
        "id": "Zvxk1tn4MdPE"
      },
      "execution_count": 184,
      "outputs": []
    },
    {
      "cell_type": "code",
      "source": [
        "df_final = pd.DataFrame(all_values_new, columns=['sn', 'x', 'y', 'color'])\n",
        "df_final"
      ],
      "metadata": {
        "colab": {
          "base_uri": "https://localhost:8080/",
          "height": 424
        },
        "id": "VAcn1UDmoJYw",
        "outputId": "9f27c479-b206-4c69-9cf5-5842c0bfac6c"
      },
      "execution_count": 185,
      "outputs": [
        {
          "output_type": "execute_result",
          "data": {
            "text/plain": [
              "      sn         x         y  color\n",
              "0      0  0.476104 -0.976679      0\n",
              "1      1  0.880127  0.727927      0\n",
              "2      2  0.960823  0.976663      0\n",
              "3      3  0.095116  0.807722      0\n",
              "4      4  0.201423  0.281519      0\n",
              "..   ...       ...       ...    ...\n",
              "195  195  0.592467 -0.825816      1\n",
              "196  196  0.592591 -0.838796      1\n",
              "197  197  0.592715 -0.825728      1\n",
              "198  198  0.592839 -0.831947      1\n",
              "199  199  0.592963 -0.835365      1\n",
              "\n",
              "[200 rows x 4 columns]"
            ],
            "text/html": [
              "\n",
              "  <div id=\"df-89ff9df8-129d-4da3-83f4-bb4c6fce6a93\">\n",
              "    <div class=\"colab-df-container\">\n",
              "      <div>\n",
              "<style scoped>\n",
              "    .dataframe tbody tr th:only-of-type {\n",
              "        vertical-align: middle;\n",
              "    }\n",
              "\n",
              "    .dataframe tbody tr th {\n",
              "        vertical-align: top;\n",
              "    }\n",
              "\n",
              "    .dataframe thead th {\n",
              "        text-align: right;\n",
              "    }\n",
              "</style>\n",
              "<table border=\"1\" class=\"dataframe\">\n",
              "  <thead>\n",
              "    <tr style=\"text-align: right;\">\n",
              "      <th></th>\n",
              "      <th>sn</th>\n",
              "      <th>x</th>\n",
              "      <th>y</th>\n",
              "      <th>color</th>\n",
              "    </tr>\n",
              "  </thead>\n",
              "  <tbody>\n",
              "    <tr>\n",
              "      <th>0</th>\n",
              "      <td>0</td>\n",
              "      <td>0.476104</td>\n",
              "      <td>-0.976679</td>\n",
              "      <td>0</td>\n",
              "    </tr>\n",
              "    <tr>\n",
              "      <th>1</th>\n",
              "      <td>1</td>\n",
              "      <td>0.880127</td>\n",
              "      <td>0.727927</td>\n",
              "      <td>0</td>\n",
              "    </tr>\n",
              "    <tr>\n",
              "      <th>2</th>\n",
              "      <td>2</td>\n",
              "      <td>0.960823</td>\n",
              "      <td>0.976663</td>\n",
              "      <td>0</td>\n",
              "    </tr>\n",
              "    <tr>\n",
              "      <th>3</th>\n",
              "      <td>3</td>\n",
              "      <td>0.095116</td>\n",
              "      <td>0.807722</td>\n",
              "      <td>0</td>\n",
              "    </tr>\n",
              "    <tr>\n",
              "      <th>4</th>\n",
              "      <td>4</td>\n",
              "      <td>0.201423</td>\n",
              "      <td>0.281519</td>\n",
              "      <td>0</td>\n",
              "    </tr>\n",
              "    <tr>\n",
              "      <th>...</th>\n",
              "      <td>...</td>\n",
              "      <td>...</td>\n",
              "      <td>...</td>\n",
              "      <td>...</td>\n",
              "    </tr>\n",
              "    <tr>\n",
              "      <th>195</th>\n",
              "      <td>195</td>\n",
              "      <td>0.592467</td>\n",
              "      <td>-0.825816</td>\n",
              "      <td>1</td>\n",
              "    </tr>\n",
              "    <tr>\n",
              "      <th>196</th>\n",
              "      <td>196</td>\n",
              "      <td>0.592591</td>\n",
              "      <td>-0.838796</td>\n",
              "      <td>1</td>\n",
              "    </tr>\n",
              "    <tr>\n",
              "      <th>197</th>\n",
              "      <td>197</td>\n",
              "      <td>0.592715</td>\n",
              "      <td>-0.825728</td>\n",
              "      <td>1</td>\n",
              "    </tr>\n",
              "    <tr>\n",
              "      <th>198</th>\n",
              "      <td>198</td>\n",
              "      <td>0.592839</td>\n",
              "      <td>-0.831947</td>\n",
              "      <td>1</td>\n",
              "    </tr>\n",
              "    <tr>\n",
              "      <th>199</th>\n",
              "      <td>199</td>\n",
              "      <td>0.592963</td>\n",
              "      <td>-0.835365</td>\n",
              "      <td>1</td>\n",
              "    </tr>\n",
              "  </tbody>\n",
              "</table>\n",
              "<p>200 rows × 4 columns</p>\n",
              "</div>\n",
              "      <button class=\"colab-df-convert\" onclick=\"convertToInteractive('df-89ff9df8-129d-4da3-83f4-bb4c6fce6a93')\"\n",
              "              title=\"Convert this dataframe to an interactive table.\"\n",
              "              style=\"display:none;\">\n",
              "        \n",
              "  <svg xmlns=\"http://www.w3.org/2000/svg\" height=\"24px\"viewBox=\"0 0 24 24\"\n",
              "       width=\"24px\">\n",
              "    <path d=\"M0 0h24v24H0V0z\" fill=\"none\"/>\n",
              "    <path d=\"M18.56 5.44l.94 2.06.94-2.06 2.06-.94-2.06-.94-.94-2.06-.94 2.06-2.06.94zm-11 1L8.5 8.5l.94-2.06 2.06-.94-2.06-.94L8.5 2.5l-.94 2.06-2.06.94zm10 10l.94 2.06.94-2.06 2.06-.94-2.06-.94-.94-2.06-.94 2.06-2.06.94z\"/><path d=\"M17.41 7.96l-1.37-1.37c-.4-.4-.92-.59-1.43-.59-.52 0-1.04.2-1.43.59L10.3 9.45l-7.72 7.72c-.78.78-.78 2.05 0 2.83L4 21.41c.39.39.9.59 1.41.59.51 0 1.02-.2 1.41-.59l7.78-7.78 2.81-2.81c.8-.78.8-2.07 0-2.86zM5.41 20L4 18.59l7.72-7.72 1.47 1.35L5.41 20z\"/>\n",
              "  </svg>\n",
              "      </button>\n",
              "      \n",
              "  <style>\n",
              "    .colab-df-container {\n",
              "      display:flex;\n",
              "      flex-wrap:wrap;\n",
              "      gap: 12px;\n",
              "    }\n",
              "\n",
              "    .colab-df-convert {\n",
              "      background-color: #E8F0FE;\n",
              "      border: none;\n",
              "      border-radius: 50%;\n",
              "      cursor: pointer;\n",
              "      display: none;\n",
              "      fill: #1967D2;\n",
              "      height: 32px;\n",
              "      padding: 0 0 0 0;\n",
              "      width: 32px;\n",
              "    }\n",
              "\n",
              "    .colab-df-convert:hover {\n",
              "      background-color: #E2EBFA;\n",
              "      box-shadow: 0px 1px 2px rgba(60, 64, 67, 0.3), 0px 1px 3px 1px rgba(60, 64, 67, 0.15);\n",
              "      fill: #174EA6;\n",
              "    }\n",
              "\n",
              "    [theme=dark] .colab-df-convert {\n",
              "      background-color: #3B4455;\n",
              "      fill: #D2E3FC;\n",
              "    }\n",
              "\n",
              "    [theme=dark] .colab-df-convert:hover {\n",
              "      background-color: #434B5C;\n",
              "      box-shadow: 0px 1px 3px 1px rgba(0, 0, 0, 0.15);\n",
              "      filter: drop-shadow(0px 1px 2px rgba(0, 0, 0, 0.3));\n",
              "      fill: #FFFFFF;\n",
              "    }\n",
              "  </style>\n",
              "\n",
              "      <script>\n",
              "        const buttonEl =\n",
              "          document.querySelector('#df-89ff9df8-129d-4da3-83f4-bb4c6fce6a93 button.colab-df-convert');\n",
              "        buttonEl.style.display =\n",
              "          google.colab.kernel.accessAllowed ? 'block' : 'none';\n",
              "\n",
              "        async function convertToInteractive(key) {\n",
              "          const element = document.querySelector('#df-89ff9df8-129d-4da3-83f4-bb4c6fce6a93');\n",
              "          const dataTable =\n",
              "            await google.colab.kernel.invokeFunction('convertToInteractive',\n",
              "                                                     [key], {});\n",
              "          if (!dataTable) return;\n",
              "\n",
              "          const docLinkHtml = 'Like what you see? Visit the ' +\n",
              "            '<a target=\"_blank\" href=https://colab.research.google.com/notebooks/data_table.ipynb>data table notebook</a>'\n",
              "            + ' to learn more about interactive tables.';\n",
              "          element.innerHTML = '';\n",
              "          dataTable['output_type'] = 'display_data';\n",
              "          await google.colab.output.renderOutput(dataTable, element);\n",
              "          const docLink = document.createElement('div');\n",
              "          docLink.innerHTML = docLinkHtml;\n",
              "          element.appendChild(docLink);\n",
              "        }\n",
              "      </script>\n",
              "    </div>\n",
              "  </div>\n",
              "  "
            ]
          },
          "metadata": {},
          "execution_count": 185
        }
      ]
    },
    {
      "cell_type": "code",
      "source": [
        "fig, ax = plt.subplots(dpi=100, figsize=(12,5))\n",
        "plt.scatter(df_final['x'],df_final['y'].ravel(), c = df_final['color'])"
      ],
      "metadata": {
        "colab": {
          "base_uri": "https://localhost:8080/",
          "height": 455
        },
        "id": "CxMzKxMwpInw",
        "outputId": "fad06355-332e-4f86-840e-b49a956b003f"
      },
      "execution_count": 186,
      "outputs": [
        {
          "output_type": "execute_result",
          "data": {
            "text/plain": [
              "<matplotlib.collections.PathCollection at 0x7f37a1903dd0>"
            ]
          },
          "metadata": {},
          "execution_count": 186
        },
        {
          "output_type": "display_data",
          "data": {
            "text/plain": [
              "<Figure size 1200x500 with 1 Axes>"
            ],
            "image/png": "[encoded data removed]"
          },
          "metadata": {
            "needs_background": "light"
          }
        }
      ]
    },
    {
      "cell_type": "code",
      "source": [
        ""
      ],
      "metadata": {
        "id": "2rlf8N9Tr5A2"
      },
      "execution_count": null,
      "outputs": []
    }
  ]
}