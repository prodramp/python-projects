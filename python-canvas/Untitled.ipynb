{
 "cells": [
  {
   "cell_type": "code",
   "execution_count": 4,
   "id": "fdef6664",
   "metadata": {},
   "outputs": [],
   "source": [
    "import numpy as np\n",
    "from ipycanvas import Canvas, hold_canvas\n",
    "from math import pi, cos, sin, tan"
   ]
  },
  {
   "cell_type": "code",
   "execution_count": 2,
   "id": "39908fc9",
   "metadata": {},
   "outputs": [],
   "source": [
    "from ipywidgets import FloatSlider"
   ]
  },
  {
   "cell_type": "code",
   "execution_count": 5,
   "id": "f0aa424b",
   "metadata": {},
   "outputs": [],
   "source": [
    "def pad_ones(x, y, z):\n",
    "    return np.array([x, y, z, np.ones_like(x)])\n",
    "\n",
    "\n",
    "def normalize(vec):\n",
    "    return vec / np.linalg.norm(vec)\n",
    "\n",
    "\n",
    "def project_vector(x, y, z, matrix):\n",
    "    vec = np.dot(matrix, pad_ones(x, y, z))\n",
    "\n",
    "    return vec[0]/vec[3], vec[1]/vec[3], vec[2]/vec[3]\n",
    "\n",
    "\n",
    "def get_look_at_matrix(eye, center, up):\n",
    "    n = normalize(eye - center)\n",
    "    u = normalize(np.cross(up, n))\n",
    "    v = np.cross(n, u)\n",
    "\n",
    "    matrix_r = [[u[0], u[1], u[2], 0],\n",
    "                [v[0], v[1], v[2], 0],\n",
    "                [n[0], n[1], n[2], 0],\n",
    "                [0,    0,    0,    1]]\n",
    "\n",
    "    matrix_t = [[1, 0, 0, -eye[0]],\n",
    "                [0, 1, 0, -eye[1]],\n",
    "                [0, 0, 1, -eye[2]],\n",
    "                [0, 0, 0, 1]]\n",
    "\n",
    "    return np.dot(matrix_r, matrix_t)\n",
    "\n",
    "\n",
    "def get_perspective_matrix(fovy, aspect, near, far):\n",
    "    f = 1. / tan(fovy * pi / 360.)\n",
    "\n",
    "    return np.array([\n",
    "        [f/aspect, 0,                           0,                           0],\n",
    "        [       0, f,                           0,                           0],\n",
    "        [       0, 0,   (near + far)/(near - far), 2 * near * far/(near - far)],\n",
    "        [       0, 0,                          -1,                           0]\n",
    "    ])\n",
    "\n",
    "\n",
    "class OrbitCamera():\n",
    "\n",
    "    def __init__(self, radius, center, aspect, near=0, far=8):\n",
    "        self.radius = radius\n",
    "        self.center = np.array(center)\n",
    "        self.aspect = aspect\n",
    "        self.near = near\n",
    "        self.far = far\n",
    "\n",
    "        self.update_position(0, 0)\n",
    "\n",
    "    def update_position(self, elev, azim):\n",
    "        self.elev = elev\n",
    "        self.azim = azim\n",
    "\n",
    "        relev, razim = np.pi * self.elev/180, np.pi * self.azim/180\n",
    "\n",
    "        xp = self.center[0] + cos(razim) * cos(relev) * self.radius\n",
    "        yp = self.center[1] + sin(razim) * cos(relev) * self.radius\n",
    "        zp = self.center[2] + sin(relev) * self.radius\n",
    "\n",
    "        self.position = np.array((xp, yp, zp))\n",
    "        self.front = self.center - self.position\n",
    "\n",
    "        if abs(relev) > pi / 2.:\n",
    "            self.up = np.array((0, 0, -1))\n",
    "        else:\n",
    "            self.up = np.array((0, 0, 1))\n",
    "\n",
    "        self.update_matrix()\n",
    "\n",
    "    def update_matrix(self):\n",
    "        self.view_matrix = get_look_at_matrix(self.position, self.center, self.up)\n",
    "        self.projection_matrix = get_perspective_matrix(50, self.aspect, self.near, self.far)\n",
    "        self.matrix = np.dot(self.projection_matrix, self.view_matrix)"
   ]
  },
  {
   "cell_type": "code",
   "execution_count": 8,
   "id": "95f3d0c4",
   "metadata": {},
   "outputs": [],
   "source": [
    "class Plot3d(Canvas):\n",
    "    def __init__(self):\n",
    "        super(Plot3d, self).__init__(width=500, height=500)\n",
    "\n",
    "        self.dragging = False\n",
    "\n",
    "        self.n = 200\n",
    "        self.x = np.random.rand(self.n) - 0.5\n",
    "        self.y = np.random.rand(self.n) - 0.5\n",
    "        self.z = np.random.rand(self.n) - 0.5\n",
    "\n",
    "        self.dx = 0\n",
    "        self.dy = 0\n",
    "        self.radius = 10\n",
    "\n",
    "        self.camera = OrbitCamera(self.radius, [0, 0, 0], self.width / self.height)\n",
    "        self.x2, self.y2, self.z2 = project_vector(\n",
    "            self.x, self.y, self.z, self.camera.matrix\n",
    "        )\n",
    "        self.draw()\n",
    "\n",
    "        self.on_mouse_down(self.mouse_down_handler)\n",
    "        self.on_mouse_move(self.mouse_move_handler)\n",
    "        self.on_mouse_up(self.mouse_up_handler)\n",
    "        self.on_mouse_out(self.mouse_out_handler)\n",
    "\n",
    "    def update_matrix(self, dx=None, dy=None, radius=None):\n",
    "        dx = dx if dx is not None else self.dx\n",
    "        dy = dy if dy is not None else self.dy\n",
    "        self.radius = radius if radius is not None else self.radius\n",
    "\n",
    "        self.camera.radius = self.radius\n",
    "        self.camera.update_position(dy, dx)\n",
    "        self.x2, self.y2, self.z2 = project_vector(\n",
    "            self.x, self.y, self.z, self.camera.matrix\n",
    "        )\n",
    "        self.draw()\n",
    "\n",
    "    def draw(self):\n",
    "        x = self.x2 * self.width + self.width / 2\n",
    "        y = self.y2 * self.height + self.height / 2\n",
    "        with hold_canvas(self):\n",
    "            self.clear()\n",
    "            self.fill_circles(x, y, 2)\n",
    "\n",
    "    def mouse_down_handler(self, pixel_x, pixel_y):\n",
    "        self.dragging = True\n",
    "        self.x_mouse = pixel_x\n",
    "        self.y_mouse = pixel_y\n",
    "\n",
    "    def mouse_move_handler(self, pixel_x, pixel_y):\n",
    "        if self.dragging:\n",
    "            self.dx_new = self.dx + pixel_x - self.x_mouse\n",
    "            self.dy_new = self.dy + pixel_y - self.y_mouse\n",
    "\n",
    "            self.update_matrix(self.dx_new, self.dy_new)\n",
    "\n",
    "    def mouse_up_handler(self, pixel_x, pixel_y):\n",
    "        if self.dragging:\n",
    "            self.dragging = False\n",
    "            self.dx = self.dx_new\n",
    "            self.dy = self.dy_new\n",
    "\n",
    "    def mouse_out_handler(self, pixel_x, pixel_y):\n",
    "        if self.dragging:\n",
    "            self.dragging = False\n",
    "            self.dx = self.dx_new\n",
    "            self.dy = self.dy_new"
   ]
  },
  {
   "cell_type": "code",
   "execution_count": 9,
   "id": "7e5f3a46",
   "metadata": {},
   "outputs": [
    {
     "data": {
      "application/vnd.jupyter.widget-view+json": {
       "model_id": "62abd213872d44c78be35d98cc769701",
       "version_major": 2,
       "version_minor": 0
      },
      "text/plain": [
       "Plot3d(width=500)"
      ]
     },
     "metadata": {},
     "output_type": "display_data"
    }
   ],
   "source": [
    "p = Plot3d()\n",
    "p"
   ]
  },
  {
   "cell_type": "code",
   "execution_count": 10,
   "id": "26efab70",
   "metadata": {},
   "outputs": [
    {
     "data": {
      "application/vnd.jupyter.widget-view+json": {
       "model_id": "ef8de16b6b3b472e878bc05887ba619c",
       "version_major": 2,
       "version_minor": 0
      },
      "text/plain": [
       "FloatSlider(value=7.0, description='Radius:', max=7.0, min=1.0)"
      ]
     },
     "metadata": {},
     "output_type": "display_data"
    }
   ],
   "source": [
    "# Link Camera position to a slider widget\n",
    "slider = FloatSlider(description=\"Radius:\", min=1.0, max=7.0, value=p.radius)\n",
    "\n",
    "\n",
    "def on_slider_move(change):\n",
    "    slider_value = change[\"new\"]\n",
    "\n",
    "    p.update_matrix(radius=slider_value)\n",
    "\n",
    "\n",
    "slider.observe(on_slider_move, \"value\")\n",
    "\n",
    "slider"
   ]
  },
  {
   "cell_type": "code",
   "execution_count": null,
   "id": "b7d7541d",
   "metadata": {},
   "outputs": [],
   "source": []
  }
 ],
 "metadata": {
  "kernelspec": {
   "display_name": "Python 3 (ipykernel)",
   "language": "python",
   "name": "python3"
  },
  "language_info": {
   "codemirror_mode": {
    "name": "ipython",
    "version": 3
   },
   "file_extension": ".py",
   "mimetype": "text/x-python",
   "name": "python",
   "nbconvert_exporter": "python",
   "pygments_lexer": "ipython3",
   "version": "3.9.7"
  }
 },
 "nbformat": 4,
 "nbformat_minor": 5
}
