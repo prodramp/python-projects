{
 "cells": [
  {
   "cell_type": "code",
   "execution_count": 14,
   "id": "78e3167f",
   "metadata": {},
   "outputs": [],
   "source": [
    "from ipyleaflet import Map, Heatmap, TileLayer\n",
    "from random import uniform\n",
    "import time"
   ]
  },
  {
   "cell_type": "code",
   "execution_count": null,
   "id": "84fe34d2",
   "metadata": {},
   "outputs": [],
   "source": []
  },
  {
   "cell_type": "code",
   "execution_count": 2,
   "id": "1d4c860d",
   "metadata": {},
   "outputs": [],
   "source": [
    "def create_random_data(length):\n",
    "    \"Return a list of some random lat/lon/value triples.\"\n",
    "    return [\n",
    "        [uniform(-80, 80), uniform(-180, 180), uniform(0, 1000)] for i in range(length)\n",
    "    ]"
   ]
  },
  {
   "cell_type": "code",
   "execution_count": 16,
   "id": "ad130fdc",
   "metadata": {},
   "outputs": [
    {
     "data": {
      "application/vnd.jupyter.widget-view+json": {
       "model_id": "2e28932ec3ae462dba9a9f64d618ab60",
       "version_major": 2,
       "version_minor": 0
      },
      "text/plain": [
       "Map(center=[-27.4698, 153.0251], controls=(ZoomControl(options=['position', 'zoom_in_text', 'zoom_in_title', '…"
      ]
     },
     "metadata": {},
     "output_type": "display_data"
    }
   ],
   "source": [
    "#m = Map(center=[0, 0], zoom=2)\n",
    "MAPBOX_TOKEN = 'pk.eyJ1IjoiZm9kZ2Fib3JtYXRoIiwiYSI6ImNrZmY3Nzc2bjBiemkyeG8zdGNzcXgzMGIifQ.J0dZhMiuZTPVexL8nrpS6Q'\n",
    "url = \"https://api.mapbox.com/v4/mapbox.outdoors/{z}/{x}/{y}.png?access_token=%s\" +MAPBOX_TOKEN\n",
    "provider = TileLayer(url=url, opacity=1)\n",
    "m = Map(default_tiles=provider, center=(-27.4698, 153.0251), zoom=5)\n",
    "m.layout.height = '600px'\n",
    "m\n",
    "m"
   ]
  },
  {
   "cell_type": "code",
   "execution_count": 4,
   "id": "1c1728e8",
   "metadata": {},
   "outputs": [],
   "source": [
    "heat = Heatmap(locations=create_random_data(1000), radius=20, blur=10)\n",
    "m.add_layer(heat)"
   ]
  },
  {
   "cell_type": "code",
   "execution_count": 5,
   "id": "c833f626",
   "metadata": {},
   "outputs": [],
   "source": [
    "for i in range(100):\n",
    "    heat.locations = create_random_data(1000)\n",
    "    time.sleep(0.1)"
   ]
  },
  {
   "cell_type": "code",
   "execution_count": 6,
   "id": "bc60eaff",
   "metadata": {},
   "outputs": [],
   "source": [
    "heat.radius = 30"
   ]
  },
  {
   "cell_type": "code",
   "execution_count": 7,
   "id": "36190dc5",
   "metadata": {},
   "outputs": [],
   "source": [
    "heat.blur = 50"
   ]
  },
  {
   "cell_type": "code",
   "execution_count": 8,
   "id": "8bd0e5ba",
   "metadata": {},
   "outputs": [],
   "source": [
    "heat.max = 0.5"
   ]
  },
  {
   "cell_type": "code",
   "execution_count": 9,
   "id": "763db513",
   "metadata": {},
   "outputs": [],
   "source": [
    "heat.gradient = {0.4: \"red\", 0.6: \"yellow\", 0.7: \"lime\", 0.8: \"cyan\", 1.0: \"blue\"}"
   ]
  },
  {
   "cell_type": "code",
   "execution_count": 11,
   "id": "0dced847",
   "metadata": {},
   "outputs": [],
   "source": [
    "heat.locations = [\n",
    "    [uniform(-80, 80), uniform(-180, 180), uniform(0, 1000)] for i in range(1000)\n",
    "]"
   ]
  },
  {
   "cell_type": "code",
   "execution_count": null,
   "id": "3e8b8c04",
   "metadata": {},
   "outputs": [],
   "source": []
  }
 ],
 "metadata": {
  "kernelspec": {
   "display_name": "Python 3 (ipykernel)",
   "language": "python",
   "name": "python3"
  },
  "language_info": {
   "codemirror_mode": {
    "name": "ipython",
    "version": 3
   },
   "file_extension": ".py",
   "mimetype": "text/x-python",
   "name": "python",
   "nbconvert_exporter": "python",
   "pygments_lexer": "ipython3",
   "version": "3.9.7"
  }
 },
 "nbformat": 4,
 "nbformat_minor": 5
}
