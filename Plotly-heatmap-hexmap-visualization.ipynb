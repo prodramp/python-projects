{
 "cells": [
  {
   "cell_type": "code",
   "execution_count": null,
   "metadata": {},
   "outputs": [],
   "source": [
    "import pandas as pd\n",
    "from datetime import datetime"
   ]
  },
  {
   "cell_type": "code",
   "execution_count": null,
   "metadata": {},
   "outputs": [],
   "source": [
    "!ls ../../modin/mix_fire.csv"
   ]
  },
  {
   "cell_type": "markdown",
   "metadata": {},
   "source": [
    "### Note: This dataset is about is 700MB compressed and 3.2GB uncompressed with 37M records\n",
    "- Please contact me either @prodramp twitter or use YouTube comment from this turorial and I will send you the google drive link for get this dataset\n",
    "- I am in process to create full global hotspot dataset with over 250M records and store at Kaggle. Please kaggle for that dataset, I will try to update here too if I could make it. \n",
    "- Thanks.\n"
   ]
  },
  {
   "cell_type": "code",
   "execution_count": null,
   "metadata": {},
   "outputs": [],
   "source": [
    "source = \"../../modin/mix_fire.csv\""
   ]
  },
  {
   "cell_type": "code",
   "execution_count": null,
   "metadata": {},
   "outputs": [],
   "source": [
    "df = pd.read_csv(source, low_memory=False)"
   ]
  },
  {
   "cell_type": "code",
   "execution_count": null,
   "metadata": {},
   "outputs": [],
   "source": [
    "df"
   ]
  },
  {
   "cell_type": "code",
   "execution_count": null,
   "metadata": {},
   "outputs": [],
   "source": [
    "df['acq_date'] = pd.to_datetime(df['acq_date'])"
   ]
  },
  {
   "cell_type": "code",
   "execution_count": null,
   "metadata": {},
   "outputs": [],
   "source": [
    "daily_df = df.groupby(\n",
    "            ['latitude', 'longitude', 'acq_date', 'satellite', 'instrument']).confidence.max().reset_index()"
   ]
  },
  {
   "cell_type": "code",
   "execution_count": null,
   "metadata": {},
   "outputs": [],
   "source": [
    "daily_df"
   ]
  },
  {
   "cell_type": "code",
   "execution_count": null,
   "metadata": {},
   "outputs": [],
   "source": [
    "daily_df['year'] = daily_df.acq_date.dt.year"
   ]
  },
  {
   "cell_type": "code",
   "execution_count": null,
   "metadata": {},
   "outputs": [],
   "source": [
    "daily_df['month'] = daily_df.acq_date.dt.month"
   ]
  },
  {
   "cell_type": "code",
   "execution_count": null,
   "metadata": {},
   "outputs": [],
   "source": [
    "PRECISION = 1"
   ]
  },
  {
   "cell_type": "code",
   "execution_count": null,
   "metadata": {},
   "outputs": [],
   "source": [
    "# Selecting only 4 columns \n",
    "df = daily_df[['latitude', 'longitude', 'acq_date', 'confidence']]\n",
    "\n",
    "# setting up the each data point of about 10sq KM by using single decimal precision\n",
    "df.latitude = df.latitude.round(PRECISION)\n",
    "df.longitude = df.longitude.round(PRECISION)\n",
    "\n",
    "# Getting year and month from the date and creating new columns\n",
    "df['year'] = df.acq_date.dt.year\n",
    "df['month'] = df.acq_date.dt.month\n",
    "\n",
    "# grouping data on 4 selected fields\n",
    "total_fires = df.groupby(['latitude', 'longitude', 'year', 'month']).size().reset_index()\n",
    "# reseting the last size column name to fire_count\n",
    "total_fires.columns = ['latitude', 'longitude', 'year', 'month', 'fire_count']\n",
    "\n",
    "# creating yearly and total fire count with groupBy\n",
    "yearly_fires = total_fires.groupby(['longitude', 'latitude', 'year', ]).count().reset_index()\n",
    "global_fires = total_fires.groupby(['latitude', 'longitude']).sum().reset_index()"
   ]
  },
  {
   "cell_type": "code",
   "execution_count": null,
   "metadata": {},
   "outputs": [],
   "source": [
    "yearly_fires"
   ]
  },
  {
   "cell_type": "code",
   "execution_count": null,
   "metadata": {},
   "outputs": [],
   "source": [
    "global_fires"
   ]
  },
  {
   "cell_type": "markdown",
   "metadata": {},
   "source": [
    "### each 0 decimal is about 110Km and 1 decimal place in longitude and latitude is about 11KM distance\n",
    "- http://wiki.gis.com/wiki/index.php/Decimal_degrees"
   ]
  },
  {
   "cell_type": "code",
   "execution_count": null,
   "metadata": {},
   "outputs": [],
   "source": [
    "total_fires_100 = total_fires\n",
    "total_fires_100.latitude = total_fires_100.latitude.round(0)\n",
    "total_fires_100.longitude = total_fires_100.longitude.round(0)\n",
    "total_fires_100"
   ]
  },
  {
   "cell_type": "code",
   "execution_count": null,
   "metadata": {},
   "outputs": [],
   "source": [
    "total_fires_100 = total_fires_100.groupby(['latitude', 'longitude'])['fire_count'].sum().reset_index()\n",
    "total_fires_100"
   ]
  },
  {
   "cell_type": "markdown",
   "metadata": {},
   "source": [
    "### Please visit to https://mapbox.com if following this MAPBOX_TOKEN is invalid"
   ]
  },
  {
   "cell_type": "code",
   "execution_count": null,
   "metadata": {},
   "outputs": [],
   "source": [
    "import plotly.express as px\n",
    "import plotly.figure_factory as ff\n",
    "import numpy as np\n",
    "MAPBOX_TOKEN = 'pk.eyJ1IjoiZm9kZ2Fib3JtYXRoIiwiYSI6ImNrZmY3Nzc2bjBiemkyeG8zdGNzcXgzMGIifQ.J0dZhMiuZTPVexL8nrpS6Q'\n",
    "px.set_mapbox_access_token(MAPBOX_TOKEN)"
   ]
  },
  {
   "cell_type": "code",
   "execution_count": null,
   "metadata": {},
   "outputs": [],
   "source": [
    "fig = px.scatter_geo(total_fires_100, \n",
    "                     lon = total_fires_100['longitude'],\n",
    "                     lat = total_fires_100['latitude'], \n",
    "                     color=\"fire_count\",\n",
    "                     hover_name=\"fire_count\", size=\"fire_count\",\n",
    "                     projection=\"natural earth\")\n",
    "fig.show()"
   ]
  },
  {
   "cell_type": "code",
   "execution_count": null,
   "metadata": {},
   "outputs": [],
   "source": [
    "fig = ff.create_hexbin_mapbox(\n",
    "    data_frame=global_fires, lat='latitude', lon='longitude',\n",
    "    nx_hexagon=150, opacity=0.9, labels={\"color\": \"Hotspot records\"},\n",
    "    color='fire_count', agg_func=np.sum, color_continuous_scale=\"Reds\"\n",
    ")\n",
    "fig.show()"
   ]
  },
  {
   "cell_type": "code",
   "execution_count": null,
   "metadata": {},
   "outputs": [],
   "source": [
    "global_fires.columns"
   ]
  },
  {
   "cell_type": "code",
   "execution_count": null,
   "metadata": {},
   "outputs": [],
   "source": [
    "fig = px.density_mapbox(global_fires, lat='latitude', lon='longitude', z='fire_count', radius=10,\n",
    "                        center=dict(lat=0, lon=180), zoom=0,\n",
    "                        mapbox_style=\"stamen-terrain\")\n",
    "fig.show()"
   ]
  },
  {
   "cell_type": "code",
   "execution_count": null,
   "metadata": {},
   "outputs": [],
   "source": []
  }
 ],
 "metadata": {
  "kernelspec": {
   "display_name": "Python 3",
   "language": "python",
   "name": "python3"
  },
  "language_info": {
   "codemirror_mode": {
    "name": "ipython",
    "version": 3
   },
   "file_extension": ".py",
   "mimetype": "text/x-python",
   "name": "python",
   "nbconvert_exporter": "python",
   "pygments_lexer": "ipython3",
   "version": "3.7.6"
  }
 },
 "nbformat": 4,
 "nbformat_minor": 4
}
