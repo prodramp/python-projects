{
  "nbformat": 4,
  "nbformat_minor": 0,
  "metadata": {
    "colab": {
      "name": "CNN_billion_params.ipynb",
      "provenance": [],
      "collapsed_sections": [],
      "authorship_tag": "ABX9TyN6tX+ikKFJtPIbMM91pIyU",
      "include_colab_link": true
    },
    "kernelspec": {
      "name": "python3",
      "display_name": "Python 3"
    },
    "language_info": {
      "name": "python"
    }
  },
  "cells": [
    {
      "cell_type": "markdown",
      "metadata": {
        "id": "view-in-github",
        "colab_type": "text"
      },
      "source": [
        "<a href=\"https://colab.research.google.com/github/prodramp/python-projects/blob/main/deeplearning%20/billion-params/CNN_billion_params.ipynb\" target=\"_parent\"><img src=\"https://colab.research.google.com/assets/colab-badge.svg\" alt=\"Open In Colab\"/></a>"
      ]
    },
    {
      "cell_type": "code",
      "execution_count": 1,
      "metadata": {
        "id": "QLxKDAd_cie2"
      },
      "outputs": [],
      "source": [
        "import tensorflow as tf\n",
        "from tensorflow.keras.layers import Input, Dense, Conv2D, MaxPooling2D, Flatten, Dropout \n",
        "from keras.models import Sequential, Model"
      ]
    },
    {
      "cell_type": "code",
      "source": [
        "model_cnn = Sequential([\n",
        "    Conv2D(128, 3, input_shape=(256,256,1), use_bias=True ),\n",
        "    # 3*3 * 128 + 1*128 =  Parameters = 1280\n",
        "    MaxPooling2D(pool_size=2),\n",
        "    #  output = 127, 127, 128\n",
        "\n",
        "    Conv2D(256, 3, use_bias=True ),\n",
        "    # 3 * 3 * 256 + 128 * 256 = 295168\n",
        "    MaxPooling2D(pool_size=2),\n",
        "    # 62, 62, 256\n",
        "    Flatten(),\n",
        "    # 62 * 62 * 256 = 984064\n",
        "    Dropout(0.5),\n",
        "    # 984064\n",
        "    Dense(1000, activation='softmax')\n",
        "    # 984064 * 1 = 984,064,000\n",
        "])"
      ],
      "metadata": {
        "id": "yeGASXdfQAGB"
      },
      "execution_count": 2,
      "outputs": []
    },
    {
      "cell_type": "code",
      "source": [
        "model_cnn.summary()"
      ],
      "metadata": {
        "colab": {
          "base_uri": "https://localhost:8080/"
        },
        "id": "UK2uL-zjQAL_",
        "outputId": "1b0567c4-0f71-4b07-8337-aee6a946b67f"
      },
      "execution_count": 3,
      "outputs": [
        {
          "output_type": "stream",
          "name": "stdout",
          "text": [
            "Model: \"sequential\"\n",
            "_________________________________________________________________\n",
            " Layer (type)                Output Shape              Param #   \n",
            "=================================================================\n",
            " conv2d (Conv2D)             (None, 254, 254, 128)     1280      \n",
            "                                                                 \n",
            " max_pooling2d (MaxPooling2D  (None, 127, 127, 128)    0         \n",
            " )                                                               \n",
            "                                                                 \n",
            " conv2d_1 (Conv2D)           (None, 125, 125, 256)     295168    \n",
            "                                                                 \n",
            " max_pooling2d_1 (MaxPooling  (None, 62, 62, 256)      0         \n",
            " 2D)                                                             \n",
            "                                                                 \n",
            " flatten (Flatten)           (None, 984064)            0         \n",
            "                                                                 \n",
            " dropout (Dropout)           (None, 984064)            0         \n",
            "                                                                 \n",
            " dense (Dense)               (None, 1000)              984065000 \n",
            "                                                                 \n",
            "=================================================================\n",
            "Total params: 984,361,448\n",
            "Trainable params: 984,361,448\n",
            "Non-trainable params: 0\n",
            "_________________________________________________________________\n"
          ]
        }
      ]
    },
    {
      "cell_type": "code",
      "source": [
        "model_cnn = Sequential([\n",
        "    Conv2D(1024, 3, input_shape=(128,128,1), use_bias=True ),\n",
        "    # 3*3 * 1024 + 1*1024 =  Parameters = 10240\n",
        "    MaxPooling2D(pool_size=4),\n",
        "    # Input size = 31,31,1024\n",
        "    Flatten(),\n",
        "    # Params = 31*31*1024 = 984064\n",
        "    Dropout(0.5),\n",
        "    # 984064\n",
        "    Dense(1000, activation='softmax')\n",
        "    # 984064 * 1000 =  984,075,240 Parameters\n",
        "])"
      ],
      "metadata": {
        "id": "elr7VflzHxni"
      },
      "execution_count": 2,
      "outputs": []
    },
    {
      "cell_type": "code",
      "source": [
        "model_cnn.summary()"
      ],
      "metadata": {
        "id": "pWZk157PdIBV",
        "colab": {
          "base_uri": "https://localhost:8080/"
        },
        "outputId": "bde59d2a-79e2-4084-ed57-6ab3f02157ad"
      },
      "execution_count": 3,
      "outputs": [
        {
          "output_type": "stream",
          "name": "stdout",
          "text": [
            "Model: \"sequential\"\n",
            "_________________________________________________________________\n",
            " Layer (type)                Output Shape              Param #   \n",
            "=================================================================\n",
            " conv2d (Conv2D)             (None, 126, 126, 1024)    10240     \n",
            "                                                                 \n",
            " max_pooling2d (MaxPooling2D  (None, 31, 31, 1024)     0         \n",
            " )                                                               \n",
            "                                                                 \n",
            " flatten (Flatten)           (None, 984064)            0         \n",
            "                                                                 \n",
            " dropout (Dropout)           (None, 984064)            0         \n",
            "                                                                 \n",
            " dense (Dense)               (None, 1000)              984065000 \n",
            "                                                                 \n",
            "=================================================================\n",
            "Total params: 984,075,240\n",
            "Trainable params: 984,075,240\n",
            "Non-trainable params: 0\n",
            "_________________________________________________________________\n"
          ]
        }
      ]
    },
    {
      "cell_type": "code",
      "source": [
        ""
      ],
      "metadata": {
        "id": "STN_Kb1ddLNu"
      },
      "execution_count": 4,
      "outputs": []
    },
    {
      "cell_type": "code",
      "source": [
        ""
      ],
      "metadata": {
        "id": "aCrmGMt7clFF"
      },
      "execution_count": null,
      "outputs": []
    },
    {
      "cell_type": "code",
      "source": [
        ""
      ],
      "metadata": {
        "id": "62ffmaFTcqbp"
      },
      "execution_count": null,
      "outputs": []
    },
    {
      "cell_type": "code",
      "source": [
        ""
      ],
      "metadata": {
        "id": "ajGMmO2vedSu"
      },
      "execution_count": null,
      "outputs": []
    }
  ]
}