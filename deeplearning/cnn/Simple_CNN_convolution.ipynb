{
  "nbformat": 4,
  "nbformat_minor": 0,
  "metadata": {
    "colab": {
      "name": "Simple_CNN_convolution.ipynb",
      "provenance": [],
      "collapsed_sections": [],
      "authorship_tag": "ABX9TyORl5eM7RKFa97tWV2Rs2Ea",
      "include_colab_link": true
    },
    "kernelspec": {
      "name": "python3",
      "display_name": "Python 3"
    },
    "language_info": {
      "name": "python"
    }
  },
  "cells": [
    {
      "cell_type": "markdown",
      "metadata": {
        "id": "view-in-github",
        "colab_type": "text"
      },
      "source": [
        "<a href=\"https://colab.research.google.com/github/prodramp/python-projects/blob/main/deeplearning/cnn/Simple_CNN_convolution.ipynb\" target=\"_parent\"><img src=\"https://colab.research.google.com/assets/colab-badge.svg\" alt=\"Open In Colab\"/></a>"
      ]
    },
    {
      "cell_type": "code",
      "execution_count": 1,
      "metadata": {
        "id": "S5nlrkwO_r-9"
      },
      "outputs": [],
      "source": [
        "import tensorflow as tf\n",
        "from tensorflow.keras.layers import Input, Dense, Conv2D, MaxPooling2D, Flatten, Dropout \n",
        "from keras.models import Sequential, Model"
      ]
    },
    {
      "cell_type": "code",
      "source": [
        "model_cnn = Sequential([\n",
        "    Conv2D(64, 3, input_shape=(128,128,1), use_bias=True ),\n",
        "    MaxPooling2D(pool_size=4),\n",
        "    Flatten(),\n",
        "    Dropout(0.5),\n",
        "    Dense(1, activation='softmax')\n",
        "])"
      ],
      "metadata": {
        "id": "xI4WpEF5_2Au"
      },
      "execution_count": 2,
      "outputs": []
    },
    {
      "cell_type": "code",
      "source": [
        "model_cnn.summary()"
      ],
      "metadata": {
        "colab": {
          "base_uri": "https://localhost:8080/"
        },
        "id": "HI83ps_m_5mh",
        "outputId": "91f5e3bf-2387-49fa-d33d-03977e60c6c4"
      },
      "execution_count": 3,
      "outputs": [
        {
          "output_type": "stream",
          "name": "stdout",
          "text": [
            "Model: \"sequential\"\n",
            "_________________________________________________________________\n",
            " Layer (type)                Output Shape              Param #   \n",
            "=================================================================\n",
            " conv2d (Conv2D)             (None, 126, 126, 64)      640       \n",
            "                                                                 \n",
            " max_pooling2d (MaxPooling2D  (None, 31, 31, 64)       0         \n",
            " )                                                               \n",
            "                                                                 \n",
            " flatten (Flatten)           (None, 61504)             0         \n",
            "                                                                 \n",
            " dropout (Dropout)           (None, 61504)             0         \n",
            "                                                                 \n",
            " dense (Dense)               (None, 1)                 61505     \n",
            "                                                                 \n",
            "=================================================================\n",
            "Total params: 62,145\n",
            "Trainable params: 62,145\n",
            "Non-trainable params: 0\n",
            "_________________________________________________________________\n"
          ]
        }
      ]
    },
    {
      "cell_type": "code",
      "source": [
        "model_cnn.save('simple_cnn.h5')"
      ],
      "metadata": {
        "colab": {
          "base_uri": "https://localhost:8080/"
        },
        "id": "NJRA-LcadpMW",
        "outputId": "c626663b-4085-4b01-bc7f-3dbd0c264b12"
      },
      "execution_count": 41,
      "outputs": [
        {
          "output_type": "stream",
          "name": "stdout",
          "text": [
            "WARNING:tensorflow:Compiled the loaded model, but the compiled metrics have yet to be built. `model.compile_metrics` will be empty until you train or evaluate the model.\n"
          ]
        }
      ]
    },
    {
      "cell_type": "code",
      "source": [
        "input_shape = (4, 28, 28, 3)"
      ],
      "metadata": {
        "id": "Ft_WfNNp_6LT"
      },
      "execution_count": 4,
      "outputs": []
    },
    {
      "cell_type": "code",
      "source": [
        "x = tf.random.normal(input_shape)"
      ],
      "metadata": {
        "id": "XMWAHKteBzvz"
      },
      "execution_count": 5,
      "outputs": []
    },
    {
      "cell_type": "code",
      "source": [
        "x.shape"
      ],
      "metadata": {
        "colab": {
          "base_uri": "https://localhost:8080/"
        },
        "id": "txqo7lcmVCtq",
        "outputId": "9e787240-353c-4b9d-e4dd-c7a6071a8bc7"
      },
      "execution_count": 6,
      "outputs": [
        {
          "output_type": "execute_result",
          "data": {
            "text/plain": [
              "TensorShape([4, 28, 28, 3])"
            ]
          },
          "metadata": {},
          "execution_count": 6
        }
      ]
    },
    {
      "cell_type": "code",
      "source": [
        "input_shape[1:]"
      ],
      "metadata": {
        "colab": {
          "base_uri": "https://localhost:8080/"
        },
        "id": "i_2x8g8UCGTl",
        "outputId": "f1160d96-a245-45e4-cecd-18337e31b309"
      },
      "execution_count": 7,
      "outputs": [
        {
          "output_type": "execute_result",
          "data": {
            "text/plain": [
              "(28, 28, 3)"
            ]
          },
          "metadata": {},
          "execution_count": 7
        }
      ]
    },
    {
      "cell_type": "code",
      "source": [
        "y = Conv2D(2, 2, activation='relu', input_shape=input_shape[1:])(x)\n",
        "#y = Conv2D(2, 3, activation='relu', input_shape=input_shape[1:])(x)\n",
        "#y = Conv2D(2, 4, activation='relu', input_shape=input_shape[1:])(x)\n",
        "#y = Conv2D(2, [3,2], activation='relu', input_shape=input_shape[1:])(x)\n"
      ],
      "metadata": {
        "id": "BoFEIuJNB2JD"
      },
      "execution_count": 17,
      "outputs": []
    },
    {
      "cell_type": "code",
      "source": [
        "y.shape"
      ],
      "metadata": {
        "colab": {
          "base_uri": "https://localhost:8080/"
        },
        "id": "WSAmnP5OB4r8",
        "outputId": "e147ccbf-4fd2-41a6-8e4e-a6809282dd01"
      },
      "execution_count": 18,
      "outputs": [
        {
          "output_type": "execute_result",
          "data": {
            "text/plain": [
              "TensorShape([4, 27, 27, 2])"
            ]
          },
          "metadata": {},
          "execution_count": 18
        }
      ]
    },
    {
      "cell_type": "code",
      "source": [
        "y[0].shape"
      ],
      "metadata": {
        "colab": {
          "base_uri": "https://localhost:8080/"
        },
        "id": "y7X1RkBoQexZ",
        "outputId": "7cff77b8-b9e9-4fdc-bb6a-562ef7d6719f"
      },
      "execution_count": 19,
      "outputs": [
        {
          "output_type": "execute_result",
          "data": {
            "text/plain": [
              "TensorShape([27, 27, 2])"
            ]
          },
          "metadata": {},
          "execution_count": 19
        }
      ]
    },
    {
      "cell_type": "code",
      "source": [
        "z = MaxPooling2D(pool_size=3, strides=3)(y)"
      ],
      "metadata": {
        "id": "NOExHnmwDDN1"
      },
      "execution_count": 22,
      "outputs": []
    },
    {
      "cell_type": "code",
      "source": [
        "z.shape"
      ],
      "metadata": {
        "colab": {
          "base_uri": "https://localhost:8080/"
        },
        "id": "Tg5prbZeMMJQ",
        "outputId": "c75c50c8-bc2b-4ad1-feff-6409576f8e2e"
      },
      "execution_count": 23,
      "outputs": [
        {
          "output_type": "execute_result",
          "data": {
            "text/plain": [
              "TensorShape([4, 9, 9, 2])"
            ]
          },
          "metadata": {},
          "execution_count": 23
        }
      ]
    },
    {
      "cell_type": "code",
      "source": [
        "z[0].shape"
      ],
      "metadata": {
        "colab": {
          "base_uri": "https://localhost:8080/"
        },
        "id": "YA9pfyqCQgy1",
        "outputId": "0cfc561c-139c-47c0-e363-cf7d6f74406d"
      },
      "execution_count": 32,
      "outputs": [
        {
          "output_type": "execute_result",
          "data": {
            "text/plain": [
              "TensorShape([9, 9, 2])"
            ]
          },
          "metadata": {},
          "execution_count": 32
        }
      ]
    },
    {
      "cell_type": "code",
      "source": [
        "ab = Flatten()(z)"
      ],
      "metadata": {
        "id": "AUw4y5dUDsFW"
      },
      "execution_count": 25,
      "outputs": []
    },
    {
      "cell_type": "code",
      "source": [
        "ab.shape"
      ],
      "metadata": {
        "colab": {
          "base_uri": "https://localhost:8080/"
        },
        "id": "Cv5DYemqDs3v",
        "outputId": "1a08bc63-5800-498a-d45b-429554f8b9e8"
      },
      "execution_count": 26,
      "outputs": [
        {
          "output_type": "execute_result",
          "data": {
            "text/plain": [
              "TensorShape([4, 162])"
            ]
          },
          "metadata": {},
          "execution_count": 26
        }
      ]
    },
    {
      "cell_type": "code",
      "source": [
        "ab[0].shape"
      ],
      "metadata": {
        "colab": {
          "base_uri": "https://localhost:8080/"
        },
        "id": "ROj3CGP7QT4A",
        "outputId": "2c6243e1-7808-488a-c7be-99ca289e64df"
      },
      "execution_count": 33,
      "outputs": [
        {
          "output_type": "execute_result",
          "data": {
            "text/plain": [
              "TensorShape([162])"
            ]
          },
          "metadata": {},
          "execution_count": 33
        }
      ]
    },
    {
      "cell_type": "code",
      "source": [
        "abz = Dropout(0.5,  noise_shape=None, seed=10)(ab)"
      ],
      "metadata": {
        "id": "etzePy42MB6m"
      },
      "execution_count": 34,
      "outputs": []
    },
    {
      "cell_type": "code",
      "source": [
        "abz.shape"
      ],
      "metadata": {
        "colab": {
          "base_uri": "https://localhost:8080/"
        },
        "id": "k1bOCHzTP9Rv",
        "outputId": "b4a5444d-fa6a-43c0-985d-b5399de33d19"
      },
      "execution_count": 35,
      "outputs": [
        {
          "output_type": "execute_result",
          "data": {
            "text/plain": [
              "TensorShape([4, 162])"
            ]
          },
          "metadata": {},
          "execution_count": 35
        }
      ]
    },
    {
      "cell_type": "code",
      "source": [
        "abz[0]"
      ],
      "metadata": {
        "colab": {
          "base_uri": "https://localhost:8080/"
        },
        "id": "2B1Z_2eaQPU_",
        "outputId": "e1293cf2-b0c6-4835-cf55-2cc41421a148"
      },
      "execution_count": 36,
      "outputs": [
        {
          "output_type": "execute_result",
          "data": {
            "text/plain": [
              "<tf.Tensor: shape=(162,), dtype=float32, numpy=\n",
              "array([1.7712107 , 0.7304082 , 1.1002861 , 1.0997689 , 0.26944125,\n",
              "       1.7799459 , 1.5348283 , 0.59914404, 0.82022333, 2.2225134 ,\n",
              "       0.96761525, 1.4050715 , 1.3415996 , 1.1541085 , 1.6832244 ,\n",
              "       3.9735637 , 1.327949  , 1.7339759 , 0.40360874, 1.6243153 ,\n",
              "       1.3222866 , 1.7356225 , 1.5126362 , 1.1205052 , 1.5818596 ,\n",
              "       2.099616  , 1.1131724 , 1.4485753 , 1.1854105 , 2.22932   ,\n",
              "       1.4749444 , 1.4327649 , 1.9277661 , 0.86572564, 2.5057406 ,\n",
              "       1.5053838 , 1.580573  , 0.6773782 , 2.503245  , 1.2981162 ,\n",
              "       1.1211926 , 1.5723764 , 1.727878  , 1.8265392 , 1.8995774 ,\n",
              "       1.897801  , 1.5444019 , 1.2882583 , 1.7044606 , 2.38668   ,\n",
              "       1.5768151 , 1.2794065 , 1.031516  , 1.5175903 , 1.0218618 ,\n",
              "       2.1919866 , 0.7011078 , 1.1545409 , 0.7817538 , 1.428085  ,\n",
              "       1.3663881 , 1.5231884 , 0.955488  , 2.0923598 , 0.76004565,\n",
              "       1.5698895 , 2.149169  , 1.5963371 , 0.43026096, 0.8003727 ,\n",
              "       1.7995672 , 1.1124597 , 1.8698852 , 1.863449  , 0.91756386,\n",
              "       2.0011582 , 1.8881814 , 1.18409   , 1.6022608 , 1.4531523 ,\n",
              "       1.7177515 , 1.7184834 , 1.3135027 , 2.3879757 , 1.954905  ,\n",
              "       1.1308807 , 1.2181789 , 2.515285  , 0.17593943, 1.8898113 ,\n",
              "       1.9026853 , 1.2356377 , 3.3392406 , 0.17002922, 1.7650843 ,\n",
              "       1.71555   , 0.8371737 , 0.757009  , 0.4053406 , 2.621891  ,\n",
              "       1.0613222 , 2.2674599 , 0.8269033 , 1.5929978 , 1.0857089 ,\n",
              "       1.8005936 , 1.4203998 , 3.1126318 , 1.0263801 , 1.0110155 ,\n",
              "       1.8049474 , 2.1951094 , 1.594509  , 2.0077531 , 2.350191  ,\n",
              "       3.5995374 , 1.4434323 , 2.2330678 , 0.9730071 , 0.7622975 ,\n",
              "       1.0717719 , 1.2560912 , 1.171729  , 2.7019963 , 0.14702448,\n",
              "       1.3196889 , 0.7187746 , 3.1654181 , 0.2969389 , 1.42467   ,\n",
              "       1.5369153 , 0.612963  , 0.938473  , 2.0279808 , 1.0931183 ,\n",
              "       0.94803333, 0.48403093, 2.3348508 , 1.3678099 , 2.3168676 ,\n",
              "       1.9544798 , 1.3375082 , 2.0118241 , 0.6009364 , 1.62269   ,\n",
              "       1.3256296 , 0.6557102 , 1.3791175 , 1.19071   , 1.2766786 ,\n",
              "       1.6373675 , 0.95807457, 1.9544353 , 1.3291049 , 0.3166206 ,\n",
              "       1.6701661 , 1.9135089 , 1.3617935 , 1.2152141 , 1.6186519 ,\n",
              "       2.8058958 , 2.7385566 ], dtype=float32)>"
            ]
          },
          "metadata": {},
          "execution_count": 36
        }
      ]
    },
    {
      "cell_type": "code",
      "source": [
        "final = Dense(10, activation='softmax')(abz)"
      ],
      "metadata": {
        "id": "dbYNAs3LQRF5"
      },
      "execution_count": 37,
      "outputs": []
    },
    {
      "cell_type": "code",
      "source": [
        "final"
      ],
      "metadata": {
        "colab": {
          "base_uri": "https://localhost:8080/"
        },
        "id": "WXDqZ9GbS9AK",
        "outputId": "d5330a01-6fc9-496b-f557-ab046082c41b"
      },
      "execution_count": 38,
      "outputs": [
        {
          "output_type": "execute_result",
          "data": {
            "text/plain": [
              "<tf.Tensor: shape=(4, 10), dtype=float32, numpy=\n",
              "array([[3.4117792e-03, 1.7351392e-01, 7.8409612e-03, 2.3536840e-02,\n",
              "        5.2993689e-02, 1.9593398e-01, 5.3856433e-03, 2.5676662e-02,\n",
              "        5.1045763e-01, 1.2487834e-03],\n",
              "       [2.8876476e-03, 7.6466215e-01, 4.2982353e-03, 4.5445673e-03,\n",
              "        3.4612428e-02, 6.2318849e-03, 8.0476478e-03, 4.3193433e-02,\n",
              "        1.3111880e-01, 4.0326669e-04],\n",
              "       [1.0946068e-02, 5.1653856e-01, 2.9053390e-02, 8.6412197e-03,\n",
              "        2.7216414e-01, 4.8178941e-02, 3.9413483e-03, 2.5370806e-02,\n",
              "        8.3355218e-02, 1.8103353e-03],\n",
              "       [3.4006264e-03, 3.2728645e-01, 2.1387637e-02, 6.8157227e-03,\n",
              "        3.3364972e-01, 5.2222896e-02, 3.4807620e-03, 1.0371729e-01,\n",
              "        1.4774966e-01, 2.8928916e-04]], dtype=float32)>"
            ]
          },
          "metadata": {},
          "execution_count": 38
        }
      ]
    },
    {
      "cell_type": "code",
      "source": [
        "final_relu = Dense(10, activation='relu')(abz)"
      ],
      "metadata": {
        "id": "9_T8vfJRS-NC"
      },
      "execution_count": 39,
      "outputs": []
    },
    {
      "cell_type": "code",
      "source": [
        "final_relu"
      ],
      "metadata": {
        "colab": {
          "base_uri": "https://localhost:8080/"
        },
        "id": "IIf4NkabTLBH",
        "outputId": "83227f96-21de-498b-f783-56631b2c809b"
      },
      "execution_count": 40,
      "outputs": [
        {
          "output_type": "execute_result",
          "data": {
            "text/plain": [
              "<tf.Tensor: shape=(4, 10), dtype=float32, numpy=\n",
              "array([[0.0000000e+00, 0.0000000e+00, 4.0428340e-01, 8.1574269e-02,\n",
              "        0.0000000e+00, 2.0807153e-03, 1.9278932e+00, 0.0000000e+00,\n",
              "        5.3806698e-01, 6.6956854e-01],\n",
              "       [0.0000000e+00, 0.0000000e+00, 0.0000000e+00, 6.7480320e-01,\n",
              "        0.0000000e+00, 0.0000000e+00, 0.0000000e+00, 0.0000000e+00,\n",
              "        6.2988675e-01, 0.0000000e+00],\n",
              "       [0.0000000e+00, 0.0000000e+00, 9.9203444e-01, 0.0000000e+00,\n",
              "        0.0000000e+00, 2.6362417e+00, 0.0000000e+00, 0.0000000e+00,\n",
              "        9.5421501e-02, 0.0000000e+00],\n",
              "       [0.0000000e+00, 0.0000000e+00, 0.0000000e+00, 0.0000000e+00,\n",
              "        0.0000000e+00, 4.0806589e-01, 5.5856061e-01, 0.0000000e+00,\n",
              "        0.0000000e+00, 0.0000000e+00]], dtype=float32)>"
            ]
          },
          "metadata": {},
          "execution_count": 40
        }
      ]
    },
    {
      "cell_type": "code",
      "source": [
        ""
      ],
      "metadata": {
        "id": "lcjTn7PDTLWo"
      },
      "execution_count": null,
      "outputs": []
    }
  ]
}