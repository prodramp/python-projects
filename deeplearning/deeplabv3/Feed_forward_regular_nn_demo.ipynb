{
 "cells": [
  {
   "cell_type": "markdown",
   "id": "b7bd8d13",
   "metadata": {},
   "source": [
    "## What are the key parts of a neural network ##\n",
    "- Input\n",
    "- Layers > Type\n",
    "- Output\n",
    "\n",
    "## What is Perceptron ##\n",
    "A perceptron is a neural network unit (an artificial neuron) that does certain computations to detect features or business intelligence in the input data at single level input and ouput.  The perceptron consists of 4 parts.\n",
    "\n",
    "- Input or One input layer (+Weights and Bias)\n",
    "- Output (Net sum + Activation Function)\n",
    "\n",
    "## What is Regular Neural Network (Multilayer Perceptron) ##\n",
    "A neural network (Multiple Layer Perceptron: Regular neural network ): It does a linear combination (a mathematical operation) between the previous layer's output and the current layer's weights(vectors) and then it passes data to the next layer by passing through an activation function. The picture shows a unit of a layer.\n",
    "\n",
    "Note:  A classic multilayer perceptron is a feed forward network composed of fully connected layers.\n",
    "\n",
    "### Fully Connected Network - Fully Connected Layer ###\n",
    "- A fully-connected network, or maybe more appropriately a fully-connected layer in a network is one such that every input neuron is connected to every neuron in the next layer. This, for example, contrasts with convolutional layers, where each output neuron depends on a subset of the input neurons.\n",
    "\n",
    "### Feed Forward Network ###\n",
    "- Feed forward simply means no cyclic connections. Just one way connections we can say. \n",
    "- The information flows in one forward direction. Hence called feed forward model.\n",
    "- Feed Forward Netwrok back propagation for training the network.\n",
    "\n",
    "## Feed Forward Vs Deep Feed Forward Network ##\n",
    "- A Feed forward network is not a preceptron, it means it has one hidden layer into it\n",
    "- A Deep Feed Forward network has 2 or more hidden layers into it\n"
   ]
  },
  {
   "cell_type": "code",
   "execution_count": null,
   "id": "a347a99f",
   "metadata": {},
   "outputs": [],
   "source": []
  },
  {
   "cell_type": "code",
   "execution_count": null,
   "id": "f99e73b1",
   "metadata": {},
   "outputs": [],
   "source": []
  },
  {
   "cell_type": "markdown",
   "id": "ea9467df",
   "metadata": {},
   "source": [
    "![](https://github.com/prodramp/python-projects/blob/main/images/neural-networks-small.png?raw=true)"
   ]
  },
  {
   "cell_type": "code",
   "execution_count": 3,
   "id": "c7a67fd0",
   "metadata": {},
   "outputs": [],
   "source": [
    "import tensorflow as tf"
   ]
  },
  {
   "cell_type": "code",
   "execution_count": 4,
   "id": "8d583750",
   "metadata": {},
   "outputs": [],
   "source": [
    "from tensorflow.keras.layers import Input, Dense"
   ]
  },
  {
   "cell_type": "code",
   "execution_count": 31,
   "id": "5009f97c",
   "metadata": {},
   "outputs": [],
   "source": [
    "input = Input(shape=(512,512,1))\n",
    "#input = Input(shape=(1))"
   ]
  },
  {
   "cell_type": "code",
   "execution_count": 32,
   "id": "4cecc20d",
   "metadata": {},
   "outputs": [],
   "source": [
    "hidden_layer = Dense(10)(input)"
   ]
  },
  {
   "cell_type": "code",
   "execution_count": 33,
   "id": "deb8a183",
   "metadata": {},
   "outputs": [],
   "source": [
    "hidden_layer_1 = Dense(5)(hidden_layer)"
   ]
  },
  {
   "cell_type": "code",
   "execution_count": 34,
   "id": "26cb582f",
   "metadata": {},
   "outputs": [],
   "source": [
    "output = Dense(1, use_bias=True, activation=tf.nn.softmax)(hidden_layer_1)\n",
    "# Try with use_bias = False too"
   ]
  },
  {
   "cell_type": "code",
   "execution_count": 40,
   "id": "bd508eed",
   "metadata": {},
   "outputs": [],
   "source": [
    "model = tf.keras.Model(inputs=input, outputs=output)"
   ]
  },
  {
   "cell_type": "code",
   "execution_count": 37,
   "id": "cf5d39ca",
   "metadata": {},
   "outputs": [],
   "source": [
    "## Other way to build your perceptron neural network\n",
    "model_1 = tf.keras.models.Sequential()\n",
    "model_1.add(Input(shape=(512,512,1)))\n",
    "model_1.add(Dense(10, use_bias=False))\n",
    "model_1.add(Dense(5, use_bias=False))\n",
    "model_1.add(Dense(1, use_bias=True))"
   ]
  },
  {
   "cell_type": "code",
   "execution_count": 38,
   "id": "80ae3ce9",
   "metadata": {},
   "outputs": [
    {
     "name": "stdout",
     "output_type": "stream",
     "text": [
      "Model: \"sequential_2\"\n",
      "_________________________________________________________________\n",
      " Layer (type)                Output Shape              Param #   \n",
      "=================================================================\n",
      " dense_14 (Dense)            (None, 512, 512, 10)      10        \n",
      "                                                                 \n",
      " dense_15 (Dense)            (None, 512, 512, 5)       50        \n",
      "                                                                 \n",
      " dense_16 (Dense)            (None, 512, 512, 1)       6         \n",
      "                                                                 \n",
      "=================================================================\n",
      "Total params: 66\n",
      "Trainable params: 66\n",
      "Non-trainable params: 0\n",
      "_________________________________________________________________\n"
     ]
    }
   ],
   "source": [
    "model_1.summary()"
   ]
  },
  {
   "cell_type": "code",
   "execution_count": 36,
   "id": "5c89c1d0",
   "metadata": {},
   "outputs": [
    {
     "name": "stdout",
     "output_type": "stream",
     "text": [
      "Model: \"model_2\"\n",
      "_________________________________________________________________\n",
      " Layer (type)                Output Shape              Param #   \n",
      "=================================================================\n",
      " input_5 (InputLayer)        [(None, 512, 512, 1)]     0         \n",
      "                                                                 \n",
      " dense_11 (Dense)            (None, 512, 512, 10)      20        \n",
      "                                                                 \n",
      " dense_12 (Dense)            (None, 512, 512, 5)       55        \n",
      "                                                                 \n",
      " dense_13 (Dense)            (None, 512, 512, 1)       6         \n",
      "                                                                 \n",
      "=================================================================\n",
      "Total params: 81\n",
      "Trainable params: 81\n",
      "Non-trainable params: 0\n",
      "_________________________________________________________________\n"
     ]
    }
   ],
   "source": [
    "model.summary()"
   ]
  },
  {
   "cell_type": "code",
   "execution_count": 10,
   "id": "0293139b",
   "metadata": {},
   "outputs": [],
   "source": [
    "model_name = 'regular_nn.h5'"
   ]
  },
  {
   "cell_type": "code",
   "execution_count": 11,
   "id": "fb2965f0",
   "metadata": {},
   "outputs": [
    {
     "name": "stdout",
     "output_type": "stream",
     "text": [
      "WARNING:tensorflow:Compiled the loaded model, but the compiled metrics have yet to be built. `model.compile_metrics` will be empty until you train or evaluate the model.\n"
     ]
    }
   ],
   "source": [
    "model.save(model_name)"
   ]
  },
  {
   "cell_type": "code",
   "execution_count": 12,
   "id": "2671da71",
   "metadata": {},
   "outputs": [],
   "source": [
    "import netron"
   ]
  },
  {
   "cell_type": "code",
   "execution_count": 17,
   "id": "19bcd716",
   "metadata": {
    "scrolled": true
   },
   "outputs": [
    {
     "name": "stdout",
     "output_type": "stream",
     "text": [
      "Serving 'regular_nn.h5' at http://localhost:8081\n"
     ]
    },
    {
     "data": {
      "text/plain": [
       "('localhost', 8081)"
      ]
     },
     "execution_count": 17,
     "metadata": {},
     "output_type": "execute_result"
    }
   ],
   "source": [
    "netron.start(model_name, 8081)"
   ]
  },
  {
   "cell_type": "code",
   "execution_count": 22,
   "id": "628f667c",
   "metadata": {},
   "outputs": [],
   "source": [
    "netron.stop()"
   ]
  },
  {
   "cell_type": "markdown",
   "id": "dcec9be6",
   "metadata": {},
   "source": [
    "### Helpful Readings: ###\n",
    "- https://towardsdatascience.com/what-the-hell-is-perceptron-626217814f53"
   ]
  },
  {
   "cell_type": "code",
   "execution_count": null,
   "id": "646a734d",
   "metadata": {},
   "outputs": [],
   "source": []
  }
 ],
 "metadata": {
  "kernelspec": {
   "display_name": "Python 3 (ipykernel)",
   "language": "python",
   "name": "python3"
  },
  "language_info": {
   "codemirror_mode": {
    "name": "ipython",
    "version": 3
   },
   "file_extension": ".py",
   "mimetype": "text/x-python",
   "name": "python",
   "nbconvert_exporter": "python",
   "pygments_lexer": "ipython3",
   "version": "3.9.7"
  }
 },
 "nbformat": 4,
 "nbformat_minor": 5
}
