{
 "cells": [
  {
   "cell_type": "markdown",
   "id": "b7bd8d13",
   "metadata": {},
   "source": [
    "## What are the key parts of a neural network ##\n",
    "- Input\n",
    "- Layers > Type\n",
    "- Output\n",
    "\n",
    "## What is Perceptron ##\n",
    "A perceptron is a neural network unit (an artificial neuron) that does certain computations to detect features or business intelligence in the input data at single level input and ouput.  The perceptron consists of 4 parts.\n",
    "\n",
    "- Input or One input layer (+Weights and Bias)\n",
    "- Output (Net sum + Activation Function)\n",
    "\n",
    "## What is Regular Neural Network (Multilayer Perceptron) ##\n",
    "A neural network (Multiple Layer Perceptron: Regular neural network ): It does a linear combination (a mathematical operation) between the previous layer's output and the current layer's weights(vectors) and then it passes data to the next layer by passing through an activation function. The picture shows a unit of a layer.\n",
    "\n",
    "Note:  A classic multilayer perceptron is a feed forward network composed of fully connected layers.\n",
    "\n",
    "### Fully Connected Network - Fully Connected Layer ###\n",
    "- A fully-connected network, or maybe more appropriately a fully-connected layer in a network is one such that every input neuron is connected to every neuron in the next layer. This, for example, contrasts with convolutional layers, where each output neuron depends on a subset of the input neurons.\n",
    "\n",
    "### Feed Forward Network ###\n",
    "- Feed forward simply means no cyclic connections. Just one way connections we can say. \n",
    "- The information flows in one forward direction. Hence called feed forward model.\n",
    "- Feed Forward Netwrok back propagation for training the network.\n",
    "\n",
    "## Feed Forward Vs Deep Feed Forward Network ##\n",
    "- A Feed forward network is not a preceptron, it means it has one hidden layer into it\n",
    "- A Deep Feed Forward network has 2 or more hidden layers into it\n"
   ]
  },
  {
   "cell_type": "code",
   "execution_count": null,
   "id": "43301cc2",
   "metadata": {},
   "outputs": [],
   "source": []
  },
  {
   "cell_type": "code",
   "execution_count": null,
   "id": "5626e0b5",
   "metadata": {},
   "outputs": [],
   "source": []
  },
  {
   "cell_type": "markdown",
   "id": "ea9467df",
   "metadata": {},
   "source": [
    "![](https://github.com/prodramp/python-projects/blob/main/images/neural-networks-small.png?raw=true)"
   ]
  },
  {
   "cell_type": "code",
   "execution_count": 3,
   "id": "c7a67fd0",
   "metadata": {},
   "outputs": [],
   "source": [
    "import tensorflow as tf"
   ]
  },
  {
   "cell_type": "code",
   "execution_count": 4,
   "id": "8d583750",
   "metadata": {},
   "outputs": [],
   "source": [
    "from tensorflow.keras.layers import Input, Dense"
   ]
  },
  {
   "cell_type": "code",
   "execution_count": 5,
   "id": "5009f97c",
   "metadata": {},
   "outputs": [],
   "source": [
    "#input = Input(shape=(512,512,1))\n",
    "input = Input(shape=(1))"
   ]
  },
  {
   "cell_type": "code",
   "execution_count": 6,
   "id": "fdff9ad4",
   "metadata": {},
   "outputs": [
    {
     "name": "stderr",
     "output_type": "stream",
     "text": [
      "2022-04-04 15:27:19.445635: I tensorflow/core/platform/cpu_feature_guard.cc:151] This TensorFlow binary is optimized with oneAPI Deep Neural Network Library (oneDNN) to use the following CPU instructions in performance-critical operations:  AVX2 FMA\n",
      "To enable them in other operations, rebuild TensorFlow with the appropriate compiler flags.\n"
     ]
    }
   ],
   "source": [
    "hidden_layer = Dense(1)(input)"
   ]
  },
  {
   "cell_type": "code",
   "execution_count": 7,
   "id": "26cb582f",
   "metadata": {},
   "outputs": [],
   "source": [
    "output = Dense(1, use_bias=True, activation=tf.nn.softmax)(hidden_layer)\n",
    "# Try with use_bias = False too"
   ]
  },
  {
   "cell_type": "code",
   "execution_count": 8,
   "id": "bd508eed",
   "metadata": {},
   "outputs": [],
   "source": [
    "model = tf.keras.Model(inputs=input, outputs=output)"
   ]
  },
  {
   "cell_type": "code",
   "execution_count": 19,
   "id": "1146a16c",
   "metadata": {},
   "outputs": [],
   "source": [
    "## Other way to build your perceptron neural network\n",
    "model = tf.keras.models.Sequential()\n",
    "model.add(Input(shape=(512,512,10)))\n",
    "model.add(Dense(10, use_bias=False))\n",
    "model.add(Dense(5, use_bias=False))\n",
    "model.add(Dense(1, use_bias=True))"
   ]
  },
  {
   "cell_type": "code",
   "execution_count": 20,
   "id": "80ae3ce9",
   "metadata": {},
   "outputs": [
    {
     "name": "stdout",
     "output_type": "stream",
     "text": [
      "Model: \"sequential\"\n",
      "_________________________________________________________________\n",
      " Layer (type)                Output Shape              Param #   \n",
      "=================================================================\n",
      " dense_2 (Dense)             (None, 512, 512, 10)      100       \n",
      "                                                                 \n",
      " dense_3 (Dense)             (None, 512, 512, 5)       50        \n",
      "                                                                 \n",
      " dense_4 (Dense)             (None, 512, 512, 1)       6         \n",
      "                                                                 \n",
      "=================================================================\n",
      "Total params: 156\n",
      "Trainable params: 156\n",
      "Non-trainable params: 0\n",
      "_________________________________________________________________\n"
     ]
    }
   ],
   "source": [
    "model.summary()"
   ]
  },
  {
   "cell_type": "code",
   "execution_count": 10,
   "id": "0293139b",
   "metadata": {},
   "outputs": [],
   "source": [
    "model_name = 'regular_nn.h5'"
   ]
  },
  {
   "cell_type": "code",
   "execution_count": 11,
   "id": "fb2965f0",
   "metadata": {},
   "outputs": [
    {
     "name": "stdout",
     "output_type": "stream",
     "text": [
      "WARNING:tensorflow:Compiled the loaded model, but the compiled metrics have yet to be built. `model.compile_metrics` will be empty until you train or evaluate the model.\n"
     ]
    }
   ],
   "source": [
    "model.save(model_name)"
   ]
  },
  {
   "cell_type": "code",
   "execution_count": 12,
   "id": "2671da71",
   "metadata": {},
   "outputs": [],
   "source": [
    "import netron"
   ]
  },
  {
   "cell_type": "code",
   "execution_count": 17,
   "id": "19bcd716",
   "metadata": {
    "scrolled": true
   },
   "outputs": [
    {
     "name": "stdout",
     "output_type": "stream",
     "text": [
      "Serving 'regular_nn.h5' at http://localhost:8081\n"
     ]
    },
    {
     "data": {
      "text/plain": [
       "('localhost', 8081)"
      ]
     },
     "execution_count": 17,
     "metadata": {},
     "output_type": "execute_result"
    }
   ],
   "source": [
    "netron.start(model_name, 8081)"
   ]
  },
  {
   "cell_type": "code",
   "execution_count": 22,
   "id": "0805c9e5",
   "metadata": {},
   "outputs": [],
   "source": [
    "netron.stop()"
   ]
  },
  {
   "cell_type": "markdown",
   "id": "dcec9be6",
   "metadata": {},
   "source": [
    "### Helpful Readings: ###\n",
    "- https://towardsdatascience.com/what-the-hell-is-perceptron-626217814f53"
   ]
  },
  {
   "cell_type": "code",
   "execution_count": null,
   "id": "646a734d",
   "metadata": {},
   "outputs": [],
   "source": []
  }
 ],
 "metadata": {
  "kernelspec": {
   "display_name": "Python 3 (ipykernel)",
   "language": "python",
   "name": "python3"
  },
  "language_info": {
   "codemirror_mode": {
    "name": "ipython",
    "version": 3
   },
   "file_extension": ".py",
   "mimetype": "text/x-python",
   "name": "python",
   "nbconvert_exporter": "python",
   "pygments_lexer": "ipython3",
   "version": "3.9.7"
  }
 },
 "nbformat": 4,
 "nbformat_minor": 5
}
