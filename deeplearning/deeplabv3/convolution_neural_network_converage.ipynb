{
 "cells": [
  {
   "cell_type": "markdown",
   "id": "9e0695a7",
   "metadata": {},
   "source": [
    "## Coming Next ##\n",
    "\n",
    "### We need to cover the following in CNN/Regular NN: ###\n",
    "\n",
    "- Fully connected Layer\n",
    "- Back Propagation\n",
    "- activation Function\n",
    "- MaxPooling\n",
    "- Flatten\n",
    "- Dropout\n",
    "\n",
    "### CNN and DCNN (Deep CNN) ###"
   ]
  },
  {
   "cell_type": "code",
   "execution_count": null,
   "id": "f20a3f0c",
   "metadata": {},
   "outputs": [],
   "source": []
  }
 ],
 "metadata": {
  "kernelspec": {
   "display_name": "Python 3 (ipykernel)",
   "language": "python",
   "name": "python3"
  },
  "language_info": {
   "codemirror_mode": {
    "name": "ipython",
    "version": 3
   },
   "file_extension": ".py",
   "mimetype": "text/x-python",
   "name": "python",
   "nbconvert_exporter": "python",
   "pygments_lexer": "ipython3",
   "version": "3.9.7"
  }
 },
 "nbformat": 4,
 "nbformat_minor": 5
}
