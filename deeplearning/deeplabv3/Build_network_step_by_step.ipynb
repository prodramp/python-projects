{
 "cells": [
  {
   "cell_type": "markdown",
   "id": "dccf5dfc",
   "metadata": {},
   "source": [
    "- Input\n",
    "- Layers > Type\n",
    "- Output\n",
    "\n",
    "Details:\n",
    "- Feed input data in neural network.\n",
    "- Data flows from layer to layer until the output is generated.\n",
    "- One output is ready,  calculate the error which is a scalar.\n",
    "- Adjust a given parameter (weight or bias) by subtracting the derivative of the error\n",
    "  - with respect to the parameter itself.\n",
    "- Iterate above process."
   ]
  },
  {
   "cell_type": "code",
   "execution_count": 85,
   "id": "23856791",
   "metadata": {},
   "outputs": [],
   "source": [
    "import tensorflow as tf\n",
    "from tensorflow.keras.layers import Input, Dense"
   ]
  },
  {
   "cell_type": "code",
   "execution_count": 86,
   "id": "8e512d0e",
   "metadata": {},
   "outputs": [],
   "source": [
    "#inputs = tf.keras.Input(shape=(3,))\n",
    "#inputs = Input(shape=(None, None, 3))\n",
    "inputs = Input(shape=(512, 512, 3))"
   ]
  },
  {
   "cell_type": "code",
   "execution_count": 87,
   "id": "950076d0",
   "metadata": {},
   "outputs": [],
   "source": [
    "x = Dense(10, activation=tf.nn.relu)(inputs)\n",
    "# x1 = Dense(2, activation=tf.nn.relu)(x)\n",
    "outputs = Dense(1, activation=tf.nn.softmax)(x)"
   ]
  },
  {
   "cell_type": "code",
   "execution_count": 88,
   "id": "f771da7d",
   "metadata": {},
   "outputs": [],
   "source": [
    "model = tf.keras.Model(inputs=inputs, outputs=outputs)"
   ]
  },
  {
   "cell_type": "code",
   "execution_count": 64,
   "id": "e998f63e",
   "metadata": {},
   "outputs": [],
   "source": [
    "model.compile(optimizer=\"Adam\", loss=\"mse\", metrics=[\"mae\"])\n"
   ]
  },
  {
   "cell_type": "code",
   "execution_count": 65,
   "id": "797a13ef",
   "metadata": {},
   "outputs": [],
   "source": [
    "model_name = \"hellomodel.h5\""
   ]
  },
  {
   "cell_type": "code",
   "execution_count": 79,
   "id": "0a9b2306",
   "metadata": {},
   "outputs": [
    {
     "data": {
      "text/plain": [
       "<KerasTensor: shape=(None, 512, 512, 1) dtype=float32 (created by layer 'dense_22')>"
      ]
     },
     "execution_count": 79,
     "metadata": {},
     "output_type": "execute_result"
    }
   ],
   "source": [
    "model.output"
   ]
  },
  {
   "cell_type": "code",
   "execution_count": 80,
   "id": "a64a740f",
   "metadata": {},
   "outputs": [
    {
     "data": {
      "text/plain": [
       "(None, 512, 512, 1)"
      ]
     },
     "execution_count": 80,
     "metadata": {},
     "output_type": "execute_result"
    }
   ],
   "source": [
    "model.output_shape"
   ]
  },
  {
   "cell_type": "code",
   "execution_count": 68,
   "id": "1a0d3f50",
   "metadata": {},
   "outputs": [],
   "source": [
    "model.save(model_name)"
   ]
  },
  {
   "cell_type": "code",
   "execution_count": 69,
   "id": "790be9c1",
   "metadata": {},
   "outputs": [
    {
     "name": "stdout",
     "output_type": "stream",
     "text": [
      "total 202432\r\n",
      "drwxr-xr-x  8 avkash  staff   256B Apr  3 16:23 \u001b[1m\u001b[36m.\u001b[m\u001b[m\r\n",
      "drwxr-xr-x  4 avkash  staff   128B Apr  3 14:39 \u001b[1m\u001b[36m..\u001b[m\u001b[m\r\n",
      "drwxr-xr-x  4 avkash  staff   128B Apr  3 15:39 \u001b[1m\u001b[36m.ipynb_checkpoints\u001b[m\u001b[m\r\n",
      "-rw-r--r--  1 avkash  staff   6.3K Apr  3 16:23 Untitled.ipynb\r\n",
      "-rw-r--r--  1 avkash  staff   4.0K Apr  3 16:23 Untitled1.ipynb\r\n",
      "drwxr-xr-x  6 avkash  staff   192B Apr  3 14:38 \u001b[1m\u001b[36mhello-world\u001b[m\u001b[m\r\n",
      "-rw-r--r--  1 avkash  staff    19K Apr  3 16:23 hellomodel.h5\r\n",
      "-rw-r--r--  1 avkash  staff    99M Apr  3 14:38 vgg16.h5\r\n"
     ]
    }
   ],
   "source": [
    "!ls -lah"
   ]
  },
  {
   "cell_type": "code",
   "execution_count": 27,
   "id": "c8901d39",
   "metadata": {},
   "outputs": [],
   "source": [
    "import netron"
   ]
  },
  {
   "cell_type": "code",
   "execution_count": 81,
   "id": "dcf113c4",
   "metadata": {},
   "outputs": [
    {
     "name": "stdout",
     "output_type": "stream",
     "text": [
      "Stopping http://localhost:8081\n",
      "Serving 'hellomodel.h5' at http://localhost:8081\n"
     ]
    },
    {
     "data": {
      "text/plain": [
       "('localhost', 8081)"
      ]
     },
     "execution_count": 81,
     "metadata": {},
     "output_type": "execute_result"
    }
   ],
   "source": [
    "netron.start(model_name, 8081)"
   ]
  },
  {
   "cell_type": "code",
   "execution_count": 84,
   "id": "fc612300",
   "metadata": {},
   "outputs": [],
   "source": [
    "netron.stop()"
   ]
  },
  {
   "cell_type": "code",
   "execution_count": 74,
   "id": "9b0a17d3",
   "metadata": {},
   "outputs": [
    {
     "name": "stdout",
     "output_type": "stream",
     "text": [
      "Serving 'vgg16.h5' at http://localhost:8081\n"
     ]
    },
    {
     "data": {
      "text/plain": [
       "('localhost', 8081)"
      ]
     },
     "execution_count": 74,
     "metadata": {},
     "output_type": "execute_result"
    }
   ],
   "source": [
    "netron.start('vgg16.h5', 8081)"
   ]
  },
  {
   "cell_type": "code",
   "execution_count": null,
   "id": "4360923f",
   "metadata": {},
   "outputs": [],
   "source": []
  }
 ],
 "metadata": {
  "kernelspec": {
   "display_name": "Python 3 (ipykernel)",
   "language": "python",
   "name": "python3"
  },
  "language_info": {
   "codemirror_mode": {
    "name": "ipython",
    "version": 3
   },
   "file_extension": ".py",
   "mimetype": "text/x-python",
   "name": "python",
   "nbconvert_exporter": "python",
   "pygments_lexer": "ipython3",
   "version": "3.9.7"
  }
 },
 "nbformat": 4,
 "nbformat_minor": 5
}
