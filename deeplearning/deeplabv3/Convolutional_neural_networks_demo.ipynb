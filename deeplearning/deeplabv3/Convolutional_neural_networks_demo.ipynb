{
 "cells": [
  {
   "cell_type": "markdown",
   "id": "b7bd8d13",
   "metadata": {},
   "source": [
    "## What are the key parts of a neural network ##\n",
    "- Input\n",
    "- Layers > Type\n",
    "- Output\n",
    "\n",
    "## What is Perceptron ##\n",
    "A perceptron is a neural network unit (an artificial neuron) that does certain computations to detect features or business intelligence in the input data at single level input and ouput.  The perceptron consists of 4 parts.\n",
    "\n",
    "- Input or One input layer (+Weights and Bias)\n",
    "- Output (Net sum + Activation Function)\n",
    "\n",
    "## What is Regular Neural Network (Multilayer Perceptron) ##\n",
    "A neural network (Multiple Layer Perceptron: Regular neural network ): It does a linear combination (a mathematical operation) between the previous layer's output and the current layer's weights(vectors) and then it passes data to the next layer by passing through an activation function. The picture shows a unit of a layer.\n",
    "\n",
    "Note:  A classic multilayer perceptron is a feed forward network composed of fully connected layers.\n",
    "\n",
    "### Fully Connected Network - Fully Connected Layer ###\n",
    "- A fully-connected network, or maybe more appropriately a fully-connected layer in a network is one such that every input neuron is connected to every neuron in the next layer. This, for example, contrasts with convolutional layers, where each output neuron depends on a subset of the input neurons.\n",
    "\n",
    "### Feed Forward Network ###\n",
    "- Feed forward simply means no cyclic connections. Just one way connections we can say. \n",
    "- The information flows in one forward direction. Hence called feed forward model.\n",
    "- Feed Forward Netwrok back propagation for training the network.\n",
    "\n",
    "## Feed Forward Vs Deep Feed Forward Network ##\n",
    "- A Feed forward network is not a preceptron, it means it has one hidden layer into it\n",
    "- A Deep Feed Forward network has 2 or more hidden layers into it\n",
    "\n",
    "\n",
    "## What is CNN or Convolutional Neural Networks ##\n",
    "1. Convolutional Layer\n",
    "2. Pooling Layer\n",
    "3. Fully Connected Layer\n",
    "4. Dropout\n",
    "5. Activation Functions\n"
   ]
  },
  {
   "cell_type": "code",
   "execution_count": null,
   "id": "eaa3c568",
   "metadata": {},
   "outputs": [],
   "source": []
  },
  {
   "cell_type": "code",
   "execution_count": null,
   "id": "eae49dbd",
   "metadata": {},
   "outputs": [],
   "source": []
  },
  {
   "cell_type": "markdown",
   "id": "ea9467df",
   "metadata": {},
   "source": [
    "![](https://github.com/prodramp/python-projects/blob/main/images/neural-networks-small.png?raw=true)"
   ]
  },
  {
   "cell_type": "code",
   "execution_count": 3,
   "id": "c7a67fd0",
   "metadata": {},
   "outputs": [],
   "source": [
    "import tensorflow as tf"
   ]
  },
  {
   "cell_type": "code",
   "execution_count": 4,
   "id": "8d583750",
   "metadata": {},
   "outputs": [],
   "source": [
    "from tensorflow.keras.layers import Input, Dense, Conv2D, MaxPooling2D, Flatten  \n",
    "from keras.models import Sequential, Model"
   ]
  },
  {
   "cell_type": "code",
   "execution_count": 28,
   "id": "5009f97c",
   "metadata": {},
   "outputs": [],
   "source": [
    "input = Input(shape=(128,128,1))"
   ]
  },
  {
   "cell_type": "code",
   "execution_count": 29,
   "id": "4fc57c02",
   "metadata": {},
   "outputs": [],
   "source": [
    "conv_layer = Conv2D(64,3, use_bias=False)(input)"
   ]
  },
  {
   "cell_type": "code",
   "execution_count": 30,
   "id": "b306908d",
   "metadata": {},
   "outputs": [],
   "source": [
    "max_pooling = MaxPooling2D(2)(conv_layer)"
   ]
  },
  {
   "cell_type": "code",
   "execution_count": 31,
   "id": "52c24044",
   "metadata": {},
   "outputs": [],
   "source": [
    "flatten_layer = Flatten()(max_pooling)"
   ]
  },
  {
   "cell_type": "code",
   "execution_count": 32,
   "id": "d60231ca",
   "metadata": {},
   "outputs": [],
   "source": [
    "final_output = Dense(10, activation='softmax')(flatten_layer)"
   ]
  },
  {
   "cell_type": "code",
   "execution_count": 33,
   "id": "bd508eed",
   "metadata": {},
   "outputs": [],
   "source": [
    "model_3 = Model(inputs=input, outputs=final_output)"
   ]
  },
  {
   "cell_type": "code",
   "execution_count": 37,
   "id": "85146312",
   "metadata": {},
   "outputs": [],
   "source": [
    "## Other way to build your perceptron neural network\n",
    "model_2 = Sequential()\n",
    "#model_2.add(Input(shape=(128,128,1)))\n",
    "model_2.add(Conv2D(64,3, input_shape=(128,128,1), use_bias=False))\n",
    "model_2.add(MaxPooling2D(2))\n",
    "model_2.add(Flatten())\n",
    "model_2.add(Dense(10, activation='softmax'))"
   ]
  },
  {
   "cell_type": "code",
   "execution_count": 5,
   "id": "aa444f02",
   "metadata": {},
   "outputs": [
    {
     "name": "stderr",
     "output_type": "stream",
     "text": [
      "2022-04-04 17:26:20.788530: I tensorflow/core/platform/cpu_feature_guard.cc:151] This TensorFlow binary is optimized with oneAPI Deep Neural Network Library (oneDNN) to use the following CPU instructions in performance-critical operations:  AVX2 FMA\n",
      "To enable them in other operations, rebuild TensorFlow with the appropriate compiler flags.\n"
     ]
    }
   ],
   "source": [
    "model_1 = Sequential([\n",
    "  Conv2D(64, 3, input_shape=(128, 128, 1), use_bias=False),\n",
    "  MaxPooling2D(pool_size=2),\n",
    "  Flatten(),\n",
    "  Dense(10, activation='softmax'),\n",
    "])\n"
   ]
  },
  {
   "cell_type": "code",
   "execution_count": 6,
   "id": "ed3bbf9b",
   "metadata": {},
   "outputs": [
    {
     "name": "stdout",
     "output_type": "stream",
     "text": [
      "Model: \"sequential\"\n",
      "_________________________________________________________________\n",
      " Layer (type)                Output Shape              Param #   \n",
      "=================================================================\n",
      " conv2d (Conv2D)             (None, 126, 126, 64)      576       \n",
      "                                                                 \n",
      " max_pooling2d (MaxPooling2D  (None, 63, 63, 64)       0         \n",
      " )                                                               \n",
      "                                                                 \n",
      " flatten (Flatten)           (None, 254016)            0         \n",
      "                                                                 \n",
      " dense (Dense)               (None, 10)                2540170   \n",
      "                                                                 \n",
      "=================================================================\n",
      "Total params: 2,540,746\n",
      "Trainable params: 2,540,746\n",
      "Non-trainable params: 0\n",
      "_________________________________________________________________\n"
     ]
    }
   ],
   "source": [
    "model_1.summary()"
   ]
  },
  {
   "cell_type": "code",
   "execution_count": 38,
   "id": "80ae3ce9",
   "metadata": {},
   "outputs": [
    {
     "name": "stdout",
     "output_type": "stream",
     "text": [
      "Model: \"sequential_4\"\n",
      "_________________________________________________________________\n",
      " Layer (type)                Output Shape              Param #   \n",
      "=================================================================\n",
      " conv2d_8 (Conv2D)           (None, 126, 126, 64)      576       \n",
      "                                                                 \n",
      " max_pooling2d_8 (MaxPooling  (None, 63, 63, 64)       0         \n",
      " 2D)                                                             \n",
      "                                                                 \n",
      " flatten_8 (Flatten)         (None, 254016)            0         \n",
      "                                                                 \n",
      " dense_7 (Dense)             (None, 10)                2540170   \n",
      "                                                                 \n",
      "=================================================================\n",
      "Total params: 2,540,746\n",
      "Trainable params: 2,540,746\n",
      "Non-trainable params: 0\n",
      "_________________________________________________________________\n"
     ]
    }
   ],
   "source": [
    "model_2.summary()"
   ]
  },
  {
   "cell_type": "code",
   "execution_count": 34,
   "id": "8df838d6",
   "metadata": {},
   "outputs": [
    {
     "name": "stdout",
     "output_type": "stream",
     "text": [
      "Model: \"model_2\"\n",
      "_________________________________________________________________\n",
      " Layer (type)                Output Shape              Param #   \n",
      "=================================================================\n",
      " input_5 (InputLayer)        [(None, 128, 128, 1)]     0         \n",
      "                                                                 \n",
      " conv2d_6 (Conv2D)           (None, 126, 126, 64)      576       \n",
      "                                                                 \n",
      " max_pooling2d_6 (MaxPooling  (None, 63, 63, 64)       0         \n",
      " 2D)                                                             \n",
      "                                                                 \n",
      " flatten_6 (Flatten)         (None, 254016)            0         \n",
      "                                                                 \n",
      " dense_5 (Dense)             (None, 10)                2540170   \n",
      "                                                                 \n",
      "=================================================================\n",
      "Total params: 2,540,746\n",
      "Trainable params: 2,540,746\n",
      "Non-trainable params: 0\n",
      "_________________________________________________________________\n"
     ]
    }
   ],
   "source": [
    "model_3.summary()"
   ]
  },
  {
   "cell_type": "code",
   "execution_count": 1,
   "id": "0293139b",
   "metadata": {},
   "outputs": [],
   "source": [
    "model_name = 'c_nn.h5'"
   ]
  },
  {
   "cell_type": "code",
   "execution_count": null,
   "id": "fb2965f0",
   "metadata": {},
   "outputs": [],
   "source": [
    "model.save(model_name)"
   ]
  },
  {
   "cell_type": "code",
   "execution_count": null,
   "id": "2671da71",
   "metadata": {},
   "outputs": [],
   "source": [
    "import netron"
   ]
  },
  {
   "cell_type": "code",
   "execution_count": null,
   "id": "19bcd716",
   "metadata": {
    "scrolled": true
   },
   "outputs": [],
   "source": [
    "netron.start(model_name, 8081)"
   ]
  },
  {
   "cell_type": "code",
   "execution_count": null,
   "id": "b29684b4",
   "metadata": {},
   "outputs": [],
   "source": [
    "netron.stop()"
   ]
  },
  {
   "cell_type": "markdown",
   "id": "dcec9be6",
   "metadata": {},
   "source": [
    "### Helpful Readings: ###\n",
    "- https://medium.com/aiguys/deep-convolutional-neural-networks-dcnns-explained-in-layman-terms-b990b2818061"
   ]
  },
  {
   "cell_type": "code",
   "execution_count": null,
   "id": "646a734d",
   "metadata": {},
   "outputs": [],
   "source": []
  }
 ],
 "metadata": {
  "kernelspec": {
   "display_name": "Python 3 (ipykernel)",
   "language": "python",
   "name": "python3"
  },
  "language_info": {
   "codemirror_mode": {
    "name": "ipython",
    "version": 3
   },
   "file_extension": ".py",
   "mimetype": "text/x-python",
   "name": "python",
   "nbconvert_exporter": "python",
   "pygments_lexer": "ipython3",
   "version": "3.9.7"
  }
 },
 "nbformat": 4,
 "nbformat_minor": 5
}
