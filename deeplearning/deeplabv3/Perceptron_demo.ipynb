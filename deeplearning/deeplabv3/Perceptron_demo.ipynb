{
 "cells": [
  {
   "cell_type": "markdown",
   "id": "a49e688f",
   "metadata": {},
   "source": [
    "## What are the key parts of a neural network ##\n",
    "- Input\n",
    "- Layers > Type\n",
    "- Output\n",
    "\n",
    "## What is Perceptron ##\n",
    "A perceptron is a neural network unit (an artificial neuron) that does certain computations to detect features or business intelligence in the input data.  The perceptron consists of 4 parts.\n",
    "\n",
    "- Input or One input layer (+Weights and Bias)\n",
    "- Output (Net sum + Activation Function)\n",
    "\n"
   ]
  },
  {
   "cell_type": "markdown",
   "id": "8e1cf126",
   "metadata": {},
   "source": [
    "![](https://github.com/prodramp/python-projects/blob/main/images/neural-networks-small.png?raw=true)"
   ]
  },
  {
   "cell_type": "code",
   "execution_count": 2,
   "id": "f196ddb3",
   "metadata": {},
   "outputs": [],
   "source": [
    "import tensorflow as tf"
   ]
  },
  {
   "cell_type": "code",
   "execution_count": 3,
   "id": "8b3b7a36",
   "metadata": {},
   "outputs": [],
   "source": [
    "from tensorflow.keras.layers import Input, Dense"
   ]
  },
  {
   "cell_type": "code",
   "execution_count": 12,
   "id": "868b7ec6",
   "metadata": {},
   "outputs": [],
   "source": [
    "#input = Input(shape=(512,512,1))\n",
    "input = Input(shape=(1))"
   ]
  },
  {
   "cell_type": "code",
   "execution_count": 16,
   "id": "a8134812",
   "metadata": {},
   "outputs": [],
   "source": [
    "output = Dense(1, use_bias=True, activation=tf.nn.softmax)(input)\n",
    "# Try with use_bias = False too"
   ]
  },
  {
   "cell_type": "code",
   "execution_count": 17,
   "id": "a85889f6",
   "metadata": {},
   "outputs": [],
   "source": [
    "model = tf.keras.Model(inputs=input, outputs=output)"
   ]
  },
  {
   "cell_type": "code",
   "execution_count": 39,
   "id": "66aeffb5",
   "metadata": {},
   "outputs": [],
   "source": [
    "## Other way to build your perceptron neural network\n",
    "model = tf.keras.models.Sequential()\n",
    "model.add(Input(shape=(10)))\n",
    "model.add(Dense(1, use_bias=False))"
   ]
  },
  {
   "cell_type": "code",
   "execution_count": 38,
   "id": "6ae54e75",
   "metadata": {},
   "outputs": [
    {
     "name": "stdout",
     "output_type": "stream",
     "text": [
      "Model: \"sequential_2\"\n",
      "_________________________________________________________________\n",
      " Layer (type)                Output Shape              Param #   \n",
      "=================================================================\n",
      " dense_7 (Dense)             (None, 1)                 10        \n",
      "                                                                 \n",
      "=================================================================\n",
      "Total params: 10\n",
      "Trainable params: 10\n",
      "Non-trainable params: 0\n",
      "_________________________________________________________________\n"
     ]
    }
   ],
   "source": [
    "model.summary()"
   ]
  },
  {
   "cell_type": "code",
   "execution_count": 32,
   "id": "78aa0fd2",
   "metadata": {},
   "outputs": [],
   "source": [
    "model_name = 'preceptron.h5'"
   ]
  },
  {
   "cell_type": "code",
   "execution_count": 33,
   "id": "ea6badb9",
   "metadata": {},
   "outputs": [
    {
     "name": "stdout",
     "output_type": "stream",
     "text": [
      "WARNING:tensorflow:Compiled the loaded model, but the compiled metrics have yet to be built. `model.compile_metrics` will be empty until you train or evaluate the model.\n"
     ]
    }
   ],
   "source": [
    "model.save(model_name)"
   ]
  },
  {
   "cell_type": "code",
   "execution_count": 26,
   "id": "68459085",
   "metadata": {},
   "outputs": [],
   "source": [
    "import netron"
   ]
  },
  {
   "cell_type": "code",
   "execution_count": 34,
   "id": "d1f0cc9a",
   "metadata": {},
   "outputs": [
    {
     "name": "stdout",
     "output_type": "stream",
     "text": [
      "Serving 'preceptron.h5' at http://localhost:8081\n"
     ]
    },
    {
     "data": {
      "text/plain": [
       "('localhost', 8081)"
      ]
     },
     "execution_count": 34,
     "metadata": {},
     "output_type": "execute_result"
    }
   ],
   "source": [
    "netron.start(model_name, 8081)"
   ]
  },
  {
   "cell_type": "code",
   "execution_count": 41,
   "id": "6963398a",
   "metadata": {},
   "outputs": [],
   "source": [
    "netron.stop()"
   ]
  },
  {
   "cell_type": "markdown",
   "id": "5f64500a",
   "metadata": {},
   "source": [
    "### Helpful Readings: ###\n",
    "- https://towardsdatascience.com/what-the-hell-is-perceptron-626217814f53"
   ]
  },
  {
   "cell_type": "code",
   "execution_count": null,
   "id": "1014bffd",
   "metadata": {},
   "outputs": [],
   "source": []
  }
 ],
 "metadata": {
  "kernelspec": {
   "display_name": "Python 3 (ipykernel)",
   "language": "python",
   "name": "python3"
  },
  "language_info": {
   "codemirror_mode": {
    "name": "ipython",
    "version": 3
   },
   "file_extension": ".py",
   "mimetype": "text/x-python",
   "name": "python",
   "nbconvert_exporter": "python",
   "pygments_lexer": "ipython3",
   "version": "3.9.7"
  }
 },
 "nbformat": 4,
 "nbformat_minor": 5
}
