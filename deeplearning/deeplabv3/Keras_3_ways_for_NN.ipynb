{
 "cells": [
  {
   "cell_type": "code",
   "execution_count": 2,
   "id": "544d70be",
   "metadata": {},
   "outputs": [],
   "source": [
    "import tensorflow as tf\n",
    "from tensorflow.keras.layers import Input, Dense\n",
    "from keras.models import Sequential, Model"
   ]
  },
  {
   "cell_type": "markdown",
   "id": "3ff953db",
   "metadata": {},
   "source": [
    "## First Way to build your neural network in Keras"
   ]
  },
  {
   "cell_type": "code",
   "execution_count": 4,
   "id": "fcaf67c2",
   "metadata": {},
   "outputs": [
    {
     "name": "stderr",
     "output_type": "stream",
     "text": [
      "2022-04-04 19:04:36.625046: I tensorflow/core/platform/cpu_feature_guard.cc:151] This TensorFlow binary is optimized with oneAPI Deep Neural Network Library (oneDNN) to use the following CPU instructions in performance-critical operations:  AVX2 FMA\n",
      "To enable them in other operations, rebuild TensorFlow with the appropriate compiler flags.\n"
     ]
    }
   ],
   "source": [
    "model_1 = Sequential([\n",
    "  Dense(64, input_shape=(128, 128, 1), use_bias=False),\n",
    "  Dense(10, activation='softmax'),\n",
    "])"
   ]
  },
  {
   "cell_type": "code",
   "execution_count": 5,
   "id": "8791688c",
   "metadata": {},
   "outputs": [
    {
     "name": "stdout",
     "output_type": "stream",
     "text": [
      "Model: \"sequential\"\n",
      "_________________________________________________________________\n",
      " Layer (type)                Output Shape              Param #   \n",
      "=================================================================\n",
      " dense_1 (Dense)             (None, 128, 128, 64)      64        \n",
      "                                                                 \n",
      " dense_2 (Dense)             (None, 128, 128, 10)      650       \n",
      "                                                                 \n",
      "=================================================================\n",
      "Total params: 714\n",
      "Trainable params: 714\n",
      "Non-trainable params: 0\n",
      "_________________________________________________________________\n"
     ]
    }
   ],
   "source": [
    "model_1.summary()"
   ]
  },
  {
   "cell_type": "markdown",
   "id": "b5e76954",
   "metadata": {},
   "source": [
    "## Second Way to build your neural network in Keras"
   ]
  },
  {
   "cell_type": "code",
   "execution_count": 8,
   "id": "c5df8a80",
   "metadata": {},
   "outputs": [],
   "source": [
    "model_2 = Sequential()\n",
    "model_2.add(Input(shape=(128,128,1)))\n",
    "model_2.add(Dense(64,use_bias=False))\n",
    "model_2.add(Dense(10, activation='softmax'))"
   ]
  },
  {
   "cell_type": "code",
   "execution_count": 9,
   "id": "770d0b1d",
   "metadata": {},
   "outputs": [
    {
     "name": "stdout",
     "output_type": "stream",
     "text": [
      "Model: \"sequential_3\"\n",
      "_________________________________________________________________\n",
      " Layer (type)                Output Shape              Param #   \n",
      "=================================================================\n",
      " dense_4 (Dense)             (None, 128, 128, 64)      64        \n",
      "                                                                 \n",
      " dense_5 (Dense)             (None, 128, 128, 10)      650       \n",
      "                                                                 \n",
      "=================================================================\n",
      "Total params: 714\n",
      "Trainable params: 714\n",
      "Non-trainable params: 0\n",
      "_________________________________________________________________\n"
     ]
    }
   ],
   "source": [
    "model_2.summary()"
   ]
  },
  {
   "cell_type": "markdown",
   "id": "0a9074b3",
   "metadata": {},
   "source": [
    "## Third Way to build your neural network in Keras"
   ]
  },
  {
   "cell_type": "code",
   "execution_count": 13,
   "id": "0db002b3",
   "metadata": {},
   "outputs": [],
   "source": [
    "input = Input(shape=(128,128,1))\n",
    "hidden_layer1 = Dense(64,use_bias=False)(input)\n",
    "hidden_layer2 = Dense(10,use_bias=True)(hidden_layer1)\n",
    "model_3 = Model(inputs=input, outputs=hidden_layer2)"
   ]
  },
  {
   "cell_type": "code",
   "execution_count": 14,
   "id": "1c1bc6c3",
   "metadata": {},
   "outputs": [
    {
     "name": "stdout",
     "output_type": "stream",
     "text": [
      "Model: \"model_1\"\n",
      "_________________________________________________________________\n",
      " Layer (type)                Output Shape              Param #   \n",
      "=================================================================\n",
      " input_6 (InputLayer)        [(None, 128, 128, 1)]     0         \n",
      "                                                                 \n",
      " dense_8 (Dense)             (None, 128, 128, 64)      64        \n",
      "                                                                 \n",
      " dense_9 (Dense)             (None, 128, 128, 10)      650       \n",
      "                                                                 \n",
      "=================================================================\n",
      "Total params: 714\n",
      "Trainable params: 714\n",
      "Non-trainable params: 0\n",
      "_________________________________________________________________\n"
     ]
    }
   ],
   "source": [
    "model_3.summary()"
   ]
  },
  {
   "cell_type": "code",
   "execution_count": null,
   "id": "11e90a08",
   "metadata": {},
   "outputs": [],
   "source": []
  }
 ],
 "metadata": {
  "kernelspec": {
   "display_name": "Python 3 (ipykernel)",
   "language": "python",
   "name": "python3"
  },
  "language_info": {
   "codemirror_mode": {
    "name": "ipython",
    "version": 3
   },
   "file_extension": ".py",
   "mimetype": "text/x-python",
   "name": "python",
   "nbconvert_exporter": "python",
   "pygments_lexer": "ipython3",
   "version": "3.9.7"
  }
 },
 "nbformat": 4,
 "nbformat_minor": 5
}
