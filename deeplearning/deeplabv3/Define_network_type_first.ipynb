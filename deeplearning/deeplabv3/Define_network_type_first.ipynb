{
 "cells": [
  {
   "cell_type": "code",
   "execution_count": 85,
   "id": "de5bd0b6",
   "metadata": {},
   "outputs": [],
   "source": [
    "from tensorflow.keras.layers import BatchNormalization, Activation, MaxPool2D, Conv2DTranspose, Dense, Concatenate, Input\n",
    "from tensorflow.keras.models import Model"
   ]
  },
  {
   "cell_type": "code",
   "execution_count": 98,
   "id": "bd9098a1",
   "metadata": {},
   "outputs": [],
   "source": [
    "model = tf.keras.models.Sequential()"
   ]
  },
  {
   "cell_type": "code",
   "execution_count": 47,
   "id": "33b4518f",
   "metadata": {},
   "outputs": [],
   "source": [
    "#inputs = Input(shape=(512, 512, 3))\n",
    "#inputs = tf.keras.layers.Input(shape=(512,512,3))"
   ]
  },
  {
   "cell_type": "code",
   "execution_count": 99,
   "id": "c76cb0e0",
   "metadata": {},
   "outputs": [],
   "source": [
    "model.add(Input(shape=(512, 512, 3)))\n",
    "model.add(Dense(20, activation='relu'))\n",
    "model.add(Dense(10, activation='relu'))\n",
    "model.add(Dense(1, activation='sigmoid'))"
   ]
  },
  {
   "cell_type": "code",
   "execution_count": 100,
   "id": "f03ea5d1",
   "metadata": {},
   "outputs": [
    {
     "data": {
      "text/plain": [
       "[]"
      ]
     },
     "execution_count": 100,
     "metadata": {},
     "output_type": "execute_result"
    }
   ],
   "source": [
    "model.metrics_names"
   ]
  },
  {
   "cell_type": "code",
   "execution_count": 101,
   "id": "067778a2",
   "metadata": {},
   "outputs": [
    {
     "data": {
      "text/plain": [
       "(None, 512, 512, 1)"
      ]
     },
     "execution_count": 101,
     "metadata": {},
     "output_type": "execute_result"
    }
   ],
   "source": [
    "model.output_shape"
   ]
  },
  {
   "cell_type": "code",
   "execution_count": 102,
   "id": "c9fc569e",
   "metadata": {},
   "outputs": [],
   "source": [
    "model_name = \"hellomodel.h5\""
   ]
  },
  {
   "cell_type": "code",
   "execution_count": 103,
   "id": "3d4cb20a",
   "metadata": {},
   "outputs": [
    {
     "name": "stdout",
     "output_type": "stream",
     "text": [
      "WARNING:tensorflow:Compiled the loaded model, but the compiled metrics have yet to be built. `model.compile_metrics` will be empty until you train or evaluate the model.\n"
     ]
    }
   ],
   "source": [
    "model.save(model_name)"
   ]
  },
  {
   "cell_type": "code",
   "execution_count": 97,
   "id": "e7795c7f",
   "metadata": {},
   "outputs": [
    {
     "name": "stdout",
     "output_type": "stream",
     "text": [
      "total 202448\r\n",
      "drwxr-xr-x  8 avkash  staff   256B Apr  3 16:21 \u001b[1m\u001b[36m.\u001b[m\u001b[m\r\n",
      "drwxr-xr-x  4 avkash  staff   128B Apr  3 14:39 \u001b[1m\u001b[36m..\u001b[m\u001b[m\r\n",
      "drwxr-xr-x  4 avkash  staff   128B Apr  3 15:39 \u001b[1m\u001b[36m.ipynb_checkpoints\u001b[m\u001b[m\r\n",
      "-rw-r--r--  1 avkash  staff   6.2K Apr  3 16:21 Untitled.ipynb\r\n",
      "-rw-r--r--  1 avkash  staff   4.0K Apr  3 16:19 Untitled1.ipynb\r\n",
      "drwxr-xr-x  6 avkash  staff   192B Apr  3 14:38 \u001b[1m\u001b[36mhello-world\u001b[m\u001b[m\r\n",
      "-rw-r--r--  1 avkash  staff    26K Apr  3 16:22 hellomodel.h5\r\n",
      "-rw-r--r--  1 avkash  staff    99M Apr  3 14:38 vgg16.h5\r\n"
     ]
    }
   ],
   "source": [
    "!ls -lah"
   ]
  },
  {
   "cell_type": "code",
   "execution_count": 35,
   "id": "60e6f828",
   "metadata": {},
   "outputs": [
    {
     "name": "stdout",
     "output_type": "stream",
     "text": [
      "Stopping http://localhost:8081\n",
      "Serving 'hellomodel.h5' at http://localhost:8081\n"
     ]
    },
    {
     "data": {
      "text/plain": [
       "('localhost', 8081)"
      ]
     },
     "execution_count": 35,
     "metadata": {},
     "output_type": "execute_result"
    }
   ],
   "source": [
    "import netron\n",
    "netron.start(model_name, 8081)"
   ]
  },
  {
   "cell_type": "code",
   "execution_count": 10,
   "id": "61bf207a",
   "metadata": {},
   "outputs": [
    {
     "name": "stdout",
     "output_type": "stream",
     "text": [
      "WARNING:tensorflow:Compiled the loaded model, but the compiled metrics have yet to be built. `model.compile_metrics` will be empty until you train or evaluate the model.\n"
     ]
    }
   ],
   "source": [
    "model.save('vgg16.h5')"
   ]
  },
  {
   "cell_type": "code",
   "execution_count": 11,
   "id": "3851a5f2",
   "metadata": {},
   "outputs": [
    {
     "name": "stdout",
     "output_type": "stream",
     "text": [
      "total 202368\r\n",
      "drwxr-xr-x  6 avkash  staff   192B Apr  3 14:38 \u001b[1m\u001b[36m.\u001b[m\u001b[m\r\n",
      "drwxr-xr-x  3 avkash  staff    96B Apr  3 14:34 \u001b[1m\u001b[36m..\u001b[m\u001b[m\r\n",
      "drwxr-xr-x  3 avkash  staff    96B Apr  3 14:35 \u001b[1m\u001b[36m.ipynb_checkpoints\u001b[m\u001b[m\r\n",
      "-rw-r--r--  1 avkash  staff   3.0K Apr  3 14:37 Untitled.ipynb\r\n",
      "drwxr-xr-x  6 avkash  staff   192B Apr  3 14:38 \u001b[1m\u001b[36mhello-world\u001b[m\u001b[m\r\n",
      "-rw-r--r--  1 avkash  staff    99M Apr  3 14:38 vgg16.h5\r\n"
     ]
    }
   ],
   "source": [
    "!ls -lah"
   ]
  },
  {
   "cell_type": "code",
   "execution_count": 12,
   "id": "9ad47a5f",
   "metadata": {},
   "outputs": [
    {
     "name": "stdout",
     "output_type": "stream",
     "text": [
      "Serving 'vgg16.h5' at http://localhost:8081\n"
     ]
    },
    {
     "data": {
      "text/plain": [
       "('localhost', 8081)"
      ]
     },
     "execution_count": 12,
     "metadata": {},
     "output_type": "execute_result"
    }
   ],
   "source": [
    "import netron\n",
    "netron.start('vgg16.h5', 8081)"
   ]
  },
  {
   "cell_type": "code",
   "execution_count": 39,
   "id": "7980ff35",
   "metadata": {},
   "outputs": [],
   "source": [
    "netron.stop()"
   ]
  },
  {
   "cell_type": "code",
   "execution_count": null,
   "id": "25616e8d",
   "metadata": {},
   "outputs": [],
   "source": []
  }
 ],
 "metadata": {
  "kernelspec": {
   "display_name": "Python 3 (ipykernel)",
   "language": "python",
   "name": "python3"
  },
  "language_info": {
   "codemirror_mode": {
    "name": "ipython",
    "version": 3
   },
   "file_extension": ".py",
   "mimetype": "text/x-python",
   "name": "python",
   "nbconvert_exporter": "python",
   "pygments_lexer": "ipython3",
   "version": "3.9.7"
  }
 },
 "nbformat": 4,
 "nbformat_minor": 5
}
