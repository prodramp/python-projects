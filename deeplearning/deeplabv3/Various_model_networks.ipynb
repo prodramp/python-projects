{
 "cells": [
  {
   "cell_type": "code",
   "execution_count": 2,
   "id": "4df85d34",
   "metadata": {},
   "outputs": [],
   "source": [
    "import netron"
   ]
  },
  {
   "cell_type": "code",
   "execution_count": 3,
   "id": "15543b55",
   "metadata": {},
   "outputs": [],
   "source": [
    "netron.stop()"
   ]
  },
  {
   "cell_type": "code",
   "execution_count": 4,
   "id": "98223118",
   "metadata": {},
   "outputs": [
    {
     "name": "stdout",
     "output_type": "stream",
     "text": [
      "total 634064\r\n",
      "-rw-r--r--@ 1 avkash  staff   310M May  9  2018 model.ckpt.data-00000-of-00001\r\n",
      "-rw-r--r--@ 1 avkash  staff    54K May  9  2018 model.ckpt.index\r\n"
     ]
    }
   ],
   "source": [
    "!ls -lh ../../../xception_41"
   ]
  },
  {
   "cell_type": "code",
   "execution_count": 5,
   "id": "e1915196",
   "metadata": {},
   "outputs": [],
   "source": [
    "model_name = \"../../../xception_41/model.ckpt.data-00000-of-00001\""
   ]
  },
  {
   "cell_type": "code",
   "execution_count": 6,
   "id": "53043119",
   "metadata": {},
   "outputs": [
    {
     "name": "stdout",
     "output_type": "stream",
     "text": [
      "Serving '../../../xception_41/model.ckpt.data-00000-of-00001' at http://localhost:8080\n"
     ]
    },
    {
     "data": {
      "text/plain": [
       "('localhost', 8080)"
      ]
     },
     "execution_count": 6,
     "metadata": {},
     "output_type": "execute_result"
    }
   ],
   "source": [
    "netron.start(model_name)"
   ]
  },
  {
   "cell_type": "code",
   "execution_count": 11,
   "id": "799b097d",
   "metadata": {},
   "outputs": [
    {
     "name": "stdout",
     "output_type": "stream",
     "text": [
      "total 387560\r\n",
      "drwxr-xr-x  13 avkash  staff   416B Apr  4 14:26 \u001b[1m\u001b[36m.\u001b[m\u001b[m\r\n",
      "drwxr-xr-x   8 avkash  staff   256B Apr  4 14:30 \u001b[1m\u001b[36m..\u001b[m\u001b[m\r\n",
      "drwxr-xr-x   5 avkash  staff   160B Apr  4 00:49 \u001b[1m\u001b[36m.ipynb_checkpoints\u001b[m\u001b[m\r\n",
      "-rw-r--r--   1 avkash  staff   4.9K Apr  4 00:49 Creating_network_by_defining_model.ipynb\r\n",
      "-rw-r--r--   1 avkash  staff   6.4K Apr  4 00:32 Neural-network-getting-started.ipynb\r\n",
      "-rw-r--r--   1 avkash  staff   632B Apr  4 14:26 README.md\r\n",
      "-rw-r--r--@  1 avkash  staff   148K Apr  4 00:38 bicycle-kid.jpg\r\n",
      "-rw-r--r--   1 avkash  staff   591B Apr  4 14:26 first-nn.py\r\n",
      "-rw-r--r--   1 avkash  staff   263K Apr  4 00:48 pre-trained-resnet50-model.ipynb\r\n",
      "-rw-r--r--   1 avkash  staff    98M Apr  4 00:36 resnet100.h5\r\n",
      "-rw-r--r--   1 avkash  staff    90M Apr  4 00:48 resnet100_nc.h5\r\n",
      "-rw-r--r--   1 avkash  staff    21K Apr  4 00:10 simple_model.h5\r\n",
      "-rw-r--r--   1 avkash  staff    12K Apr  4 00:15 simple_model_new.h5\r\n"
     ]
    }
   ],
   "source": [
    "!ls -lah ../neural-network-starter"
   ]
  },
  {
   "cell_type": "code",
   "execution_count": 13,
   "id": "4009d516",
   "metadata": {},
   "outputs": [
    {
     "name": "stdout",
     "output_type": "stream",
     "text": [
      "Serving '../neural-network-starter/resnet100.h5' at http://localhost:8081\n"
     ]
    },
    {
     "data": {
      "text/plain": [
       "('localhost', 8081)"
      ]
     },
     "execution_count": 13,
     "metadata": {},
     "output_type": "execute_result"
    }
   ],
   "source": [
    "netron.start('../neural-network-starter/resnet100.h5')"
   ]
  },
  {
   "cell_type": "code",
   "execution_count": null,
   "id": "45568ad5",
   "metadata": {},
   "outputs": [],
   "source": []
  }
 ],
 "metadata": {
  "kernelspec": {
   "display_name": "Python 3 (ipykernel)",
   "language": "python",
   "name": "python3"
  },
  "language_info": {
   "codemirror_mode": {
    "name": "ipython",
    "version": 3
   },
   "file_extension": ".py",
   "mimetype": "text/x-python",
   "name": "python",
   "nbconvert_exporter": "python",
   "pygments_lexer": "ipython3",
   "version": "3.9.7"
  }
 },
 "nbformat": 4,
 "nbformat_minor": 5
}
