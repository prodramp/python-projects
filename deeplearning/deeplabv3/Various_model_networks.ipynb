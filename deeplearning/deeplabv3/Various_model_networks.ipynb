{
 "cells": [
  {
   "cell_type": "code",
   "execution_count": 4,
   "id": "4df85d34",
   "metadata": {},
   "outputs": [],
   "source": [
    "import netron"
   ]
  },
  {
   "cell_type": "code",
   "execution_count": 16,
   "id": "15543b55",
   "metadata": {},
   "outputs": [],
   "source": [
    "netron.stop()"
   ]
  },
  {
   "cell_type": "code",
   "execution_count": 12,
   "id": "98223118",
   "metadata": {},
   "outputs": [
    {
     "name": "stdout",
     "output_type": "stream",
     "text": [
      "total 648448\r\n",
      "-rw-r--r--@ 1 avkash  staff   310M May  9  2018 model.ckpt.data-00000-of-00001\r\n",
      "-rw-r--r--@ 1 avkash  staff    54K May  9  2018 model.ckpt.index\r\n"
     ]
    }
   ],
   "source": [
    "!ls -lh ../../../xception_41"
   ]
  },
  {
   "cell_type": "code",
   "execution_count": 13,
   "id": "e1915196",
   "metadata": {},
   "outputs": [],
   "source": [
    "model_name = \"../../../xception_41/model.ckpt.data-00000-of-00001\""
   ]
  },
  {
   "cell_type": "code",
   "execution_count": 18,
   "id": "53043119",
   "metadata": {},
   "outputs": [
    {
     "name": "stdout",
     "output_type": "stream",
     "text": [
      "Serving '../../../xception_41/model.ckpt.data-00000-of-00001' at http://localhost:8080\n"
     ]
    },
    {
     "data": {
      "text/plain": [
       "('localhost', 8080)"
      ]
     },
     "execution_count": 18,
     "metadata": {},
     "output_type": "execute_result"
    }
   ],
   "source": [
    "netron.start(model_name)"
   ]
  },
  {
   "cell_type": "code",
   "execution_count": 20,
   "id": "799b097d",
   "metadata": {},
   "outputs": [
    {
     "name": "stdout",
     "output_type": "stream",
     "text": [
      "total 202440\r\n",
      "drwxr-xr-x  9 avkash  staff   288B Apr  3 16:35 \u001b[1m\u001b[36m.\u001b[m\u001b[m\r\n",
      "drwxr-xr-x  4 avkash  staff   128B Apr  3 14:39 \u001b[1m\u001b[36m..\u001b[m\u001b[m\r\n",
      "drwxr-xr-x  5 avkash  staff   160B Apr  3 16:33 \u001b[1m\u001b[36m.ipynb_checkpoints\u001b[m\u001b[m\r\n",
      "-rw-r--r--  1 avkash  staff   4.9K Apr  3 16:29 Build_network_step_by_step.ipynb\r\n",
      "-rw-r--r--  1 avkash  staff   6.3K Apr  3 16:30 Define_network_type_first.ipynb\r\n",
      "-rw-r--r--  1 avkash  staff   2.1K Apr  3 16:35 Untitled.ipynb\r\n",
      "drwxr-xr-x  6 avkash  staff   192B Apr  3 14:38 \u001b[1m\u001b[36mhello-world\u001b[m\u001b[m\r\n",
      "-rw-r--r--  1 avkash  staff    19K Apr  3 16:23 hellomodel.h5\r\n",
      "-rw-r--r--  1 avkash  staff    99M Apr  3 14:38 vgg16.h5\r\n"
     ]
    }
   ],
   "source": [
    "!ls -lah"
   ]
  },
  {
   "cell_type": "code",
   "execution_count": 23,
   "id": "4009d516",
   "metadata": {},
   "outputs": [
    {
     "name": "stdout",
     "output_type": "stream",
     "text": [
      "Serving 'vgg16.h5' at http://localhost:24016\n"
     ]
    },
    {
     "data": {
      "text/plain": [
       "('localhost', 24016)"
      ]
     },
     "execution_count": 23,
     "metadata": {},
     "output_type": "execute_result"
    }
   ],
   "source": [
    "netron.start('vgg16.h5')"
   ]
  },
  {
   "cell_type": "code",
   "execution_count": null,
   "id": "45568ad5",
   "metadata": {},
   "outputs": [],
   "source": []
  }
 ],
 "metadata": {
  "kernelspec": {
   "display_name": "Python 3 (ipykernel)",
   "language": "python",
   "name": "python3"
  },
  "language_info": {
   "codemirror_mode": {
    "name": "ipython",
    "version": 3
   },
   "file_extension": ".py",
   "mimetype": "text/x-python",
   "name": "python",
   "nbconvert_exporter": "python",
   "pygments_lexer": "ipython3",
   "version": "3.9.7"
  }
 },
 "nbformat": 4,
 "nbformat_minor": 5
}
