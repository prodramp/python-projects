{
 "cells": [
  {
   "cell_type": "code",
   "execution_count": null,
   "id": "0ae03917",
   "metadata": {},
   "outputs": [],
   "source": [
    "import netron"
   ]
  },
  {
   "cell_type": "code",
   "execution_count": null,
   "id": "26ba3ce9",
   "metadata": {},
   "outputs": [],
   "source": [
    "netron.stop()"
   ]
  },
  {
   "cell_type": "code",
   "execution_count": null,
   "id": "af135964",
   "metadata": {},
   "outputs": [],
   "source": [
    "!ls -lh ../../../xception_41"
   ]
  },
  {
   "cell_type": "code",
   "execution_count": null,
   "id": "aca97c00",
   "metadata": {},
   "outputs": [],
   "source": [
    "model_name = \"../../../xception_41/model.ckpt.data-00000-of-00001\""
   ]
  },
  {
   "cell_type": "code",
   "execution_count": null,
   "id": "fc741b4c",
   "metadata": {},
   "outputs": [],
   "source": [
    "netron.start(model_name)"
   ]
  },
  {
   "cell_type": "code",
   "execution_count": null,
   "id": "5ef3391d",
   "metadata": {},
   "outputs": [],
   "source": [
    "!ls -lah ../neural-network-starter"
   ]
  },
  {
   "cell_type": "code",
   "execution_count": null,
   "id": "38dfd471",
   "metadata": {},
   "outputs": [],
   "source": [
    "netron.start('../neural-network-starter/resnet100.h5')"
   ]
  },
  {
   "cell_type": "code",
   "execution_count": null,
   "id": "804704f4",
   "metadata": {},
   "outputs": [],
   "source": []
  }
 ],
 "metadata": {
  "kernelspec": {
   "display_name": "Python 3 (ipykernel)",
   "language": "python",
   "name": "python3"
  },
  "language_info": {
   "codemirror_mode": {
    "name": "ipython",
    "version": 3
   },
   "file_extension": ".py",
   "mimetype": "text/x-python",
   "name": "python",
   "nbconvert_exporter": "python",
   "pygments_lexer": "ipython3",
   "version": "3.9.7"
  }
 },
 "nbformat": 4,
 "nbformat_minor": 5
}
