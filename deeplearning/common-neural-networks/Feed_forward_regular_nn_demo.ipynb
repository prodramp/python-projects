{
 "cells": [
  {
   "cell_type": "markdown",
   "id": "a006c749",
   "metadata": {},
   "source": [
    "## What are the key parts of a neural network ##\n",
    "- Input\n",
    "- Layers > Type\n",
    "- Output\n",
    "\n",
    "## What is Perceptron ##\n",
    "A perceptron is a neural network unit (an artificial neuron) that does certain computations to detect features or business intelligence in the input data at single level input and ouput.  The perceptron consists of 4 parts.\n",
    "\n",
    "- Input or One input layer (+Weights and Bias)\n",
    "- Output (Net sum + Activation Function)\n",
    "\n",
    "## What is Regular Neural Network (Multilayer Perceptron) ##\n",
    "A neural network (Multiple Layer Perceptron: Regular neural network ): It does a linear combination (a mathematical operation) between the previous layer's output and the current layer's weights(vectors) and then it passes data to the next layer by passing through an activation function. The picture shows a unit of a layer.\n",
    "\n",
    "Note:  A classic multilayer perceptron is a feed forward network composed of fully connected layers.\n",
    "\n",
    "### Fully Connected Network - Fully Connected Layer ###\n",
    "- A fully-connected network, or maybe more appropriately a fully-connected layer in a network is one such that every input neuron is connected to every neuron in the next layer. This, for example, contrasts with convolutional layers, where each output neuron depends on a subset of the input neurons.\n",
    "\n",
    "### Feed Forward Network ###\n",
    "- Feed forward simply means no cyclic connections. Just one way connections we can say. \n",
    "- The information flows in one forward direction. Hence called feed forward model.\n",
    "- Feed Forward Netwrok back propagation for training the network.\n",
    "\n",
    "## Feed Forward Vs Deep Feed Forward Network ##\n",
    "- A Feed forward network is not a preceptron, it means it has one hidden layer into it\n",
    "- A Deep Feed Forward network has 2 or more hidden layers into it\n"
   ]
  },
  {
   "cell_type": "markdown",
   "id": "40f60bc5",
   "metadata": {},
   "source": [
    "![](https://github.com/prodramp/python-projects/blob/main/images/neural-networks-small.png?raw=true)"
   ]
  },
  {
   "cell_type": "code",
   "execution_count": 2,
   "id": "e58d11c2",
   "metadata": {},
   "outputs": [],
   "source": [
    "import tensorflow as tf\n",
    "from tensorflow.keras.layers import Input, Dense\n",
    "from keras.models import Model, Sequential"
   ]
  },
  {
   "cell_type": "code",
   "execution_count": 12,
   "id": "4465fb88",
   "metadata": {},
   "outputs": [],
   "source": [
    "model_1 = Sequential([\n",
    "  Dense(64, input_shape=(24, 1), use_bias=True),\n",
    "  Dense(32),\n",
    "  Dense(16, activation=\"relu\"),\n",
    "  Dense(10, activation='softmax'),\n",
    "])"
   ]
  },
  {
   "cell_type": "code",
   "execution_count": 13,
   "id": "e1753143",
   "metadata": {},
   "outputs": [
    {
     "name": "stdout",
     "output_type": "stream",
     "text": [
      "Model: \"sequential_4\"\n",
      "_________________________________________________________________\n",
      " Layer (type)                Output Shape              Param #   \n",
      "=================================================================\n",
      " dense_13 (Dense)            (None, 24, 64)            128       \n",
      "                                                                 \n",
      " dense_14 (Dense)            (None, 24, 32)            2080      \n",
      "                                                                 \n",
      " dense_15 (Dense)            (None, 24, 16)            528       \n",
      "                                                                 \n",
      " dense_16 (Dense)            (None, 24, 10)            170       \n",
      "                                                                 \n",
      "=================================================================\n",
      "Total params: 2,906\n",
      "Trainable params: 2,906\n",
      "Non-trainable params: 0\n",
      "_________________________________________________________________\n"
     ]
    }
   ],
   "source": [
    "model_1.summary()"
   ]
  },
  {
   "cell_type": "code",
   "execution_count": 27,
   "id": "86773f49",
   "metadata": {},
   "outputs": [],
   "source": [
    "model_2 = Sequential()\n",
    "model_2.add(Input(shape=(80,1)))\n",
    "model_2.add(Dense(64,use_bias=False))\n",
    "model_2.add(Dense(32,use_bias=False))\n",
    "model_2.add(Dense(16,use_bias=True, activation='softmax'))\n",
    "model_2.add(Dense(8,use_bias=False))\n",
    "model_2.add(Dense(4,use_bias=False))\n",
    "model_2.add(Dense(2,use_bias=False))\n",
    "model_2.add(Dense(1, activation='softmax'))"
   ]
  },
  {
   "cell_type": "code",
   "execution_count": 28,
   "id": "b1b29a26",
   "metadata": {},
   "outputs": [
    {
     "name": "stdout",
     "output_type": "stream",
     "text": [
      "Model: \"sequential_8\"\n",
      "_________________________________________________________________\n",
      " Layer (type)                Output Shape              Param #   \n",
      "=================================================================\n",
      " dense_38 (Dense)            (None, 80, 64)            64        \n",
      "                                                                 \n",
      " dense_39 (Dense)            (None, 80, 32)            2048      \n",
      "                                                                 \n",
      " dense_40 (Dense)            (None, 80, 16)            528       \n",
      "                                                                 \n",
      " dense_41 (Dense)            (None, 80, 8)             128       \n",
      "                                                                 \n",
      " dense_42 (Dense)            (None, 80, 4)             32        \n",
      "                                                                 \n",
      " dense_43 (Dense)            (None, 80, 2)             8         \n",
      "                                                                 \n",
      " dense_44 (Dense)            (None, 80, 1)             3         \n",
      "                                                                 \n",
      "=================================================================\n",
      "Total params: 2,811\n",
      "Trainable params: 2,811\n",
      "Non-trainable params: 0\n",
      "_________________________________________________________________\n"
     ]
    }
   ],
   "source": [
    "model_2.summary()"
   ]
  },
  {
   "cell_type": "code",
   "execution_count": 16,
   "id": "09a4441d",
   "metadata": {},
   "outputs": [],
   "source": [
    "model_name = 'regular_nn.h5'"
   ]
  },
  {
   "cell_type": "code",
   "execution_count": 29,
   "id": "5578f501",
   "metadata": {},
   "outputs": [
    {
     "name": "stdout",
     "output_type": "stream",
     "text": [
      "WARNING:tensorflow:Compiled the loaded model, but the compiled metrics have yet to be built. `model.compile_metrics` will be empty until you train or evaluate the model.\n"
     ]
    }
   ],
   "source": [
    "model_2.save(model_name)"
   ]
  },
  {
   "cell_type": "code",
   "execution_count": 19,
   "id": "c33f1fb2",
   "metadata": {},
   "outputs": [],
   "source": [
    "import netron"
   ]
  },
  {
   "cell_type": "code",
   "execution_count": 20,
   "id": "2d5a3fc2",
   "metadata": {
    "scrolled": true
   },
   "outputs": [
    {
     "name": "stdout",
     "output_type": "stream",
     "text": [
      "Serving 'regular_nn.h5' at http://localhost:8081\n"
     ]
    },
    {
     "data": {
      "text/plain": [
       "('localhost', 8081)"
      ]
     },
     "execution_count": 20,
     "metadata": {},
     "output_type": "execute_result"
    }
   ],
   "source": [
    "netron.start(model_name, 8081)"
   ]
  },
  {
   "cell_type": "code",
   "execution_count": 31,
   "id": "d020daaf",
   "metadata": {},
   "outputs": [],
   "source": [
    "netron.stop()"
   ]
  },
  {
   "cell_type": "markdown",
   "id": "8eeaef1b",
   "metadata": {},
   "source": [
    "### Helpful Readings: ###\n",
    "- https://towardsdatascience.com/what-the-hell-is-perceptron-626217814f53"
   ]
  },
  {
   "cell_type": "code",
   "execution_count": null,
   "id": "f0533561",
   "metadata": {},
   "outputs": [],
   "source": []
  }
 ],
 "metadata": {
  "kernelspec": {
   "display_name": "Python 3 (ipykernel)",
   "language": "python",
   "name": "python3"
  },
  "language_info": {
   "codemirror_mode": {
    "name": "ipython",
    "version": 3
   },
   "file_extension": ".py",
   "mimetype": "text/x-python",
   "name": "python",
   "nbconvert_exporter": "python",
   "pygments_lexer": "ipython3",
   "version": "3.9.7"
  }
 },
 "nbformat": 4,
 "nbformat_minor": 5
}
