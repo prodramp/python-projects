{
 "cells": [
  {
   "cell_type": "markdown",
   "id": "649af09a",
   "metadata": {},
   "source": [
    "## What are the key parts of a neural network ##\n",
    "- Input\n",
    "- Layers > Type\n",
    "- Output\n",
    "\n",
    "## What is Perceptron ##\n",
    "A perceptron is a neural network unit (an artificial neuron) that does certain computations to detect features or business intelligence in the input data at single level input and ouput.  The perceptron consists of 4 parts.\n",
    "\n",
    "- Input or One input layer (+Weights and Bias)\n",
    "- Output (Net sum + Activation Function)\n",
    "\n",
    "## What is Regular Neural Network (Multilayer Perceptron) ##\n",
    "A neural network (Multiple Layer Perceptron: Regular neural network ): It does a linear combination (a mathematical operation) between the previous layer's output and the current layer's weights(vectors) and then it passes data to the next layer by passing through an activation function. The picture shows a unit of a layer.\n",
    "\n",
    "Note:  A classic multilayer perceptron is a feed forward network composed of fully connected layers.\n",
    "\n",
    "### Fully Connected Network - Fully Connected Layer ###\n",
    "- A fully-connected network, or maybe more appropriately a fully-connected layer in a network is one such that every input neuron is connected to every neuron in the next layer. This, for example, contrasts with convolutional layers, where each output neuron depends on a subset of the input neurons.\n",
    "\n",
    "### Feed Forward Network ###\n",
    "- Feed forward simply means no cyclic connections. Just one way connections we can say. \n",
    "- The information flows in one forward direction. Hence called feed forward model.\n",
    "- Feed Forward Netwrok back propagation for training the network.\n",
    "\n",
    "## Feed Forward Vs Deep Feed Forward Network ##\n",
    "- A Feed forward network is not a preceptron, it means it has one hidden layer into it\n",
    "- A Deep Feed Forward network has 2 or more hidden layers into it\n",
    "\n",
    "\n",
    "## What is CNN or Convolutional Neural Networks ##\n",
    "1. Convolutional Layer\n",
    "2. Pooling Layer\n",
    "3. Fully Connected Layer\n",
    "4. Dropout\n",
    "5. Activation Functions\n"
   ]
  },
  {
   "cell_type": "markdown",
   "id": "c5748867",
   "metadata": {},
   "source": [
    "![](https://github.com/prodramp/python-projects/blob/main/images/neural-networks-small.png?raw=true)"
   ]
  },
  {
   "cell_type": "code",
   "execution_count": 1,
   "id": "44005859",
   "metadata": {},
   "outputs": [],
   "source": [
    "import tensorflow as tf"
   ]
  },
  {
   "cell_type": "code",
   "execution_count": 2,
   "id": "ff79aff6",
   "metadata": {},
   "outputs": [],
   "source": [
    "from tensorflow.keras.layers import Input, Dense, Conv2D, MaxPooling2D, Flatten  \n",
    "from keras.models import Sequential, Model"
   ]
  },
  {
   "cell_type": "code",
   "execution_count": 20,
   "id": "cdd5368a",
   "metadata": {},
   "outputs": [],
   "source": [
    "model_cnn = Sequential([\n",
    "    Conv2D(64, 3, input_shape=(128,128,1), use_bias=True ),\n",
    "    MaxPooling2D(pool_size=4),\n",
    "    Flatten(),\n",
    "    Dense(10, activation='softmax')\n",
    "])"
   ]
  },
  {
   "cell_type": "code",
   "execution_count": 21,
   "id": "261af54f",
   "metadata": {},
   "outputs": [
    {
     "name": "stdout",
     "output_type": "stream",
     "text": [
      "Model: \"sequential_6\"\n",
      "_________________________________________________________________\n",
      " Layer (type)                Output Shape              Param #   \n",
      "=================================================================\n",
      " conv2d_6 (Conv2D)           (None, 126, 126, 64)      640       \n",
      "                                                                 \n",
      " max_pooling2d_5 (MaxPooling  (None, 31, 31, 64)       0         \n",
      " 2D)                                                             \n",
      "                                                                 \n",
      " flatten_4 (Flatten)         (None, 61504)             0         \n",
      "                                                                 \n",
      " dense_3 (Dense)             (None, 10)                615050    \n",
      "                                                                 \n",
      "=================================================================\n",
      "Total params: 615,690\n",
      "Trainable params: 615,690\n",
      "Non-trainable params: 0\n",
      "_________________________________________________________________\n"
     ]
    }
   ],
   "source": [
    "model_cnn.summary()"
   ]
  },
  {
   "cell_type": "code",
   "execution_count": 23,
   "id": "85547903",
   "metadata": {},
   "outputs": [],
   "source": [
    "model_2 = Sequential()\n",
    "model_2.add(Conv2D(64, 3, input_shape=(128,128,1), use_bias=True ))\n",
    "model_2.add(MaxPooling2D(pool_size=4))\n",
    "model_2.add(Flatten())\n",
    "model_2.add(Dense(10, activation='softmax'))"
   ]
  },
  {
   "cell_type": "code",
   "execution_count": 24,
   "id": "ac5d477e",
   "metadata": {},
   "outputs": [
    {
     "name": "stdout",
     "output_type": "stream",
     "text": [
      "Model: \"sequential_7\"\n",
      "_________________________________________________________________\n",
      " Layer (type)                Output Shape              Param #   \n",
      "=================================================================\n",
      " conv2d_7 (Conv2D)           (None, 126, 126, 64)      640       \n",
      "                                                                 \n",
      " max_pooling2d_6 (MaxPooling  (None, 31, 31, 64)       0         \n",
      " 2D)                                                             \n",
      "                                                                 \n",
      " flatten_5 (Flatten)         (None, 61504)             0         \n",
      "                                                                 \n",
      " dense_4 (Dense)             (None, 10)                615050    \n",
      "                                                                 \n",
      "=================================================================\n",
      "Total params: 615,690\n",
      "Trainable params: 615,690\n",
      "Non-trainable params: 0\n",
      "_________________________________________________________________\n"
     ]
    }
   ],
   "source": [
    "model_2.summary()"
   ]
  },
  {
   "cell_type": "code",
   "execution_count": 16,
   "id": "2b400b66",
   "metadata": {},
   "outputs": [],
   "source": [
    "model_name = 'c_nn.h5'"
   ]
  },
  {
   "cell_type": "code",
   "execution_count": 22,
   "id": "8910452d",
   "metadata": {},
   "outputs": [
    {
     "name": "stdout",
     "output_type": "stream",
     "text": [
      "WARNING:tensorflow:Compiled the loaded model, but the compiled metrics have yet to be built. `model.compile_metrics` will be empty until you train or evaluate the model.\n"
     ]
    }
   ],
   "source": [
    "model_cnn.save(model_name)"
   ]
  },
  {
   "cell_type": "code",
   "execution_count": 18,
   "id": "d81747bb",
   "metadata": {},
   "outputs": [],
   "source": [
    "import netron"
   ]
  },
  {
   "cell_type": "code",
   "execution_count": 19,
   "id": "ba84ded1",
   "metadata": {
    "scrolled": true
   },
   "outputs": [
    {
     "name": "stdout",
     "output_type": "stream",
     "text": [
      "Serving 'c_nn.h5' at http://localhost:8081\n"
     ]
    },
    {
     "data": {
      "text/plain": [
       "('localhost', 8081)"
      ]
     },
     "execution_count": 19,
     "metadata": {},
     "output_type": "execute_result"
    }
   ],
   "source": [
    "netron.start(model_name, 8081)"
   ]
  },
  {
   "cell_type": "code",
   "execution_count": 26,
   "id": "d2fa50a0",
   "metadata": {},
   "outputs": [],
   "source": [
    "netron.stop()"
   ]
  },
  {
   "cell_type": "markdown",
   "id": "5705a947",
   "metadata": {},
   "source": [
    "### Helpful Readings: ###\n",
    "- https://medium.com/aiguys/deep-convolutional-neural-networks-dcnns-explained-in-layman-terms-b990b2818061"
   ]
  },
  {
   "cell_type": "code",
   "execution_count": null,
   "id": "461a6617",
   "metadata": {},
   "outputs": [],
   "source": []
  }
 ],
 "metadata": {
  "kernelspec": {
   "display_name": "Python 3 (ipykernel)",
   "language": "python",
   "name": "python3"
  },
  "language_info": {
   "codemirror_mode": {
    "name": "ipython",
    "version": 3
   },
   "file_extension": ".py",
   "mimetype": "text/x-python",
   "name": "python",
   "nbconvert_exporter": "python",
   "pygments_lexer": "ipython3",
   "version": "3.9.7"
  }
 },
 "nbformat": 4,
 "nbformat_minor": 5
}
