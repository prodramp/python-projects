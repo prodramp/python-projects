{
 "cells": [
  {
   "cell_type": "markdown",
   "id": "8be20d2d",
   "metadata": {},
   "source": [
    "## What are the key parts of a neural network ##\n",
    "- Input\n",
    "- Layers > Type\n",
    "- Output\n",
    "\n",
    "## What is Perceptron ##\n",
    "A perceptron is a neural network unit (an artificial neuron) that does certain computations to detect features or business intelligence in the input data.  The perceptron consists of 4 parts.\n",
    "\n",
    "- Input or One input layer (+Weights and Bias)\n",
    "- Output (Net sum + Activation Function)\n",
    "\n"
   ]
  },
  {
   "cell_type": "markdown",
   "id": "4ff86d21",
   "metadata": {},
   "source": [
    "![](https://github.com/prodramp/python-projects/blob/main/images/neural-networks-small.png?raw=true)"
   ]
  },
  {
   "cell_type": "code",
   "execution_count": 5,
   "id": "c1a6bab4",
   "metadata": {},
   "outputs": [],
   "source": [
    "import tensorflow as tf"
   ]
  },
  {
   "cell_type": "code",
   "execution_count": 6,
   "id": "459cb906",
   "metadata": {},
   "outputs": [],
   "source": [
    "from tensorflow.keras.layers import Input, Dense\n",
    "from keras.models import Sequential, Model"
   ]
  },
  {
   "cell_type": "code",
   "execution_count": 14,
   "id": "5c4e338b",
   "metadata": {},
   "outputs": [],
   "source": [
    "model_2 = Sequential()\n",
    "model_2.add(Input(shape=(1)))\n",
    "model_2.add(Dense(10, activation='softmax'))"
   ]
  },
  {
   "cell_type": "code",
   "execution_count": 15,
   "id": "0c1de88c",
   "metadata": {},
   "outputs": [
    {
     "name": "stdout",
     "output_type": "stream",
     "text": [
      "Model: \"sequential_2\"\n",
      "_________________________________________________________________\n",
      " Layer (type)                Output Shape              Param #   \n",
      "=================================================================\n",
      " dense_5 (Dense)             (None, 10)                20        \n",
      "                                                                 \n",
      "=================================================================\n",
      "Total params: 20\n",
      "Trainable params: 20\n",
      "Non-trainable params: 0\n",
      "_________________________________________________________________\n"
     ]
    }
   ],
   "source": [
    "model_2.summary()"
   ]
  },
  {
   "cell_type": "code",
   "execution_count": 20,
   "id": "8efd6792",
   "metadata": {},
   "outputs": [],
   "source": [
    "input = Input(shape=(128,128,1))\n",
    "output_layer = Dense(10,use_bias=True, activation='softmax')(input)\n",
    "model_3 = Model(inputs=input, outputs=output_layer)"
   ]
  },
  {
   "cell_type": "code",
   "execution_count": 21,
   "id": "8f3f7eff",
   "metadata": {},
   "outputs": [
    {
     "name": "stdout",
     "output_type": "stream",
     "text": [
      "Model: \"model_4\"\n",
      "_________________________________________________________________\n",
      " Layer (type)                Output Shape              Param #   \n",
      "=================================================================\n",
      " input_12 (InputLayer)       [(None, 128, 128, 1)]     0         \n",
      "                                                                 \n",
      " dense_7 (Dense)             (None, 128, 128, 10)      20        \n",
      "                                                                 \n",
      "=================================================================\n",
      "Total params: 20\n",
      "Trainable params: 20\n",
      "Non-trainable params: 0\n",
      "_________________________________________________________________\n"
     ]
    }
   ],
   "source": [
    "model_3.summary()"
   ]
  },
  {
   "cell_type": "code",
   "execution_count": 26,
   "id": "b89c5939",
   "metadata": {},
   "outputs": [],
   "source": [
    "model_1 = Sequential([\n",
    "  Dense(10, input_shape=(128, 128, 1), use_bias=False, activation='softmax')\n",
    "])"
   ]
  },
  {
   "cell_type": "code",
   "execution_count": 27,
   "id": "0fa24a50",
   "metadata": {},
   "outputs": [
    {
     "name": "stdout",
     "output_type": "stream",
     "text": [
      "Model: \"sequential_5\"\n",
      "_________________________________________________________________\n",
      " Layer (type)                Output Shape              Param #   \n",
      "=================================================================\n",
      " dense_10 (Dense)            (None, 128, 128, 10)      10        \n",
      "                                                                 \n",
      "=================================================================\n",
      "Total params: 10\n",
      "Trainable params: 10\n",
      "Non-trainable params: 0\n",
      "_________________________________________________________________\n"
     ]
    }
   ],
   "source": [
    "model_1.summary()"
   ]
  },
  {
   "cell_type": "code",
   "execution_count": 28,
   "id": "e561e6ff",
   "metadata": {},
   "outputs": [],
   "source": [
    "model_name = 'model_temp.h5'"
   ]
  },
  {
   "cell_type": "code",
   "execution_count": 29,
   "id": "3e918242",
   "metadata": {},
   "outputs": [
    {
     "name": "stdout",
     "output_type": "stream",
     "text": [
      "WARNING:tensorflow:Compiled the loaded model, but the compiled metrics have yet to be built. `model.compile_metrics` will be empty until you train or evaluate the model.\n"
     ]
    }
   ],
   "source": [
    "model_1.save(model_name)"
   ]
  },
  {
   "cell_type": "code",
   "execution_count": 31,
   "id": "843e8c82",
   "metadata": {},
   "outputs": [
    {
     "name": "stdout",
     "output_type": "stream",
     "text": [
      "total 448\r\n",
      "drwxr-xr-x  13 avkash  staff   416B Apr  4 21:11 \u001b[1m\u001b[36m.\u001b[m\u001b[m\r\n",
      "drwxr-xr-x   8 avkash  staff   256B Apr  4 17:35 \u001b[1m\u001b[36m..\u001b[m\u001b[m\r\n",
      "-rw-r--r--@  1 avkash  staff   6.0K Apr  4 20:40 .DS_Store\r\n",
      "drwxr-xr-x   8 avkash  staff   256B Apr  4 20:46 \u001b[1m\u001b[36m.ipynb_checkpoints\u001b[m\u001b[m\r\n",
      "-rw-r--r--   1 avkash  staff   5.2K Apr  4 20:56 Convolutional_neural_networks_demo.ipynb\r\n",
      "-rw-r--r--   1 avkash  staff   4.5K Apr  4 20:56 Feed_forward_regular_nn_demo.ipynb\r\n",
      "-rw-r--r--   1 avkash  staff   8.2K Apr  4 21:04 Keras_3_ways_for_NN.ipynb\r\n",
      "-rw-r--r--   1 avkash  staff   6.1K Apr  4 21:11 Perceptron_demo.ipynb\r\n",
      "-rw-r--r--   1 avkash  staff   4.3K Apr  4 17:35 README.md\r\n",
      "-rw-r--r--   1 avkash  staff   1.8K Apr  4 20:57 Various_model_networks.ipynb\r\n",
      "-rw-r--r--@  1 avkash  staff   148K Apr  3 16:38 bicycle-kid.jpg\r\n",
      "-rw-r--r--   1 avkash  staff   1.4K Apr  4 20:56 convolution_neural_network_converage.ipynb\r\n",
      "-rw-r--r--   1 avkash  staff    12K Apr  4 21:12 model_temp.h5\r\n"
     ]
    }
   ],
   "source": [
    "!ls -lah"
   ]
  },
  {
   "cell_type": "code",
   "execution_count": null,
   "id": "fc87ed6e",
   "metadata": {},
   "outputs": [],
   "source": [
    "import netron"
   ]
  },
  {
   "cell_type": "code",
   "execution_count": null,
   "id": "e6c431cf",
   "metadata": {},
   "outputs": [],
   "source": [
    "netron.start(model_name, 8081)"
   ]
  },
  {
   "cell_type": "code",
   "execution_count": null,
   "id": "a8894bd5",
   "metadata": {},
   "outputs": [],
   "source": [
    "netron.stop()"
   ]
  },
  {
   "cell_type": "markdown",
   "id": "a153cd88",
   "metadata": {},
   "source": [
    "### Helpful Readings: ###\n",
    "- https://towardsdatascience.com/what-the-hell-is-perceptron-626217814f53"
   ]
  },
  {
   "cell_type": "code",
   "execution_count": null,
   "id": "5ebd61ca",
   "metadata": {},
   "outputs": [],
   "source": []
  }
 ],
 "metadata": {
  "kernelspec": {
   "display_name": "Python 3 (ipykernel)",
   "language": "python",
   "name": "python3"
  },
  "language_info": {
   "codemirror_mode": {
    "name": "ipython",
    "version": 3
   },
   "file_extension": ".py",
   "mimetype": "text/x-python",
   "name": "python",
   "nbconvert_exporter": "python",
   "pygments_lexer": "ipython3",
   "version": "3.9.7"
  }
 },
 "nbformat": 4,
 "nbformat_minor": 5
}
