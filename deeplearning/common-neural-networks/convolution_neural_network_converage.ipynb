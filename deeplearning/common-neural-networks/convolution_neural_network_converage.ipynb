{
 "cells": [
  {
   "cell_type": "markdown",
   "id": "8155207d",
   "metadata": {},
   "source": [
    "## Coming Next ##\n",
    "\n",
    "### We need to cover the following in CNN/Regular NN: ###\n",
    "\n",
    "- Fully connected Layer\n",
    "- Back Propagation\n",
    "- Activation Function\n",
    "- Pooling and MaxPooling\n",
    "- Flatten\n",
    "- Dropout\n",
    "\n",
    "### DCNN (Deep CNN) ###\n",
    "\n",
    "1. Convolutional Layer + Relu\n",
    "2. Pooling Layer\n",
    "3. Fully Connected Layer\n",
    "4. Dropout\n",
    "5. Activation Functions\n",
    "\n",
    "![](https://github.com/prodramp/python-projects/blob/main/images/perceptron-works.png?raw=true)\n",
    "\n",
    "Image and Resource Reference:\n",
    "- https://towardsdatascience.com/what-the-hell-is-perceptron-626217814f53"
   ]
  },
  {
   "cell_type": "code",
   "execution_count": null,
   "id": "d33a37ae",
   "metadata": {},
   "outputs": [],
   "source": []
  }
 ],
 "metadata": {
  "kernelspec": {
   "display_name": "Python 3 (ipykernel)",
   "language": "python",
   "name": "python3"
  },
  "language_info": {
   "codemirror_mode": {
    "name": "ipython",
    "version": 3
   },
   "file_extension": ".py",
   "mimetype": "text/x-python",
   "name": "python",
   "nbconvert_exporter": "python",
   "pygments_lexer": "ipython3",
   "version": "3.9.7"
  }
 },
 "nbformat": 4,
 "nbformat_minor": 5
}
