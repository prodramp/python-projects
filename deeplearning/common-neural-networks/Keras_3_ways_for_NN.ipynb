{
 "cells": [
  {
   "cell_type": "code",
   "execution_count": 1,
   "id": "2285e2b1",
   "metadata": {},
   "outputs": [],
   "source": [
    "import tensorflow as tf\n",
    "from tensorflow.keras.layers import Input, Dense\n",
    "from keras.models import Sequential, Model"
   ]
  },
  {
   "cell_type": "markdown",
   "id": "cefa511f",
   "metadata": {},
   "source": [
    "## First Way to build your neural network in Keras"
   ]
  },
  {
   "cell_type": "code",
   "execution_count": 7,
   "id": "a66b5bd9",
   "metadata": {},
   "outputs": [],
   "source": [
    "model_1 = Sequential([\n",
    "  Dense(64, input_shape=(128, 128, 1), use_bias=False),\n",
    "  Dense(10, activation='softmax'),\n",
    "])"
   ]
  },
  {
   "cell_type": "code",
   "execution_count": 8,
   "id": "91859962",
   "metadata": {},
   "outputs": [
    {
     "name": "stdout",
     "output_type": "stream",
     "text": [
      "Model: \"sequential_2\"\n",
      "_________________________________________________________________\n",
      " Layer (type)                Output Shape              Param #   \n",
      "=================================================================\n",
      " dense_6 (Dense)             (None, 128, 128, 64)      64        \n",
      "                                                                 \n",
      " dense_7 (Dense)             (None, 128, 128, 10)      650       \n",
      "                                                                 \n",
      "=================================================================\n",
      "Total params: 714\n",
      "Trainable params: 714\n",
      "Non-trainable params: 0\n",
      "_________________________________________________________________\n"
     ]
    }
   ],
   "source": [
    "model_1.summary()"
   ]
  },
  {
   "cell_type": "markdown",
   "id": "11be86a7",
   "metadata": {},
   "source": [
    "## Second Way to build your neural network in Keras"
   ]
  },
  {
   "cell_type": "code",
   "execution_count": 4,
   "id": "2fc4f1f8",
   "metadata": {},
   "outputs": [],
   "source": [
    "model_2 = Sequential()\n",
    "model_2.add(Input(shape=(128,128,1)))\n",
    "model_2.add(Dense(64,use_bias=False))\n",
    "model_2.add(Dense(10, activation='softmax'))"
   ]
  },
  {
   "cell_type": "code",
   "execution_count": 5,
   "id": "97a4f313",
   "metadata": {},
   "outputs": [
    {
     "name": "stdout",
     "output_type": "stream",
     "text": [
      "Model: \"sequential\"\n",
      "_________________________________________________________________\n",
      " Layer (type)                Output Shape              Param #   \n",
      "=================================================================\n",
      " dense_2 (Dense)             (None, 128, 128, 64)      64        \n",
      "                                                                 \n",
      " dense_3 (Dense)             (None, 128, 128, 10)      650       \n",
      "                                                                 \n",
      "=================================================================\n",
      "Total params: 714\n",
      "Trainable params: 714\n",
      "Non-trainable params: 0\n",
      "_________________________________________________________________\n"
     ]
    }
   ],
   "source": [
    "model_2.summary()"
   ]
  },
  {
   "cell_type": "markdown",
   "id": "c04dd38e",
   "metadata": {},
   "source": [
    "## Third Way to build your neural network in Keras"
   ]
  },
  {
   "cell_type": "code",
   "execution_count": 16,
   "id": "51b78425",
   "metadata": {},
   "outputs": [],
   "source": [
    "input = Input(shape=(128,128,1))\n",
    "hidden_layer1 = Dense(64,use_bias=False)(input)\n",
    "hidden_layer2 = Dense(10,use_bias=True, activation='softmax')(hidden_layer1)\n",
    "model_3 = Model(inputs=input, outputs=hidden_layer2)"
   ]
  },
  {
   "cell_type": "code",
   "execution_count": 17,
   "id": "ddc47531",
   "metadata": {},
   "outputs": [
    {
     "name": "stdout",
     "output_type": "stream",
     "text": [
      "Model: \"model_1\"\n",
      "_________________________________________________________________\n",
      " Layer (type)                Output Shape              Param #   \n",
      "=================================================================\n",
      " input_3 (InputLayer)        [(None, 128, 128, 1)]     0         \n",
      "                                                                 \n",
      " dense_8 (Dense)             (None, 128, 128, 64)      64        \n",
      "                                                                 \n",
      " dense_9 (Dense)             (None, 128, 128, 10)      650       \n",
      "                                                                 \n",
      "=================================================================\n",
      "Total params: 714\n",
      "Trainable params: 714\n",
      "Non-trainable params: 0\n",
      "_________________________________________________________________\n"
     ]
    }
   ],
   "source": [
    "model_3.summary()"
   ]
  },
  {
   "cell_type": "code",
   "execution_count": 14,
   "id": "8c740cb0",
   "metadata": {},
   "outputs": [],
   "source": [
    "model_name = 'model_temp.h5'"
   ]
  },
  {
   "cell_type": "code",
   "execution_count": 18,
   "id": "ba65ab97",
   "metadata": {},
   "outputs": [
    {
     "name": "stdout",
     "output_type": "stream",
     "text": [
      "WARNING:tensorflow:Compiled the loaded model, but the compiled metrics have yet to be built. `model.compile_metrics` will be empty until you train or evaluate the model.\n"
     ]
    }
   ],
   "source": [
    "model_3.save(model_name)"
   ]
  },
  {
   "cell_type": "code",
   "execution_count": 11,
   "id": "b3a45e03",
   "metadata": {},
   "outputs": [
    {
     "name": "stdout",
     "output_type": "stream",
     "text": [
      "total 448\r\n",
      "drwxr-xr-x  13 avkash  staff   416B Apr  4 21:00 \u001b[1m\u001b[36m.\u001b[m\u001b[m\r\n",
      "drwxr-xr-x   8 avkash  staff   256B Apr  4 17:35 \u001b[1m\u001b[36m..\u001b[m\u001b[m\r\n",
      "-rw-r--r--@  1 avkash  staff   6.0K Apr  4 20:40 .DS_Store\r\n",
      "drwxr-xr-x   8 avkash  staff   256B Apr  4 20:46 \u001b[1m\u001b[36m.ipynb_checkpoints\u001b[m\u001b[m\r\n",
      "-rw-r--r--   1 avkash  staff   5.2K Apr  4 20:56 Convolutional_neural_networks_demo.ipynb\r\n",
      "-rw-r--r--   1 avkash  staff   4.5K Apr  4 20:56 Feed_forward_regular_nn_demo.ipynb\r\n",
      "-rw-r--r--   1 avkash  staff   4.9K Apr  4 20:58 Keras_3_ways_for_NN.ipynb\r\n",
      "-rw-r--r--   1 avkash  staff   2.4K Apr  4 20:56 Perceptron_demo.ipynb\r\n",
      "-rw-r--r--   1 avkash  staff   4.3K Apr  4 17:35 README.md\r\n",
      "-rw-r--r--   1 avkash  staff   1.8K Apr  4 20:57 Various_model_networks.ipynb\r\n",
      "-rw-r--r--@  1 avkash  staff   148K Apr  3 16:38 bicycle-kid.jpg\r\n",
      "-rw-r--r--   1 avkash  staff   1.4K Apr  4 20:56 convolution_neural_network_converage.ipynb\r\n",
      "-rw-r--r--   1 avkash  staff    18K Apr  4 21:00 model_temp.h5\r\n"
     ]
    }
   ],
   "source": [
    "!ls -lah"
   ]
  },
  {
   "cell_type": "code",
   "execution_count": 12,
   "id": "01bfef9a",
   "metadata": {},
   "outputs": [],
   "source": [
    "import netron"
   ]
  },
  {
   "cell_type": "code",
   "execution_count": 15,
   "id": "d9d148d9",
   "metadata": {},
   "outputs": [
    {
     "name": "stdout",
     "output_type": "stream",
     "text": [
      "Serving 'model_temp.h5' at http://localhost:8081\n"
     ]
    },
    {
     "data": {
      "text/plain": [
       "('localhost', 8081)"
      ]
     },
     "execution_count": 15,
     "metadata": {},
     "output_type": "execute_result"
    }
   ],
   "source": [
    "netron.start(model_name, 8081)"
   ]
  },
  {
   "cell_type": "code",
   "execution_count": 20,
   "id": "a091535c",
   "metadata": {},
   "outputs": [],
   "source": [
    "netron.stop()"
   ]
  },
  {
   "cell_type": "code",
   "execution_count": null,
   "id": "ff4c60fc",
   "metadata": {},
   "outputs": [],
   "source": []
  }
 ],
 "metadata": {
  "kernelspec": {
   "display_name": "Python 3 (ipykernel)",
   "language": "python",
   "name": "python3"
  },
  "language_info": {
   "codemirror_mode": {
    "name": "ipython",
    "version": 3
   },
   "file_extension": ".py",
   "mimetype": "text/x-python",
   "name": "python",
   "nbconvert_exporter": "python",
   "pygments_lexer": "ipython3",
   "version": "3.9.7"
  }
 },
 "nbformat": 4,
 "nbformat_minor": 5
}
