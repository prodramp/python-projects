{
 "cells": [
  {
   "cell_type": "code",
   "execution_count": 1,
   "id": "9c5b97cc",
   "metadata": {},
   "outputs": [],
   "source": [
    "import tensorflow as tf\n",
    "from tensorflow.keras.layers import Input, Dense"
   ]
  },
  {
   "cell_type": "code",
   "execution_count": 102,
   "id": "4a808273",
   "metadata": {},
   "outputs": [],
   "source": [
    "model = tf.keras.models.Sequential()"
   ]
  },
  {
   "cell_type": "code",
   "execution_count": 103,
   "id": "219aa1a6",
   "metadata": {},
   "outputs": [],
   "source": [
    "model.add(Input(shape=(10)))"
   ]
  },
  {
   "cell_type": "code",
   "execution_count": 90,
   "id": "52aa7add",
   "metadata": {},
   "outputs": [],
   "source": [
    "model.add(Dense(128, use_bias=False, activation=tf.nn.relu))"
   ]
  },
  {
   "cell_type": "code",
   "execution_count": 91,
   "id": "3853cbe3",
   "metadata": {},
   "outputs": [],
   "source": [
    "model.add(Dense(10, use_bias=False))"
   ]
  },
  {
   "cell_type": "code",
   "execution_count": 109,
   "id": "cfa51743",
   "metadata": {},
   "outputs": [],
   "source": [
    "model.add(Dense(1, use_bias=False))"
   ]
  },
  {
   "cell_type": "code",
   "execution_count": 108,
   "id": "5a8e62b0",
   "metadata": {},
   "outputs": [],
   "source": [
    "model_name = 'simple_model_new.h5'"
   ]
  },
  {
   "cell_type": "code",
   "execution_count": 105,
   "id": "e91e69c6",
   "metadata": {},
   "outputs": [
    {
     "name": "stdout",
     "output_type": "stream",
     "text": [
      "WARNING:tensorflow:Compiled the loaded model, but the compiled metrics have yet to be built. `model.compile_metrics` will be empty until you train or evaluate the model.\n"
     ]
    }
   ],
   "source": [
    "model.save(model_name)"
   ]
  },
  {
   "cell_type": "code",
   "execution_count": 106,
   "id": "c3ef09f9",
   "metadata": {},
   "outputs": [
    {
     "name": "stdout",
     "output_type": "stream",
     "text": [
      "Model: \"sequential_13\"\n",
      "_________________________________________________________________\n",
      " Layer (type)                Output Shape              Param #   \n",
      "=================================================================\n",
      " dense_38 (Dense)            (None, 1)                 10        \n",
      "                                                                 \n",
      "=================================================================\n",
      "Total params: 10\n",
      "Trainable params: 10\n",
      "Non-trainable params: 0\n",
      "_________________________________________________________________\n"
     ]
    }
   ],
   "source": [
    "model.summary()"
   ]
  },
  {
   "cell_type": "code",
   "execution_count": 8,
   "id": "0bd2c27a",
   "metadata": {},
   "outputs": [
    {
     "name": "stdout",
     "output_type": "stream",
     "text": [
      "total 96\r\n",
      "drwxr-xr-x  7 avkash  staff   224B Apr  3 23:21 \u001b[1m\u001b[36m.\u001b[m\u001b[m\r\n",
      "drwxr-xr-x  5 avkash  staff   160B Apr  3 22:34 \u001b[1m\u001b[36m..\u001b[m\u001b[m\r\n",
      "drwxr-xr-x  4 avkash  staff   128B Apr  3 23:16 \u001b[1m\u001b[36m.ipynb_checkpoints\u001b[m\u001b[m\r\n",
      "-rw-r--r--  1 avkash  staff   5.2K Apr  3 23:20 Creating_network.ipynb\r\n",
      "-rw-r--r--  1 avkash  staff   5.8K Apr  3 23:20 Neural-network-getting-started.ipynb\r\n",
      "-rw-r--r--  1 avkash  staff    21K Apr  3 23:20 simple_model.h5\r\n",
      "-rw-r--r--  1 avkash  staff   7.5K Apr  3 23:21 simple_model_new.h5\r\n"
     ]
    }
   ],
   "source": [
    "!ls -lah"
   ]
  },
  {
   "cell_type": "code",
   "execution_count": 9,
   "id": "2ba42c8d",
   "metadata": {},
   "outputs": [],
   "source": [
    "import netron"
   ]
  },
  {
   "cell_type": "code",
   "execution_count": 10,
   "id": "4242d969",
   "metadata": {},
   "outputs": [
    {
     "name": "stdout",
     "output_type": "stream",
     "text": [
      "Serving 'simple_model_new.h5' at http://localhost:8082\n"
     ]
    },
    {
     "data": {
      "text/plain": [
       "('localhost', 8082)"
      ]
     },
     "execution_count": 10,
     "metadata": {},
     "output_type": "execute_result"
    }
   ],
   "source": [
    "netron.start(model_name, 8082)"
   ]
  },
  {
   "cell_type": "code",
   "execution_count": 111,
   "id": "3883848c",
   "metadata": {},
   "outputs": [],
   "source": [
    "netron.stop()"
   ]
  },
  {
   "cell_type": "code",
   "execution_count": null,
   "id": "89b3083b",
   "metadata": {},
   "outputs": [],
   "source": []
  }
 ],
 "metadata": {
  "kernelspec": {
   "display_name": "Python 3 (ipykernel)",
   "language": "python",
   "name": "python3"
  },
  "language_info": {
   "codemirror_mode": {
    "name": "ipython",
    "version": 3
   },
   "file_extension": ".py",
   "mimetype": "text/x-python",
   "name": "python",
   "nbconvert_exporter": "python",
   "pygments_lexer": "ipython3",
   "version": "3.9.7"
  }
 },
 "nbformat": 4,
 "nbformat_minor": 5
}
