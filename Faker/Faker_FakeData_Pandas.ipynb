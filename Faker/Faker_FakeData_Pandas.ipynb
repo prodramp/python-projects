{
  "nbformat": 4,
  "nbformat_minor": 0,
  "metadata": {
    "colab": {
      "name": "Faker-FakeData-Pandas.ipynb",
      "provenance": [],
      "collapsed_sections": [],
      "authorship_tag": "ABX9TyPryt1kWOIA7jI/qblKUL56",
      "include_colab_link": true
    },
    "kernelspec": {
      "name": "python3",
      "display_name": "Python 3"
    },
    "language_info": {
      "name": "python"
    }
  },
  "cells": [
    {
      "cell_type": "markdown",
      "metadata": {
        "id": "view-in-github",
        "colab_type": "text"
      },
      "source": [
        "<a href=\"https://colab.research.google.com/github/prodramp/python-projects/blob/main/Faker/Faker_FakeData_Pandas.ipynb\" target=\"_parent\"><img src=\"https://colab.research.google.com/assets/colab-badge.svg\" alt=\"Open In Colab\"/></a>"
      ]
    },
    {
      "cell_type": "code",
      "execution_count": 1,
      "metadata": {
        "colab": {
          "base_uri": "https://localhost:8080/"
        },
        "id": "JoZgQ3kY1UCT",
        "outputId": "acb8fd84-7f85-41ec-c7a2-5158318c5924"
      },
      "outputs": [
        {
          "output_type": "stream",
          "name": "stdout",
          "text": [
            "\u001b[33mWARNING: Package(s) not found: faker\u001b[0m\n"
          ]
        }
      ],
      "source": [
        "!pip show faker"
      ]
    },
    {
      "cell_type": "code",
      "source": [
        "!pip install faker"
      ],
      "metadata": {
        "colab": {
          "base_uri": "https://localhost:8080/"
        },
        "id": "knVDuG0v1Zpe",
        "outputId": "3d356ecc-0b62-4519-b569-4482cfc67ddc"
      },
      "execution_count": 2,
      "outputs": [
        {
          "output_type": "stream",
          "name": "stdout",
          "text": [
            "Collecting faker\n",
            "  Downloading Faker-13.3.5-py3-none-any.whl (1.5 MB)\n",
            "\u001b[?25l\r\u001b[K     |▏                               | 10 kB 22.5 MB/s eta 0:00:01\r\u001b[K     |▍                               | 20 kB 29.0 MB/s eta 0:00:01\r\u001b[K     |▋                               | 30 kB 14.7 MB/s eta 0:00:01\r\u001b[K     |▉                               | 40 kB 10.3 MB/s eta 0:00:01\r\u001b[K     |█                               | 51 kB 6.4 MB/s eta 0:00:01\r\u001b[K     |█▎                              | 61 kB 7.4 MB/s eta 0:00:01\r\u001b[K     |█▌                              | 71 kB 7.8 MB/s eta 0:00:01\r\u001b[K     |█▊                              | 81 kB 6.6 MB/s eta 0:00:01\r\u001b[K     |██                              | 92 kB 7.3 MB/s eta 0:00:01\r\u001b[K     |██▏                             | 102 kB 7.6 MB/s eta 0:00:01\r\u001b[K     |██▍                             | 112 kB 7.6 MB/s eta 0:00:01\r\u001b[K     |██▋                             | 122 kB 7.6 MB/s eta 0:00:01\r\u001b[K     |██▉                             | 133 kB 7.6 MB/s eta 0:00:01\r\u001b[K     |███                             | 143 kB 7.6 MB/s eta 0:00:01\r\u001b[K     |███▎                            | 153 kB 7.6 MB/s eta 0:00:01\r\u001b[K     |███▌                            | 163 kB 7.6 MB/s eta 0:00:01\r\u001b[K     |███▋                            | 174 kB 7.6 MB/s eta 0:00:01\r\u001b[K     |███▉                            | 184 kB 7.6 MB/s eta 0:00:01\r\u001b[K     |████                            | 194 kB 7.6 MB/s eta 0:00:01\r\u001b[K     |████▎                           | 204 kB 7.6 MB/s eta 0:00:01\r\u001b[K     |████▌                           | 215 kB 7.6 MB/s eta 0:00:01\r\u001b[K     |████▊                           | 225 kB 7.6 MB/s eta 0:00:01\r\u001b[K     |█████                           | 235 kB 7.6 MB/s eta 0:00:01\r\u001b[K     |█████▏                          | 245 kB 7.6 MB/s eta 0:00:01\r\u001b[K     |█████▍                          | 256 kB 7.6 MB/s eta 0:00:01\r\u001b[K     |█████▋                          | 266 kB 7.6 MB/s eta 0:00:01\r\u001b[K     |█████▉                          | 276 kB 7.6 MB/s eta 0:00:01\r\u001b[K     |██████                          | 286 kB 7.6 MB/s eta 0:00:01\r\u001b[K     |██████▎                         | 296 kB 7.6 MB/s eta 0:00:01\r\u001b[K     |██████▌                         | 307 kB 7.6 MB/s eta 0:00:01\r\u001b[K     |██████▊                         | 317 kB 7.6 MB/s eta 0:00:01\r\u001b[K     |███████                         | 327 kB 7.6 MB/s eta 0:00:01\r\u001b[K     |███████▏                        | 337 kB 7.6 MB/s eta 0:00:01\r\u001b[K     |███████▎                        | 348 kB 7.6 MB/s eta 0:00:01\r\u001b[K     |███████▌                        | 358 kB 7.6 MB/s eta 0:00:01\r\u001b[K     |███████▊                        | 368 kB 7.6 MB/s eta 0:00:01\r\u001b[K     |████████                        | 378 kB 7.6 MB/s eta 0:00:01\r\u001b[K     |████████▏                       | 389 kB 7.6 MB/s eta 0:00:01\r\u001b[K     |████████▍                       | 399 kB 7.6 MB/s eta 0:00:01\r\u001b[K     |████████▋                       | 409 kB 7.6 MB/s eta 0:00:01\r\u001b[K     |████████▉                       | 419 kB 7.6 MB/s eta 0:00:01\r\u001b[K     |█████████                       | 430 kB 7.6 MB/s eta 0:00:01\r\u001b[K     |█████████▎                      | 440 kB 7.6 MB/s eta 0:00:01\r\u001b[K     |█████████▌                      | 450 kB 7.6 MB/s eta 0:00:01\r\u001b[K     |█████████▊                      | 460 kB 7.6 MB/s eta 0:00:01\r\u001b[K     |██████████                      | 471 kB 7.6 MB/s eta 0:00:01\r\u001b[K     |██████████▏                     | 481 kB 7.6 MB/s eta 0:00:01\r\u001b[K     |██████████▍                     | 491 kB 7.6 MB/s eta 0:00:01\r\u001b[K     |██████████▋                     | 501 kB 7.6 MB/s eta 0:00:01\r\u001b[K     |██████████▊                     | 512 kB 7.6 MB/s eta 0:00:01\r\u001b[K     |███████████                     | 522 kB 7.6 MB/s eta 0:00:01\r\u001b[K     |███████████▏                    | 532 kB 7.6 MB/s eta 0:00:01\r\u001b[K     |███████████▍                    | 542 kB 7.6 MB/s eta 0:00:01\r\u001b[K     |███████████▋                    | 552 kB 7.6 MB/s eta 0:00:01\r\u001b[K     |███████████▉                    | 563 kB 7.6 MB/s eta 0:00:01\r\u001b[K     |████████████                    | 573 kB 7.6 MB/s eta 0:00:01\r\u001b[K     |████████████▎                   | 583 kB 7.6 MB/s eta 0:00:01\r\u001b[K     |████████████▌                   | 593 kB 7.6 MB/s eta 0:00:01\r\u001b[K     |████████████▊                   | 604 kB 7.6 MB/s eta 0:00:01\r\u001b[K     |█████████████                   | 614 kB 7.6 MB/s eta 0:00:01\r\u001b[K     |█████████████▏                  | 624 kB 7.6 MB/s eta 0:00:01\r\u001b[K     |█████████████▍                  | 634 kB 7.6 MB/s eta 0:00:01\r\u001b[K     |█████████████▋                  | 645 kB 7.6 MB/s eta 0:00:01\r\u001b[K     |█████████████▉                  | 655 kB 7.6 MB/s eta 0:00:01\r\u001b[K     |██████████████                  | 665 kB 7.6 MB/s eta 0:00:01\r\u001b[K     |██████████████▎                 | 675 kB 7.6 MB/s eta 0:00:01\r\u001b[K     |██████████████▍                 | 686 kB 7.6 MB/s eta 0:00:01\r\u001b[K     |██████████████▋                 | 696 kB 7.6 MB/s eta 0:00:01\r\u001b[K     |██████████████▉                 | 706 kB 7.6 MB/s eta 0:00:01\r\u001b[K     |███████████████                 | 716 kB 7.6 MB/s eta 0:00:01\r\u001b[K     |███████████████▎                | 727 kB 7.6 MB/s eta 0:00:01\r\u001b[K     |███████████████▌                | 737 kB 7.6 MB/s eta 0:00:01\r\u001b[K     |███████████████▊                | 747 kB 7.6 MB/s eta 0:00:01\r\u001b[K     |████████████████                | 757 kB 7.6 MB/s eta 0:00:01\r\u001b[K     |████████████████▏               | 768 kB 7.6 MB/s eta 0:00:01\r\u001b[K     |████████████████▍               | 778 kB 7.6 MB/s eta 0:00:01\r\u001b[K     |████████████████▋               | 788 kB 7.6 MB/s eta 0:00:01\r\u001b[K     |████████████████▉               | 798 kB 7.6 MB/s eta 0:00:01\r\u001b[K     |█████████████████               | 808 kB 7.6 MB/s eta 0:00:01\r\u001b[K     |█████████████████▎              | 819 kB 7.6 MB/s eta 0:00:01\r\u001b[K     |█████████████████▌              | 829 kB 7.6 MB/s eta 0:00:01\r\u001b[K     |█████████████████▊              | 839 kB 7.6 MB/s eta 0:00:01\r\u001b[K     |█████████████████▉              | 849 kB 7.6 MB/s eta 0:00:01\r\u001b[K     |██████████████████              | 860 kB 7.6 MB/s eta 0:00:01\r\u001b[K     |██████████████████▎             | 870 kB 7.6 MB/s eta 0:00:01\r\u001b[K     |██████████████████▌             | 880 kB 7.6 MB/s eta 0:00:01\r\u001b[K     |██████████████████▊             | 890 kB 7.6 MB/s eta 0:00:01\r\u001b[K     |███████████████████             | 901 kB 7.6 MB/s eta 0:00:01\r\u001b[K     |███████████████████▏            | 911 kB 7.6 MB/s eta 0:00:01\r\u001b[K     |███████████████████▍            | 921 kB 7.6 MB/s eta 0:00:01\r\u001b[K     |███████████████████▋            | 931 kB 7.6 MB/s eta 0:00:01\r\u001b[K     |███████████████████▉            | 942 kB 7.6 MB/s eta 0:00:01\r\u001b[K     |████████████████████            | 952 kB 7.6 MB/s eta 0:00:01\r\u001b[K     |████████████████████▎           | 962 kB 7.6 MB/s eta 0:00:01\r\u001b[K     |████████████████████▌           | 972 kB 7.6 MB/s eta 0:00:01\r\u001b[K     |████████████████████▊           | 983 kB 7.6 MB/s eta 0:00:01\r\u001b[K     |█████████████████████           | 993 kB 7.6 MB/s eta 0:00:01\r\u001b[K     |█████████████████████▏          | 1.0 MB 7.6 MB/s eta 0:00:01\r\u001b[K     |█████████████████████▍          | 1.0 MB 7.6 MB/s eta 0:00:01\r\u001b[K     |█████████████████████▌          | 1.0 MB 7.6 MB/s eta 0:00:01\r\u001b[K     |█████████████████████▊          | 1.0 MB 7.6 MB/s eta 0:00:01\r\u001b[K     |██████████████████████          | 1.0 MB 7.6 MB/s eta 0:00:01\r\u001b[K     |██████████████████████▏         | 1.1 MB 7.6 MB/s eta 0:00:01\r\u001b[K     |██████████████████████▍         | 1.1 MB 7.6 MB/s eta 0:00:01\r\u001b[K     |██████████████████████▋         | 1.1 MB 7.6 MB/s eta 0:00:01\r\u001b[K     |██████████████████████▉         | 1.1 MB 7.6 MB/s eta 0:00:01\r\u001b[K     |███████████████████████         | 1.1 MB 7.6 MB/s eta 0:00:01\r\u001b[K     |███████████████████████▎        | 1.1 MB 7.6 MB/s eta 0:00:01\r\u001b[K     |███████████████████████▌        | 1.1 MB 7.6 MB/s eta 0:00:01\r\u001b[K     |███████████████████████▊        | 1.1 MB 7.6 MB/s eta 0:00:01\r\u001b[K     |████████████████████████        | 1.1 MB 7.6 MB/s eta 0:00:01\r\u001b[K     |████████████████████████▏       | 1.1 MB 7.6 MB/s eta 0:00:01\r\u001b[K     |████████████████████████▍       | 1.2 MB 7.6 MB/s eta 0:00:01\r\u001b[K     |████████████████████████▋       | 1.2 MB 7.6 MB/s eta 0:00:01\r\u001b[K     |████████████████████████▉       | 1.2 MB 7.6 MB/s eta 0:00:01\r\u001b[K     |█████████████████████████       | 1.2 MB 7.6 MB/s eta 0:00:01\r\u001b[K     |█████████████████████████▏      | 1.2 MB 7.6 MB/s eta 0:00:01\r\u001b[K     |█████████████████████████▍      | 1.2 MB 7.6 MB/s eta 0:00:01\r\u001b[K     |█████████████████████████▋      | 1.2 MB 7.6 MB/s eta 0:00:01\r\u001b[K     |█████████████████████████▉      | 1.2 MB 7.6 MB/s eta 0:00:01\r\u001b[K     |██████████████████████████      | 1.2 MB 7.6 MB/s eta 0:00:01\r\u001b[K     |██████████████████████████▎     | 1.2 MB 7.6 MB/s eta 0:00:01\r\u001b[K     |██████████████████████████▌     | 1.3 MB 7.6 MB/s eta 0:00:01\r\u001b[K     |██████████████████████████▊     | 1.3 MB 7.6 MB/s eta 0:00:01\r\u001b[K     |███████████████████████████     | 1.3 MB 7.6 MB/s eta 0:00:01\r\u001b[K     |███████████████████████████▏    | 1.3 MB 7.6 MB/s eta 0:00:01\r\u001b[K     |███████████████████████████▍    | 1.3 MB 7.6 MB/s eta 0:00:01\r\u001b[K     |███████████████████████████▋    | 1.3 MB 7.6 MB/s eta 0:00:01\r\u001b[K     |███████████████████████████▉    | 1.3 MB 7.6 MB/s eta 0:00:01\r\u001b[K     |████████████████████████████    | 1.3 MB 7.6 MB/s eta 0:00:01\r\u001b[K     |████████████████████████████▎   | 1.3 MB 7.6 MB/s eta 0:00:01\r\u001b[K     |████████████████████████████▌   | 1.4 MB 7.6 MB/s eta 0:00:01\r\u001b[K     |████████████████████████████▋   | 1.4 MB 7.6 MB/s eta 0:00:01\r\u001b[K     |████████████████████████████▉   | 1.4 MB 7.6 MB/s eta 0:00:01\r\u001b[K     |█████████████████████████████   | 1.4 MB 7.6 MB/s eta 0:00:01\r\u001b[K     |█████████████████████████████▎  | 1.4 MB 7.6 MB/s eta 0:00:01\r\u001b[K     |█████████████████████████████▌  | 1.4 MB 7.6 MB/s eta 0:00:01\r\u001b[K     |█████████████████████████████▊  | 1.4 MB 7.6 MB/s eta 0:00:01\r\u001b[K     |██████████████████████████████  | 1.4 MB 7.6 MB/s eta 0:00:01\r\u001b[K     |██████████████████████████████▏ | 1.4 MB 7.6 MB/s eta 0:00:01\r\u001b[K     |██████████████████████████████▍ | 1.4 MB 7.6 MB/s eta 0:00:01\r\u001b[K     |██████████████████████████████▋ | 1.5 MB 7.6 MB/s eta 0:00:01\r\u001b[K     |██████████████████████████████▉ | 1.5 MB 7.6 MB/s eta 0:00:01\r\u001b[K     |███████████████████████████████ | 1.5 MB 7.6 MB/s eta 0:00:01\r\u001b[K     |███████████████████████████████▎| 1.5 MB 7.6 MB/s eta 0:00:01\r\u001b[K     |███████████████████████████████▌| 1.5 MB 7.6 MB/s eta 0:00:01\r\u001b[K     |███████████████████████████████▊| 1.5 MB 7.6 MB/s eta 0:00:01\r\u001b[K     |████████████████████████████████| 1.5 MB 7.6 MB/s eta 0:00:01\r\u001b[K     |████████████████████████████████| 1.5 MB 7.6 MB/s \n",
            "\u001b[?25hRequirement already satisfied: typing-extensions>=3.10.0.2 in /usr/local/lib/python3.7/dist-packages (from faker) (4.1.1)\n",
            "Requirement already satisfied: python-dateutil>=2.4 in /usr/local/lib/python3.7/dist-packages (from faker) (2.8.2)\n",
            "Requirement already satisfied: six>=1.5 in /usr/local/lib/python3.7/dist-packages (from python-dateutil>=2.4->faker) (1.15.0)\n",
            "Installing collected packages: faker\n",
            "Successfully installed faker-13.3.5\n"
          ]
        }
      ]
    },
    {
      "cell_type": "code",
      "source": [
        "import pandas as pd"
      ],
      "metadata": {
        "id": "UwdUU_CK3HYU"
      },
      "execution_count": 18,
      "outputs": []
    },
    {
      "cell_type": "code",
      "source": [
        "from faker import Faker"
      ],
      "metadata": {
        "id": "aCY9GDs51bZM"
      },
      "execution_count": 3,
      "outputs": []
    },
    {
      "cell_type": "code",
      "source": [
        "faker = Faker()"
      ],
      "metadata": {
        "id": "6_mFH6hV1dfM"
      },
      "execution_count": 4,
      "outputs": []
    },
    {
      "cell_type": "code",
      "source": [
        "def personal_data(person_type):\n",
        "  if person_type == 'm':  \n",
        "    first_name = faker.first_name_male()\n",
        "  else:\n",
        "    first_name = faker.first_name_female()\n",
        "  last_name = faker.last_name()\n",
        "  dob = faker.date_of_birth(minimum_age=21)\n",
        "  address = faker.address()\n",
        "  ssn = faker.ssn()\n",
        "  person = {'first_name': first_name, 'last_name': last_name, 'dob': dob, 'address': address, 'ssn': ssn, 'sex': person_type}\n",
        "  return person\n"
      ],
      "metadata": {
        "id": "H5WoAlVD1e0U"
      },
      "execution_count": 62,
      "outputs": []
    },
    {
      "cell_type": "code",
      "source": [
        "person = personal_data('m')"
      ],
      "metadata": {
        "id": "sqQsDIUq2MFV"
      },
      "execution_count": 65,
      "outputs": []
    },
    {
      "cell_type": "code",
      "source": [
        "print(person)"
      ],
      "metadata": {
        "colab": {
          "base_uri": "https://localhost:8080/"
        },
        "id": "cxL5WwX-2gdj",
        "outputId": "7f796a06-fc0c-4ec3-e360-dedac44e8138"
      },
      "execution_count": 66,
      "outputs": [
        {
          "output_type": "stream",
          "name": "stdout",
          "text": [
            "{'first_name': 'Omar', 'last_name': 'Ruiz', 'dob': datetime.date(1962, 12, 26), 'address': '94756 Jennifer Plain Suite 222\\nReyesport, IN 07636', 'ssn': '395-47-7487', 'sex': 'm'}\n"
          ]
        }
      ]
    },
    {
      "cell_type": "code",
      "source": [
        "type(person)"
      ],
      "metadata": {
        "colab": {
          "base_uri": "https://localhost:8080/"
        },
        "id": "H4m2NpMn22xi",
        "outputId": "3292a889-ce6a-44e2-b8bb-943515e2a948"
      },
      "execution_count": 67,
      "outputs": [
        {
          "output_type": "execute_result",
          "data": {
            "text/plain": [
              "dict"
            ]
          },
          "metadata": {},
          "execution_count": 67
        }
      ]
    },
    {
      "cell_type": "code",
      "source": [
        "faker.boolean()"
      ],
      "metadata": {
        "colab": {
          "base_uri": "https://localhost:8080/"
        },
        "id": "sF2sxtal5vKO",
        "outputId": "53868886-a915-4b78-c3f9-94a142b86948"
      },
      "execution_count": 68,
      "outputs": [
        {
          "output_type": "execute_result",
          "data": {
            "text/plain": [
              "False"
            ]
          },
          "metadata": {},
          "execution_count": 68
        }
      ]
    },
    {
      "cell_type": "code",
      "source": [
        "records = []\n",
        "for i in range(10):\n",
        "  if faker.boolean(): \n",
        "    person = personal_data('m')\n",
        "  else:\n",
        "    person = personal_data('f')\n",
        "  records.append(person)"
      ],
      "metadata": {
        "id": "rZaK6Lca29MS"
      },
      "execution_count": 76,
      "outputs": []
    },
    {
      "cell_type": "code",
      "source": [
        "len(records)"
      ],
      "metadata": {
        "colab": {
          "base_uri": "https://localhost:8080/"
        },
        "id": "C0EhaIE23NY6",
        "outputId": "f79e03d0-dc68-4a96-9bed-1155a2d151c9"
      },
      "execution_count": 77,
      "outputs": [
        {
          "output_type": "execute_result",
          "data": {
            "text/plain": [
              "10"
            ]
          },
          "metadata": {},
          "execution_count": 77
        }
      ]
    },
    {
      "cell_type": "code",
      "source": [
        "df = pd.DataFrame(records)"
      ],
      "metadata": {
        "id": "XYfR8LuV3rJ-"
      },
      "execution_count": 78,
      "outputs": []
    },
    {
      "cell_type": "code",
      "source": [
        "df"
      ],
      "metadata": {
        "colab": {
          "base_uri": "https://localhost:8080/",
          "height": 363
        },
        "id": "S2GP6AOp5VhV",
        "outputId": "d4ba1626-2a5e-46ef-cf28-f13f58208b66"
      },
      "execution_count": 79,
      "outputs": [
        {
          "output_type": "execute_result",
          "data": {
            "text/plain": [
              "  first_name  last_name         dob  \\\n",
              "0       Ryan        Lee  1909-10-19   \n",
              "1    Jeffrey     Rivera  1936-02-21   \n",
              "2    Jessica     Greene  1990-04-21   \n",
              "3    Theresa      Zhang  1956-10-02   \n",
              "4       Lisa    Wilkins  1917-12-24   \n",
              "5     Samuel     Powers  1970-01-22   \n",
              "6     Claire      James  1937-10-28   \n",
              "7       Juan   Gonzalez  1936-05-31   \n",
              "8      Keith     Robles  1980-09-22   \n",
              "9      Larry  Robertson  1937-02-16   \n",
              "\n",
              "                                             address          ssn sex  \n",
              "0  1392 Vanessa Prairie Apt. 769\\nGarciaville, CO...  173-23-8554   m  \n",
              "1  5641 Tyler Fork Apt. 202\\nNorth Jeffreyfort, N...  789-65-8245   m  \n",
              "2  1629 Shelia Terrace Apt. 590\\nWest Michelle, N...  371-24-5219   f  \n",
              "3  975 Jackson Mall Suite 944\\nSouth Peter, WY 73514  883-37-1838   f  \n",
              "4  9135 Sonia Village Suite 900\\nLake Curtis, NC ...  059-73-4938   f  \n",
              "5                   PSC 0457, Box 1294\\nAPO AA 47885  297-75-8831   m  \n",
              "6       890 Wilson Square\\nPort Aliciaport, RI 10044  445-52-6584   f  \n",
              "7  28548 Howell Isle Apt. 547\\nPort Stephen, IL 2...  474-32-4090   m  \n",
              "8           2217 Claudia Row\\nLake Cynthia, TX 56314  744-55-6487   m  \n",
              "9  14610 Maria Wells Suite 855\\nEast Melissa, NC ...  209-91-3275   m  "
            ],
            "text/html": [
              "\n",
              "  <div id=\"df-06e82b04-30b6-41ef-9c2a-93934d4c7d2b\">\n",
              "    <div class=\"colab-df-container\">\n",
              "      <div>\n",
              "<style scoped>\n",
              "    .dataframe tbody tr th:only-of-type {\n",
              "        vertical-align: middle;\n",
              "    }\n",
              "\n",
              "    .dataframe tbody tr th {\n",
              "        vertical-align: top;\n",
              "    }\n",
              "\n",
              "    .dataframe thead th {\n",
              "        text-align: right;\n",
              "    }\n",
              "</style>\n",
              "<table border=\"1\" class=\"dataframe\">\n",
              "  <thead>\n",
              "    <tr style=\"text-align: right;\">\n",
              "      <th></th>\n",
              "      <th>first_name</th>\n",
              "      <th>last_name</th>\n",
              "      <th>dob</th>\n",
              "      <th>address</th>\n",
              "      <th>ssn</th>\n",
              "      <th>sex</th>\n",
              "    </tr>\n",
              "  </thead>\n",
              "  <tbody>\n",
              "    <tr>\n",
              "      <th>0</th>\n",
              "      <td>Ryan</td>\n",
              "      <td>Lee</td>\n",
              "      <td>1909-10-19</td>\n",
              "      <td>1392 Vanessa Prairie Apt. 769\\nGarciaville, CO...</td>\n",
              "      <td>173-23-8554</td>\n",
              "      <td>m</td>\n",
              "    </tr>\n",
              "    <tr>\n",
              "      <th>1</th>\n",
              "      <td>Jeffrey</td>\n",
              "      <td>Rivera</td>\n",
              "      <td>1936-02-21</td>\n",
              "      <td>5641 Tyler Fork Apt. 202\\nNorth Jeffreyfort, N...</td>\n",
              "      <td>789-65-8245</td>\n",
              "      <td>m</td>\n",
              "    </tr>\n",
              "    <tr>\n",
              "      <th>2</th>\n",
              "      <td>Jessica</td>\n",
              "      <td>Greene</td>\n",
              "      <td>1990-04-21</td>\n",
              "      <td>1629 Shelia Terrace Apt. 590\\nWest Michelle, N...</td>\n",
              "      <td>371-24-5219</td>\n",
              "      <td>f</td>\n",
              "    </tr>\n",
              "    <tr>\n",
              "      <th>3</th>\n",
              "      <td>Theresa</td>\n",
              "      <td>Zhang</td>\n",
              "      <td>1956-10-02</td>\n",
              "      <td>975 Jackson Mall Suite 944\\nSouth Peter, WY 73514</td>\n",
              "      <td>883-37-1838</td>\n",
              "      <td>f</td>\n",
              "    </tr>\n",
              "    <tr>\n",
              "      <th>4</th>\n",
              "      <td>Lisa</td>\n",
              "      <td>Wilkins</td>\n",
              "      <td>1917-12-24</td>\n",
              "      <td>9135 Sonia Village Suite 900\\nLake Curtis, NC ...</td>\n",
              "      <td>059-73-4938</td>\n",
              "      <td>f</td>\n",
              "    </tr>\n",
              "    <tr>\n",
              "      <th>5</th>\n",
              "      <td>Samuel</td>\n",
              "      <td>Powers</td>\n",
              "      <td>1970-01-22</td>\n",
              "      <td>PSC 0457, Box 1294\\nAPO AA 47885</td>\n",
              "      <td>297-75-8831</td>\n",
              "      <td>m</td>\n",
              "    </tr>\n",
              "    <tr>\n",
              "      <th>6</th>\n",
              "      <td>Claire</td>\n",
              "      <td>James</td>\n",
              "      <td>1937-10-28</td>\n",
              "      <td>890 Wilson Square\\nPort Aliciaport, RI 10044</td>\n",
              "      <td>445-52-6584</td>\n",
              "      <td>f</td>\n",
              "    </tr>\n",
              "    <tr>\n",
              "      <th>7</th>\n",
              "      <td>Juan</td>\n",
              "      <td>Gonzalez</td>\n",
              "      <td>1936-05-31</td>\n",
              "      <td>28548 Howell Isle Apt. 547\\nPort Stephen, IL 2...</td>\n",
              "      <td>474-32-4090</td>\n",
              "      <td>m</td>\n",
              "    </tr>\n",
              "    <tr>\n",
              "      <th>8</th>\n",
              "      <td>Keith</td>\n",
              "      <td>Robles</td>\n",
              "      <td>1980-09-22</td>\n",
              "      <td>2217 Claudia Row\\nLake Cynthia, TX 56314</td>\n",
              "      <td>744-55-6487</td>\n",
              "      <td>m</td>\n",
              "    </tr>\n",
              "    <tr>\n",
              "      <th>9</th>\n",
              "      <td>Larry</td>\n",
              "      <td>Robertson</td>\n",
              "      <td>1937-02-16</td>\n",
              "      <td>14610 Maria Wells Suite 855\\nEast Melissa, NC ...</td>\n",
              "      <td>209-91-3275</td>\n",
              "      <td>m</td>\n",
              "    </tr>\n",
              "  </tbody>\n",
              "</table>\n",
              "</div>\n",
              "      <button class=\"colab-df-convert\" onclick=\"convertToInteractive('df-06e82b04-30b6-41ef-9c2a-93934d4c7d2b')\"\n",
              "              title=\"Convert this dataframe to an interactive table.\"\n",
              "              style=\"display:none;\">\n",
              "        \n",
              "  <svg xmlns=\"http://www.w3.org/2000/svg\" height=\"24px\"viewBox=\"0 0 24 24\"\n",
              "       width=\"24px\">\n",
              "    <path d=\"M0 0h24v24H0V0z\" fill=\"none\"/>\n",
              "    <path d=\"M18.56 5.44l.94 2.06.94-2.06 2.06-.94-2.06-.94-.94-2.06-.94 2.06-2.06.94zm-11 1L8.5 8.5l.94-2.06 2.06-.94-2.06-.94L8.5 2.5l-.94 2.06-2.06.94zm10 10l.94 2.06.94-2.06 2.06-.94-2.06-.94-.94-2.06-.94 2.06-2.06.94z\"/><path d=\"M17.41 7.96l-1.37-1.37c-.4-.4-.92-.59-1.43-.59-.52 0-1.04.2-1.43.59L10.3 9.45l-7.72 7.72c-.78.78-.78 2.05 0 2.83L4 21.41c.39.39.9.59 1.41.59.51 0 1.02-.2 1.41-.59l7.78-7.78 2.81-2.81c.8-.78.8-2.07 0-2.86zM5.41 20L4 18.59l7.72-7.72 1.47 1.35L5.41 20z\"/>\n",
              "  </svg>\n",
              "      </button>\n",
              "      \n",
              "  <style>\n",
              "    .colab-df-container {\n",
              "      display:flex;\n",
              "      flex-wrap:wrap;\n",
              "      gap: 12px;\n",
              "    }\n",
              "\n",
              "    .colab-df-convert {\n",
              "      background-color: #E8F0FE;\n",
              "      border: none;\n",
              "      border-radius: 50%;\n",
              "      cursor: pointer;\n",
              "      display: none;\n",
              "      fill: #1967D2;\n",
              "      height: 32px;\n",
              "      padding: 0 0 0 0;\n",
              "      width: 32px;\n",
              "    }\n",
              "\n",
              "    .colab-df-convert:hover {\n",
              "      background-color: #E2EBFA;\n",
              "      box-shadow: 0px 1px 2px rgba(60, 64, 67, 0.3), 0px 1px 3px 1px rgba(60, 64, 67, 0.15);\n",
              "      fill: #174EA6;\n",
              "    }\n",
              "\n",
              "    [theme=dark] .colab-df-convert {\n",
              "      background-color: #3B4455;\n",
              "      fill: #D2E3FC;\n",
              "    }\n",
              "\n",
              "    [theme=dark] .colab-df-convert:hover {\n",
              "      background-color: #434B5C;\n",
              "      box-shadow: 0px 1px 3px 1px rgba(0, 0, 0, 0.15);\n",
              "      filter: drop-shadow(0px 1px 2px rgba(0, 0, 0, 0.3));\n",
              "      fill: #FFFFFF;\n",
              "    }\n",
              "  </style>\n",
              "\n",
              "      <script>\n",
              "        const buttonEl =\n",
              "          document.querySelector('#df-06e82b04-30b6-41ef-9c2a-93934d4c7d2b button.colab-df-convert');\n",
              "        buttonEl.style.display =\n",
              "          google.colab.kernel.accessAllowed ? 'block' : 'none';\n",
              "\n",
              "        async function convertToInteractive(key) {\n",
              "          const element = document.querySelector('#df-06e82b04-30b6-41ef-9c2a-93934d4c7d2b');\n",
              "          const dataTable =\n",
              "            await google.colab.kernel.invokeFunction('convertToInteractive',\n",
              "                                                     [key], {});\n",
              "          if (!dataTable) return;\n",
              "\n",
              "          const docLinkHtml = 'Like what you see? Visit the ' +\n",
              "            '<a target=\"_blank\" href=https://colab.research.google.com/notebooks/data_table.ipynb>data table notebook</a>'\n",
              "            + ' to learn more about interactive tables.';\n",
              "          element.innerHTML = '';\n",
              "          dataTable['output_type'] = 'display_data';\n",
              "          await google.colab.output.renderOutput(dataTable, element);\n",
              "          const docLink = document.createElement('div');\n",
              "          docLink.innerHTML = docLinkHtml;\n",
              "          element.appendChild(docLink);\n",
              "        }\n",
              "      </script>\n",
              "    </div>\n",
              "  </div>\n",
              "  "
            ]
          },
          "metadata": {},
          "execution_count": 79
        }
      ]
    },
    {
      "cell_type": "code",
      "source": [
        "df.describe()"
      ],
      "metadata": {
        "colab": {
          "base_uri": "https://localhost:8080/",
          "height": 175
        },
        "id": "Zk0myW-Z5cCU",
        "outputId": "641f1475-9750-44b0-817b-4fdb7df65d49"
      },
      "execution_count": 45,
      "outputs": [
        {
          "output_type": "execute_result",
          "data": {
            "text/plain": [
              "       first_name last_name         dob  \\\n",
              "count          10        10          10   \n",
              "unique          9        10          10   \n",
              "top       Matthew    Miller  1920-12-05   \n",
              "freq            2         1           1   \n",
              "\n",
              "                                      address          ssn  \n",
              "count                                      10           10  \n",
              "unique                                     10           10  \n",
              "top     1537 Ryan Walks\\nNicolefurt, MI 67725  182-86-4590  \n",
              "freq                                        1            1  "
            ],
            "text/html": [
              "\n",
              "  <div id=\"df-b3fb0d24-c163-4604-baab-95741dcf118f\">\n",
              "    <div class=\"colab-df-container\">\n",
              "      <div>\n",
              "<style scoped>\n",
              "    .dataframe tbody tr th:only-of-type {\n",
              "        vertical-align: middle;\n",
              "    }\n",
              "\n",
              "    .dataframe tbody tr th {\n",
              "        vertical-align: top;\n",
              "    }\n",
              "\n",
              "    .dataframe thead th {\n",
              "        text-align: right;\n",
              "    }\n",
              "</style>\n",
              "<table border=\"1\" class=\"dataframe\">\n",
              "  <thead>\n",
              "    <tr style=\"text-align: right;\">\n",
              "      <th></th>\n",
              "      <th>first_name</th>\n",
              "      <th>last_name</th>\n",
              "      <th>dob</th>\n",
              "      <th>address</th>\n",
              "      <th>ssn</th>\n",
              "    </tr>\n",
              "  </thead>\n",
              "  <tbody>\n",
              "    <tr>\n",
              "      <th>count</th>\n",
              "      <td>10</td>\n",
              "      <td>10</td>\n",
              "      <td>10</td>\n",
              "      <td>10</td>\n",
              "      <td>10</td>\n",
              "    </tr>\n",
              "    <tr>\n",
              "      <th>unique</th>\n",
              "      <td>9</td>\n",
              "      <td>10</td>\n",
              "      <td>10</td>\n",
              "      <td>10</td>\n",
              "      <td>10</td>\n",
              "    </tr>\n",
              "    <tr>\n",
              "      <th>top</th>\n",
              "      <td>Matthew</td>\n",
              "      <td>Miller</td>\n",
              "      <td>1920-12-05</td>\n",
              "      <td>1537 Ryan Walks\\nNicolefurt, MI 67725</td>\n",
              "      <td>182-86-4590</td>\n",
              "    </tr>\n",
              "    <tr>\n",
              "      <th>freq</th>\n",
              "      <td>2</td>\n",
              "      <td>1</td>\n",
              "      <td>1</td>\n",
              "      <td>1</td>\n",
              "      <td>1</td>\n",
              "    </tr>\n",
              "  </tbody>\n",
              "</table>\n",
              "</div>\n",
              "      <button class=\"colab-df-convert\" onclick=\"convertToInteractive('df-b3fb0d24-c163-4604-baab-95741dcf118f')\"\n",
              "              title=\"Convert this dataframe to an interactive table.\"\n",
              "              style=\"display:none;\">\n",
              "        \n",
              "  <svg xmlns=\"http://www.w3.org/2000/svg\" height=\"24px\"viewBox=\"0 0 24 24\"\n",
              "       width=\"24px\">\n",
              "    <path d=\"M0 0h24v24H0V0z\" fill=\"none\"/>\n",
              "    <path d=\"M18.56 5.44l.94 2.06.94-2.06 2.06-.94-2.06-.94-.94-2.06-.94 2.06-2.06.94zm-11 1L8.5 8.5l.94-2.06 2.06-.94-2.06-.94L8.5 2.5l-.94 2.06-2.06.94zm10 10l.94 2.06.94-2.06 2.06-.94-2.06-.94-.94-2.06-.94 2.06-2.06.94z\"/><path d=\"M17.41 7.96l-1.37-1.37c-.4-.4-.92-.59-1.43-.59-.52 0-1.04.2-1.43.59L10.3 9.45l-7.72 7.72c-.78.78-.78 2.05 0 2.83L4 21.41c.39.39.9.59 1.41.59.51 0 1.02-.2 1.41-.59l7.78-7.78 2.81-2.81c.8-.78.8-2.07 0-2.86zM5.41 20L4 18.59l7.72-7.72 1.47 1.35L5.41 20z\"/>\n",
              "  </svg>\n",
              "      </button>\n",
              "      \n",
              "  <style>\n",
              "    .colab-df-container {\n",
              "      display:flex;\n",
              "      flex-wrap:wrap;\n",
              "      gap: 12px;\n",
              "    }\n",
              "\n",
              "    .colab-df-convert {\n",
              "      background-color: #E8F0FE;\n",
              "      border: none;\n",
              "      border-radius: 50%;\n",
              "      cursor: pointer;\n",
              "      display: none;\n",
              "      fill: #1967D2;\n",
              "      height: 32px;\n",
              "      padding: 0 0 0 0;\n",
              "      width: 32px;\n",
              "    }\n",
              "\n",
              "    .colab-df-convert:hover {\n",
              "      background-color: #E2EBFA;\n",
              "      box-shadow: 0px 1px 2px rgba(60, 64, 67, 0.3), 0px 1px 3px 1px rgba(60, 64, 67, 0.15);\n",
              "      fill: #174EA6;\n",
              "    }\n",
              "\n",
              "    [theme=dark] .colab-df-convert {\n",
              "      background-color: #3B4455;\n",
              "      fill: #D2E3FC;\n",
              "    }\n",
              "\n",
              "    [theme=dark] .colab-df-convert:hover {\n",
              "      background-color: #434B5C;\n",
              "      box-shadow: 0px 1px 3px 1px rgba(0, 0, 0, 0.15);\n",
              "      filter: drop-shadow(0px 1px 2px rgba(0, 0, 0, 0.3));\n",
              "      fill: #FFFFFF;\n",
              "    }\n",
              "  </style>\n",
              "\n",
              "      <script>\n",
              "        const buttonEl =\n",
              "          document.querySelector('#df-b3fb0d24-c163-4604-baab-95741dcf118f button.colab-df-convert');\n",
              "        buttonEl.style.display =\n",
              "          google.colab.kernel.accessAllowed ? 'block' : 'none';\n",
              "\n",
              "        async function convertToInteractive(key) {\n",
              "          const element = document.querySelector('#df-b3fb0d24-c163-4604-baab-95741dcf118f');\n",
              "          const dataTable =\n",
              "            await google.colab.kernel.invokeFunction('convertToInteractive',\n",
              "                                                     [key], {});\n",
              "          if (!dataTable) return;\n",
              "\n",
              "          const docLinkHtml = 'Like what you see? Visit the ' +\n",
              "            '<a target=\"_blank\" href=https://colab.research.google.com/notebooks/data_table.ipynb>data table notebook</a>'\n",
              "            + ' to learn more about interactive tables.';\n",
              "          element.innerHTML = '';\n",
              "          dataTable['output_type'] = 'display_data';\n",
              "          await google.colab.output.renderOutput(dataTable, element);\n",
              "          const docLink = document.createElement('div');\n",
              "          docLink.innerHTML = docLinkHtml;\n",
              "          element.appendChild(docLink);\n",
              "        }\n",
              "      </script>\n",
              "    </div>\n",
              "  </div>\n",
              "  "
            ]
          },
          "metadata": {},
          "execution_count": 45
        }
      ]
    },
    {
      "cell_type": "code",
      "source": [
        "df.info"
      ],
      "metadata": {
        "colab": {
          "base_uri": "https://localhost:8080/"
        },
        "id": "iLhxbwAi5foA",
        "outputId": "4d429fa3-cd7c-4780-b00c-9d39db25a5b2"
      },
      "execution_count": 46,
      "outputs": [
        {
          "output_type": "execute_result",
          "data": {
            "text/plain": [
              "<bound method DataFrame.info of   first_name  last_name         dob  \\\n",
              "0     Jeremy     Miller  1920-12-05   \n",
              "1    Michael   Schaefer  1973-08-25   \n",
              "2       Gary      Bryan  1948-07-16   \n",
              "3     Samuel      Lopez  1917-08-26   \n",
              "4       Juan      Perry  1929-04-27   \n",
              "5    Anthony       Bell  1963-04-26   \n",
              "6    Matthew     Lozano  1947-02-15   \n",
              "7    Matthew     Wilson  1981-05-18   \n",
              "8       Ryan    Ramirez  1996-02-05   \n",
              "9    Randall  Hernandez  1957-11-01   \n",
              "\n",
              "                                             address          ssn  \n",
              "0              1537 Ryan Walks\\nNicolefurt, MI 67725  182-86-4590  \n",
              "1              3939 Wong Harbor\\nClarkfurt, TX 16928  245-69-5801  \n",
              "2  79527 Alexander Isle Suite 243\\nSouth Lauren, ...  400-90-4136  \n",
              "3              909 Rebecca Grove\\nKylestad, KY 94774  844-20-5523  \n",
              "4  43235 Smith Plaza Apt. 693\\nNorth Johnborough,...  433-54-3533  \n",
              "5       08175 Kimberly Loop\\nBrittanyshire, NM 23835  725-20-6719  \n",
              "6  69937 Michael Parkway Apt. 650\\nEast Mirandabu...  793-75-9066  \n",
              "7                   Unit 1282 Box 0645\\nDPO AP 41641  895-94-8404  \n",
              "8   171 Scott Shoals Suite 984\\nWalkerside, CO 56313  237-18-3712  \n",
              "9     60364 Ramsey Grove\\nNew Zacharymouth, HI 61153  499-28-5278  >"
            ]
          },
          "metadata": {},
          "execution_count": 46
        }
      ]
    },
    {
      "cell_type": "code",
      "source": [
        ""
      ],
      "metadata": {
        "id": "4GkqIoDG5h4y"
      },
      "execution_count": null,
      "outputs": []
    }
  ]
}