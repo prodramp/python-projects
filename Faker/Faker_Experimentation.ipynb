{
  "nbformat": 4,
  "nbformat_minor": 0,
  "metadata": {
    "colab": {
      "name": "Faker-Experimentation.ipynb",
      "provenance": [],
      "collapsed_sections": [],
      "authorship_tag": "ABX9TyMQ9oCM9OQMhydqnR38JzGl",
      "include_colab_link": true
    },
    "kernelspec": {
      "name": "python3",
      "display_name": "Python 3"
    },
    "language_info": {
      "name": "python"
    }
  },
  "cells": [
    {
      "cell_type": "markdown",
      "metadata": {
        "id": "view-in-github",
        "colab_type": "text"
      },
      "source": [
        "<a href=\"https://colab.research.google.com/github/prodramp/python-projects/blob/main/Faker/Faker_Experimentation.ipynb\" target=\"_parent\"><img src=\"https://colab.research.google.com/assets/colab-badge.svg\" alt=\"Open In Colab\"/></a>"
      ]
    },
    {
      "cell_type": "code",
      "execution_count": null,
      "metadata": {
        "colab": {
          "base_uri": "https://localhost:8080/"
        },
        "id": "9U9NEXgZlb4R",
        "outputId": "7d5aa933-e2c4-415f-8332-fc6b31e63429"
      },
      "outputs": [
        {
          "output_type": "stream",
          "name": "stdout",
          "text": [
            "Name: Faker\n",
            "Version: 13.3.5\n",
            "Summary: Faker is a Python package that generates fake data for you.\n",
            "Home-page: https://github.com/joke2k/faker\n",
            "Author: joke2k\n",
            "Author-email: joke2k@gmail.com\n",
            "License: MIT License\n",
            "Location: /usr/local/lib/python3.7/dist-packages\n",
            "Requires: python-dateutil, typing-extensions\n",
            "Required-by: \n"
          ]
        }
      ],
      "source": [
        "!pip show faker"
      ]
    },
    {
      "cell_type": "code",
      "source": [
        "!pip install faker"
      ],
      "metadata": {
        "colab": {
          "base_uri": "https://localhost:8080/"
        },
        "id": "E6lu178rmuZ8",
        "outputId": "76f51907-6d54-464f-ab5f-f08f9d4745f3"
      },
      "execution_count": null,
      "outputs": [
        {
          "output_type": "stream",
          "name": "stdout",
          "text": [
            "Collecting faker\n",
            "  Downloading Faker-13.3.5-py3-none-any.whl (1.5 MB)\n",
            "\u001b[K     |████████████████████████████████| 1.5 MB 5.1 MB/s \n",
            "\u001b[?25hRequirement already satisfied: typing-extensions>=3.10.0.2 in /usr/local/lib/python3.7/dist-packages (from faker) (4.1.1)\n",
            "Requirement already satisfied: python-dateutil>=2.4 in /usr/local/lib/python3.7/dist-packages (from faker) (2.8.2)\n",
            "Requirement already satisfied: six>=1.5 in /usr/local/lib/python3.7/dist-packages (from python-dateutil>=2.4->faker) (1.15.0)\n",
            "Installing collected packages: faker\n",
            "Successfully installed faker-13.3.5\n"
          ]
        }
      ]
    },
    {
      "cell_type": "code",
      "source": [
        "from faker import Faker"
      ],
      "metadata": {
        "id": "oxHvwfDPmwXk"
      },
      "execution_count": null,
      "outputs": []
    },
    {
      "cell_type": "code",
      "source": [
        "faker = Faker()"
      ],
      "metadata": {
        "id": "ZFlHb70Cm5wy"
      },
      "execution_count": null,
      "outputs": []
    },
    {
      "cell_type": "code",
      "source": [
        "faker"
      ],
      "metadata": {
        "colab": {
          "base_uri": "https://localhost:8080/"
        },
        "id": "3kCzoNP-nBmt",
        "outputId": "0fdab1e0-9c23-4a20-c880-cd16cb8cdb03"
      },
      "execution_count": null,
      "outputs": [
        {
          "output_type": "execute_result",
          "data": {
            "text/plain": [
              "<faker.proxy.Faker at 0x7f686dc4a5d0>"
            ]
          },
          "metadata": {},
          "execution_count": 7
        }
      ]
    },
    {
      "cell_type": "code",
      "source": [
        "faker.simple_profile(sex='M')"
      ],
      "metadata": {
        "colab": {
          "base_uri": "https://localhost:8080/"
        },
        "id": "eq-uEdPfn_-e",
        "outputId": "f8a11726-8d40-4b6b-b852-3d6565c146bc"
      },
      "execution_count": null,
      "outputs": [
        {
          "output_type": "execute_result",
          "data": {
            "text/plain": [
              "{'address': '03896 Edwards Square Suite 808\\nEverettside, TX 96273',\n",
              " 'birthdate': datetime.date(1965, 5, 4),\n",
              " 'mail': 'dgoodman@yahoo.com',\n",
              " 'name': 'Timothy Edwards',\n",
              " 'sex': 'M',\n",
              " 'username': 'wilsonelizabeth'}"
            ]
          },
          "metadata": {},
          "execution_count": 24
        }
      ]
    },
    {
      "cell_type": "code",
      "source": [
        "faker.profile(sex='F')"
      ],
      "metadata": {
        "colab": {
          "base_uri": "https://localhost:8080/"
        },
        "id": "BnVXOgu3nCkg",
        "outputId": "3bc900e7-608e-4323-c57a-6edaaeb0d3d1"
      },
      "execution_count": null,
      "outputs": [
        {
          "output_type": "execute_result",
          "data": {
            "text/plain": [
              "{'address': '494 Kim Lodge\\nKeithstad, NY 66745',\n",
              " 'birthdate': datetime.date(1967, 10, 5),\n",
              " 'blood_group': 'B+',\n",
              " 'company': 'Holden, Wagner and Chavez',\n",
              " 'current_location': (Decimal('73.472245'), Decimal('121.103461')),\n",
              " 'job': 'Estate manager/land agent',\n",
              " 'mail': 'ericsmith@hotmail.com',\n",
              " 'name': 'Monica Randolph',\n",
              " 'residence': '876 Bowers Station\\nNew Lisa, OK 52710',\n",
              " 'sex': 'F',\n",
              " 'ssn': '516-65-0927',\n",
              " 'username': 'williamevans',\n",
              " 'website': ['http://barnes.com/',\n",
              "  'http://www.holt.com/',\n",
              "  'https://www.cook-scott.com/',\n",
              "  'https://www.wilson-hardin.info/']}"
            ]
          },
          "metadata": {},
          "execution_count": 21
        }
      ]
    },
    {
      "cell_type": "code",
      "source": [
        "prof = faker.profile()"
      ],
      "metadata": {
        "id": "uTx-baLmnTCh"
      },
      "execution_count": null,
      "outputs": []
    },
    {
      "cell_type": "code",
      "source": [
        "type(prof)"
      ],
      "metadata": {
        "colab": {
          "base_uri": "https://localhost:8080/"
        },
        "id": "yhHVMyzEnWpW",
        "outputId": "3dfbba99-558a-41a0-aa92-4bcdde3f5580"
      },
      "execution_count": null,
      "outputs": [
        {
          "output_type": "execute_result",
          "data": {
            "text/plain": [
              "dict"
            ]
          },
          "metadata": {},
          "execution_count": 14
        }
      ]
    },
    {
      "cell_type": "code",
      "source": [
        "prof['current_location']"
      ],
      "metadata": {
        "colab": {
          "base_uri": "https://localhost:8080/"
        },
        "id": "UGH_cmUUnYzh",
        "outputId": "9545f70a-a8d0-4c71-d015-9fb1f2948aa4"
      },
      "execution_count": null,
      "outputs": [
        {
          "output_type": "execute_result",
          "data": {
            "text/plain": [
              "(Decimal('-75.065834'), Decimal('114.423426'))"
            ]
          },
          "metadata": {},
          "execution_count": 16
        }
      ]
    },
    {
      "cell_type": "code",
      "source": [
        "faker.ssn()"
      ],
      "metadata": {
        "colab": {
          "base_uri": "https://localhost:8080/",
          "height": 35
        },
        "id": "iwVVkDvJvHvl",
        "outputId": "544296be-47ed-423b-dfac-458cba236c25"
      },
      "execution_count": null,
      "outputs": [
        {
          "output_type": "execute_result",
          "data": {
            "text/plain": [
              "'384-74-4243'"
            ],
            "application/vnd.google.colaboratory.intrinsic+json": {
              "type": "string"
            }
          },
          "metadata": {},
          "execution_count": 141
        }
      ]
    },
    {
      "cell_type": "code",
      "source": [
        "faker.address()"
      ],
      "metadata": {
        "colab": {
          "base_uri": "https://localhost:8080/",
          "height": 35
        },
        "id": "clj8-0oYnhSu",
        "outputId": "07f40aaa-b280-4a8a-d84d-a8387242e356"
      },
      "execution_count": null,
      "outputs": [
        {
          "output_type": "execute_result",
          "data": {
            "text/plain": [
              "'57188 Penny Center\\nJasonton, CT 39649'"
            ],
            "application/vnd.google.colaboratory.intrinsic+json": {
              "type": "string"
            }
          },
          "metadata": {},
          "execution_count": 25
        }
      ]
    },
    {
      "cell_type": "code",
      "source": [
        "faker.city()"
      ],
      "metadata": {
        "colab": {
          "base_uri": "https://localhost:8080/",
          "height": 35
        },
        "id": "-44EBQ-voQ2o",
        "outputId": "f89c17b8-c526-432c-e6b5-9f3661ce8935"
      },
      "execution_count": null,
      "outputs": [
        {
          "output_type": "execute_result",
          "data": {
            "text/plain": [
              "'East Jeffreyview'"
            ],
            "application/vnd.google.colaboratory.intrinsic+json": {
              "type": "string"
            }
          },
          "metadata": {},
          "execution_count": 26
        }
      ]
    },
    {
      "cell_type": "code",
      "source": [
        "faker.country()"
      ],
      "metadata": {
        "colab": {
          "base_uri": "https://localhost:8080/",
          "height": 35
        },
        "id": "hKAv4ZEZoTGI",
        "outputId": "4afb1569-8908-4ccd-ad15-3eb731b06f2d"
      },
      "execution_count": null,
      "outputs": [
        {
          "output_type": "execute_result",
          "data": {
            "text/plain": [
              "'Suriname'"
            ],
            "application/vnd.google.colaboratory.intrinsic+json": {
              "type": "string"
            }
          },
          "metadata": {},
          "execution_count": 27
        }
      ]
    },
    {
      "cell_type": "code",
      "source": [
        "faker.country_code()"
      ],
      "metadata": {
        "colab": {
          "base_uri": "https://localhost:8080/",
          "height": 35
        },
        "id": "z3nN9_8PoUWk",
        "outputId": "b644820b-88da-418e-b657-bd0d43b58b96"
      },
      "execution_count": null,
      "outputs": [
        {
          "output_type": "execute_result",
          "data": {
            "text/plain": [
              "'MG'"
            ],
            "application/vnd.google.colaboratory.intrinsic+json": {
              "type": "string"
            }
          },
          "metadata": {},
          "execution_count": 29
        }
      ]
    },
    {
      "cell_type": "code",
      "source": [
        "faker.zipcode()"
      ],
      "metadata": {
        "colab": {
          "base_uri": "https://localhost:8080/",
          "height": 35
        },
        "id": "CRRvWmtAoV8l",
        "outputId": "ee6be88e-ebee-430b-de91-d0dfd438cb50"
      },
      "execution_count": null,
      "outputs": [
        {
          "output_type": "execute_result",
          "data": {
            "text/plain": [
              "'78714'"
            ],
            "application/vnd.google.colaboratory.intrinsic+json": {
              "type": "string"
            }
          },
          "metadata": {},
          "execution_count": 30
        }
      ]
    },
    {
      "cell_type": "code",
      "source": [
        "faker.zipcode_in_state('MA')"
      ],
      "metadata": {
        "colab": {
          "base_uri": "https://localhost:8080/",
          "height": 35
        },
        "id": "o-cbKqhKog0L",
        "outputId": "9556e72a-f57c-4154-dee5-8bf77ece4bd8"
      },
      "execution_count": null,
      "outputs": [
        {
          "output_type": "execute_result",
          "data": {
            "text/plain": [
              "'02428'"
            ],
            "application/vnd.google.colaboratory.intrinsic+json": {
              "type": "string"
            }
          },
          "metadata": {},
          "execution_count": 32
        }
      ]
    },
    {
      "cell_type": "code",
      "source": [
        "faker.company() + ' ' + faker.company_suffix()"
      ],
      "metadata": {
        "colab": {
          "base_uri": "https://localhost:8080/",
          "height": 35
        },
        "id": "xHKaQdkToj01",
        "outputId": "c05cdc2f-595f-4498-a9d3-2a29d6753ec6"
      },
      "execution_count": null,
      "outputs": [
        {
          "output_type": "execute_result",
          "data": {
            "text/plain": [
              "'Kane-Cervantes Ltd'"
            ],
            "application/vnd.google.colaboratory.intrinsic+json": {
              "type": "string"
            }
          },
          "metadata": {},
          "execution_count": 38
        }
      ]
    },
    {
      "cell_type": "code",
      "source": [
        "faker.company_email()"
      ],
      "metadata": {
        "colab": {
          "base_uri": "https://localhost:8080/",
          "height": 35
        },
        "id": "E7lrBJ6cot06",
        "outputId": "a198175c-c8f1-4bda-d8bc-af30607ccda7"
      },
      "execution_count": null,
      "outputs": [
        {
          "output_type": "execute_result",
          "data": {
            "text/plain": [
              "'dianabarton@peterson-anderson.org'"
            ],
            "application/vnd.google.colaboratory.intrinsic+json": {
              "type": "string"
            }
          },
          "metadata": {},
          "execution_count": 36
        }
      ]
    },
    {
      "cell_type": "code",
      "source": [
        "faker.company_suffix()"
      ],
      "metadata": {
        "colab": {
          "base_uri": "https://localhost:8080/",
          "height": 35
        },
        "id": "f2hcmXXmowCb",
        "outputId": "4e4ac52e-40e4-415c-9796-c69f0de51247"
      },
      "execution_count": null,
      "outputs": [
        {
          "output_type": "execute_result",
          "data": {
            "text/plain": [
              "'LLC'"
            ],
            "application/vnd.google.colaboratory.intrinsic+json": {
              "type": "string"
            }
          },
          "metadata": {},
          "execution_count": 37
        }
      ]
    },
    {
      "cell_type": "code",
      "source": [
        "faker.credit_card_provider()"
      ],
      "metadata": {
        "colab": {
          "base_uri": "https://localhost:8080/",
          "height": 35
        },
        "id": "mfJkh0Wjo5DV",
        "outputId": "978990bd-8a6a-4f75-9583-8935f14c0c17"
      },
      "execution_count": null,
      "outputs": [
        {
          "output_type": "execute_result",
          "data": {
            "text/plain": [
              "'VISA 16 digit'"
            ],
            "application/vnd.google.colaboratory.intrinsic+json": {
              "type": "string"
            }
          },
          "metadata": {},
          "execution_count": 40
        }
      ]
    },
    {
      "cell_type": "code",
      "source": [
        "import random"
      ],
      "metadata": {
        "id": "VPZjrGSzpUZ3"
      },
      "execution_count": null,
      "outputs": []
    },
    {
      "cell_type": "code",
      "source": [
        "cc_companies = ['amex', 'diners', 'discover', 'jcb', 'jcb15', 'jcb16', 'maestro', 'mastercard', 'visa', 'visa13', 'visa16', 'visa19']\n",
        "selected_cc_comp = random.choice(cc_companies)\n",
        "print(selected_cc_comp)\n",
        "print(faker.credit_card_number(selected_cc_comp))\n",
        "print(faker.credit_card_security_code())\n",
        "print(faker.credit_card_expire())"
      ],
      "metadata": {
        "colab": {
          "base_uri": "https://localhost:8080/"
        },
        "id": "eqrDBQxYpJr9",
        "outputId": "9addd625-9b7e-4712-c6b8-bd36a71cee44"
      },
      "execution_count": null,
      "outputs": [
        {
          "output_type": "stream",
          "name": "stdout",
          "text": [
            "discover\n",
            "6011058646062119\n",
            "037\n",
            "12/22\n"
          ]
        }
      ]
    },
    {
      "cell_type": "code",
      "source": [
        "faker.job()"
      ],
      "metadata": {
        "colab": {
          "base_uri": "https://localhost:8080/",
          "height": 35
        },
        "id": "9ML9E8nSpQNu",
        "outputId": "4eda6fd5-0f43-4d7d-d4e2-cf627ac0c97d"
      },
      "execution_count": null,
      "outputs": [
        {
          "output_type": "execute_result",
          "data": {
            "text/plain": [
              "'Engineer, communications'"
            ],
            "application/vnd.google.colaboratory.intrinsic+json": {
              "type": "string"
            }
          },
          "metadata": {},
          "execution_count": 86
        }
      ]
    },
    {
      "cell_type": "code",
      "source": [
        "print(f'Name: {faker.name()}')\n",
        "print(f'First name: {faker.first_name()}')\n",
        "print(f'Last name: {faker.last_name()}')\n",
        "\n",
        "print('--------------------------')\n",
        "\n",
        "print(f'Male name: {faker.name_male()}')\n",
        "print(f'Female name: {faker.name_female()}')"
      ],
      "metadata": {
        "colab": {
          "base_uri": "https://localhost:8080/"
        },
        "id": "B_WurTsgqn4g",
        "outputId": "0aa26773-0848-45b1-d1ae-7b7bef5124dd"
      },
      "execution_count": null,
      "outputs": [
        {
          "output_type": "stream",
          "name": "stdout",
          "text": [
            "Name: Mary Barrett\n",
            "First name: Paul\n",
            "Last name: Smith\n",
            "--------------------------\n",
            "Male name: Brian Washington\n",
            "Female name: Rebecca Page\n"
          ]
        }
      ]
    },
    {
      "cell_type": "code",
      "source": [
        "print(faker.prefix_nonbinary())\n",
        "print(faker.name_nonbinary())\n",
        "print(faker.suffix_nonbinary())"
      ],
      "metadata": {
        "colab": {
          "base_uri": "https://localhost:8080/"
        },
        "id": "vW6vjxM6rjvn",
        "outputId": "cc8745ec-ba54-4bd9-d750-51571fb7f275"
      },
      "execution_count": null,
      "outputs": [
        {
          "output_type": "stream",
          "name": "stdout",
          "text": [
            "Mx.\n",
            "Stephen Rodriguez\n",
            "DDS\n"
          ]
        }
      ]
    },
    {
      "cell_type": "code",
      "source": [
        "faker.local_latlng(country_code='US')"
      ],
      "metadata": {
        "colab": {
          "base_uri": "https://localhost:8080/"
        },
        "id": "HPtoOp5Irt7F",
        "outputId": "f0db7616-6622-482a-ba34-b062176c7335"
      },
      "execution_count": null,
      "outputs": [
        {
          "output_type": "execute_result",
          "data": {
            "text/plain": [
              "('41.24255', '-82.61573', 'Norwalk', 'US', 'America/New_York')"
            ]
          },
          "metadata": {},
          "execution_count": 103
        }
      ]
    },
    {
      "cell_type": "code",
      "source": [
        "faker.local_latlng(country_code='AU')"
      ],
      "metadata": {
        "colab": {
          "base_uri": "https://localhost:8080/"
        },
        "id": "mtW1ykU0sgb5",
        "outputId": "4e8ded7b-b360-4b34-9c75-294abce38d0f"
      },
      "execution_count": null,
      "outputs": [
        {
          "output_type": "execute_result",
          "data": {
            "text/plain": [
              "('-37.88333', '145.06667', 'Carnegie', 'AU', 'Australia/Melbourne')"
            ]
          },
          "metadata": {},
          "execution_count": 105
        }
      ]
    },
    {
      "cell_type": "code",
      "source": [
        "faker.local_latlng(country_code='IN')"
      ],
      "metadata": {
        "colab": {
          "base_uri": "https://localhost:8080/"
        },
        "id": "dShGHJz5sng8",
        "outputId": "5ccb10ac-368f-4617-8bf3-ad6f451a2d7e"
      },
      "execution_count": null,
      "outputs": [
        {
          "output_type": "execute_result",
          "data": {
            "text/plain": [
              "('33.37526', '74.3092', 'Rajaori', 'IN', 'Asia/Kolkata')"
            ]
          },
          "metadata": {},
          "execution_count": 109
        }
      ]
    },
    {
      "cell_type": "code",
      "source": [
        "faker.local_latlng(country_code='IN', coords_only = True)"
      ],
      "metadata": {
        "colab": {
          "base_uri": "https://localhost:8080/"
        },
        "id": "xbplICBhs53C",
        "outputId": "7ab23603-9a55-4d78-f5fb-2b969dec8ac2"
      },
      "execution_count": null,
      "outputs": [
        {
          "output_type": "execute_result",
          "data": {
            "text/plain": [
              "('21.53889', '71.57737')"
            ]
          },
          "metadata": {},
          "execution_count": 110
        }
      ]
    },
    {
      "cell_type": "code",
      "source": [
        "faker.currency()"
      ],
      "metadata": {
        "colab": {
          "base_uri": "https://localhost:8080/"
        },
        "id": "6lBOdQ9rtDDf",
        "outputId": "86cac19d-bee6-40a9-c36d-760954ff2e16"
      },
      "execution_count": null,
      "outputs": [
        {
          "output_type": "execute_result",
          "data": {
            "text/plain": [
              "('NIO', 'Nicaraguan córdoba')"
            ]
          },
          "metadata": {},
          "execution_count": 111
        }
      ]
    },
    {
      "cell_type": "code",
      "source": [
        "print(faker.currency_code())\n",
        "print(faker.currency_name())\n",
        "print(faker.currency_symbol())\n",
        "print(faker.cryptocurrency())"
      ],
      "metadata": {
        "colab": {
          "base_uri": "https://localhost:8080/"
        },
        "id": "9uqmyjH_tMZa",
        "outputId": "1e2664b0-2844-4c01-991a-63f6f69b16fd"
      },
      "execution_count": null,
      "outputs": [
        {
          "output_type": "stream",
          "name": "stdout",
          "text": [
            "LSL\n",
            "Belarusian ruble\n",
            "$\n",
            "('TRX', 'TRON')\n"
          ]
        }
      ]
    },
    {
      "cell_type": "code",
      "source": [
        "faker.file_name(category='video')"
      ],
      "metadata": {
        "colab": {
          "base_uri": "https://localhost:8080/",
          "height": 35
        },
        "id": "BosqWTXktTid",
        "outputId": "707f91da-eb84-4a58-a143-212f50b152bc"
      },
      "execution_count": null,
      "outputs": [
        {
          "output_type": "execute_result",
          "data": {
            "text/plain": [
              "'decade.avi'"
            ],
            "application/vnd.google.colaboratory.intrinsic+json": {
              "type": "string"
            }
          },
          "metadata": {},
          "execution_count": 124
        }
      ]
    },
    {
      "cell_type": "code",
      "source": [
        "faker.file_path(category='video', depth=10)"
      ],
      "metadata": {
        "colab": {
          "base_uri": "https://localhost:8080/",
          "height": 35
        },
        "id": "NyxYdge8txyl",
        "outputId": "c68d0442-80e7-4af0-d8a6-d1e44c8f1067"
      },
      "execution_count": null,
      "outputs": [
        {
          "output_type": "execute_result",
          "data": {
            "text/plain": [
              "'/despite/traditional/activity/treat/various/yard/firm/set/out/leader/born.mp4'"
            ],
            "application/vnd.google.colaboratory.intrinsic+json": {
              "type": "string"
            }
          },
          "metadata": {},
          "execution_count": 126
        }
      ]
    },
    {
      "cell_type": "code",
      "source": [
        "faker.pylist()"
      ],
      "metadata": {
        "colab": {
          "base_uri": "https://localhost:8080/"
        },
        "id": "stc7ludauFO3",
        "outputId": "c43f2dbc-9d69-4b3d-c9fe-9e494b368edf"
      },
      "execution_count": null,
      "outputs": [
        {
          "output_type": "execute_result",
          "data": {
            "text/plain": [
              "['iBsKubfVqYqbBgUaKqvZ',\n",
              " 'XnXxohDJdCJJZqpdBxtH',\n",
              " 9028,\n",
              " 'tylerellis@example.org',\n",
              " 8392,\n",
              " datetime.datetime(1995, 5, 14, 11, 28, 44),\n",
              " 8436824783.73378,\n",
              " 'elcPEKnmcCKCZFftCrTs']"
            ]
          },
          "metadata": {},
          "execution_count": 128
        }
      ]
    },
    {
      "cell_type": "code",
      "source": [
        "faker.pystr_format(string_format=\"#???? ###\")"
      ],
      "metadata": {
        "colab": {
          "base_uri": "https://localhost:8080/",
          "height": 35
        },
        "id": "0FAT2MY8ungQ",
        "outputId": "c75f3510-8d26-4181-fd1c-ecc1adb94435"
      },
      "execution_count": null,
      "outputs": [
        {
          "output_type": "execute_result",
          "data": {
            "text/plain": [
              "'9Dxzh 656'"
            ],
            "application/vnd.google.colaboratory.intrinsic+json": {
              "type": "string"
            }
          },
          "metadata": {},
          "execution_count": 132
        }
      ]
    },
    {
      "cell_type": "code",
      "source": [
        "faker.pystruct()"
      ],
      "metadata": {
        "colab": {
          "base_uri": "https://localhost:8080/"
        },
        "id": "aBpvKr3Duuit",
        "outputId": "42c1ee15-2851-4f5e-a967-e2090a0b555b"
      },
      "execution_count": null,
      "outputs": [
        {
          "output_type": "execute_result",
          "data": {
            "text/plain": [
              "([4341,\n",
              "  'nHTRYCKpjNdDVXfWtNPj',\n",
              "  'http://booker.com/',\n",
              "  4783,\n",
              "  8290,\n",
              "  4927,\n",
              "  datetime.datetime(1990, 6, 27, 16, 32, 1),\n",
              "  datetime.datetime(2008, 10, 26, 10, 11, 30),\n",
              "  'epHKEqsQhWVfoJMIXzpW',\n",
              "  3913],\n",
              " {'economy': 'http://lang.com/search/blog/list/login.html',\n",
              "  'fall': Decimal('-4106943816883272968414909726734751813250950250711182980437790377636056.04625927413680487834532756'),\n",
              "  'him': datetime.datetime(1986, 9, 22, 23, 36, 8),\n",
              "  'huge': 'CjJJiMKucwuTqneHwhJw',\n",
              "  'myself': Decimal('-19562337669476903185459605281485.91239907945767247922353973106180608167563101241807953395108'),\n",
              "  'quickly': 'bfoxgCEyqqqhuWMLKWah',\n",
              "  'realize': datetime.datetime(1971, 4, 12, 1, 58, 18),\n",
              "  'soon': Decimal('-351800039966882212802339966706485411913604421.4791881924905372021453080770288862307329258738156'),\n",
              "  'technology': Decimal('683744765.80997872894071132206824053710622246476616829191509'),\n",
              "  'world': 'yMQAoCDeNYhetYVqXpMa'},\n",
              " {'line': {5: 3062,\n",
              "   6: [4977, 'UbtWLFDeDFQtlGLASgiE', 'jRIZPXulRIPIAzphPDdt'],\n",
              "   7: {5: 'GBhiCiEXrvTuiQrBtulZ',\n",
              "    6: 'IYIFjhPRmGQjlVjqgDTi',\n",
              "    7: [-2126.52030761202, 'yzEpHyGXEroViHPZtRjQ']}},\n",
              "  'miss': {0: 'JjxWNmrLGToAAogSJIUf',\n",
              "   1: ['enHTkWkxckdFgnMqoHfu',\n",
              "    'https://www.wilson.com/privacy.jsp',\n",
              "    'https://www.davis-reed.com/category/'],\n",
              "   2: {0: 6925,\n",
              "    1: Decimal('-4035749426833447902308429035657779433227695886900906532172493858191.8320923601750420588509168663035763800'),\n",
              "    2: ['bVgKkCpwpLWJbIaJLMBJ', 'INVFFbEFWFkDMGmYuqwM']}},\n",
              "  'reason': {2: 9162,\n",
              "   3: ['fiYSooPBmnXGmiRpLnTw', 6232, 'LJCLWWcCeGwVBowpWVZs'],\n",
              "   4: {2: 'GoNrShrGhbyPZljmcrAo',\n",
              "    3: 9809,\n",
              "    4: ['SvHwkYMFSaxRVXzfLBVk', -3974759.86004052]}},\n",
              "  'receive': {1: 'kqGTznNjFTDeIHcEbRSE',\n",
              "   2: ['MWDIGwEeMxpnkalOxrAz', 'XXUuSzpwifPHioYoGsPU', 'gQHzTetyxquKwlVjOXtL'],\n",
              "   3: {1: Decimal('3059728124050366342324883009083552844971214111046811142778115435777841724461.840715475781733856565506630740208149086866700686101081060550424268298666'),\n",
              "    2: 'PGbOTvPjbMGnuCtJJvmI',\n",
              "    3: ['XpKSSSbxTCVhLzZcgPFP', 4945]}},\n",
              "  'sort': {3: 'YzOAsnlSpifcANAwvKBh',\n",
              "   4: [3827, 8678, 'ktfSjDIJZVBBwwIhOFzO'],\n",
              "   5: {3: -339.38196863909,\n",
              "    4: Decimal('-3042401.61429202782397539526013249'),\n",
              "    5: ['szKRaToocHueAeYAjBSp', 'YQpDkcAcNrvMGiFMstRE']}},\n",
              "  'thus': {9: 2123,\n",
              "   10: ['dmoses@example.com',\n",
              "    datetime.datetime(2001, 12, 13, 22, 53, 15),\n",
              "    'JEWOUYMoaAolAXkTPKyK'],\n",
              "   11: {9: 'lGSgdblsHEjhTXEqfpqp',\n",
              "    10: 'carly08@example.net',\n",
              "    11: [1258.25226905862, 'ZUJawetcHCXrrFMhxxZS']}},\n",
              "  'treat': {4: Decimal('309458305529292521599872468038149259.030337716413319746220636799177732775276169092744216973273288395472385649267306689195417640020'),\n",
              "   5: ['JHegHfpuciwRlaUrGYXJ',\n",
              "    2809,\n",
              "    Decimal('-39502374039647883078683185675989041014770896491543778303382387700850847362699746253431597508.710842309392815552003742605906446881254043')],\n",
              "   6: {4: datetime.datetime(1979, 9, 29, 17, 12, 53),\n",
              "    5: datetime.datetime(2010, 11, 3, 16, 40, 37),\n",
              "    6: [Decimal('419.099704288005766230054369862810643248225675793048029314798861187502953634690121679942682829971861'),\n",
              "     datetime.datetime(1980, 3, 10, 2, 50, 25)]}},\n",
              "  'us': {8: 4455,\n",
              "   9: [Decimal('62535478985579657001670173697848126097508700525484399968768037135278906244863105954.786438548880175'),\n",
              "    'cnwASsnikKrDzDysbatk',\n",
              "    Decimal('8249500551641.9069540862140')],\n",
              "   10: {8: 'kCNMnHWGUtSRsrdaEZzz',\n",
              "    9: 3049,\n",
              "    10: [9758, 'ucastro@example.com']}},\n",
              "  'where': {7: 710,\n",
              "   8: ['kAKMDMendKStjnoUhdBa', 'jtjzXzpAtxFNpyXFzWwo', 'aqnFlAKjkNZFXSQsEGTA'],\n",
              "   9: {7: 'http://jones.com/app/wp-content/login.html',\n",
              "    8: 'aPlZCuffwqClrCSVwEOK',\n",
              "    9: ['rAJyskYUPOnpHJxeFtAF', 'DRdgKZWViQBUIyQfQpmT']}},\n",
              "  'year': {6: 9186402.569128,\n",
              "   7: [4455, 'zlENZzJXprAYuOVeUemE', 'WWXOrXvWTLpJTwrjiBmd'],\n",
              "   8: {6: 'http://hughes.net/faq/',\n",
              "    7: Decimal('-3629987936482431959796623325556417768099649693635953681140938423270171.538772'),\n",
              "    8: ['TOFXuRDBAVWuDuYMxTVi', 'NepZPxRhVJQsPxMAGMtK']}}})"
            ]
          },
          "metadata": {},
          "execution_count": 133
        }
      ]
    },
    {
      "cell_type": "code",
      "source": [
        "faker.pytuple()"
      ],
      "metadata": {
        "colab": {
          "base_uri": "https://localhost:8080/"
        },
        "id": "GoBPYU7Lu5r-",
        "outputId": "b447cc0a-a226-4f7c-c741-794db6984299"
      },
      "execution_count": null,
      "outputs": [
        {
          "output_type": "execute_result",
          "data": {
            "text/plain": [
              "(Decimal('-6048191518594997006660672.92397826656995107399886751692190031905419518114512'),\n",
              " -93762389286.3869,\n",
              " 'VBeaglHyjtILFHXBXdlg',\n",
              " Decimal('-695349971492370955833559.4146984709873507460495'),\n",
              " 'eqdrODRnPDxhEayIeOqr',\n",
              " 'daniel60@example.org',\n",
              " 'lIeAbbWpwQVUkGQaoWkC')"
            ]
          },
          "metadata": {},
          "execution_count": 134
        }
      ]
    },
    {
      "cell_type": "code",
      "source": [
        "faker.pyiterable()"
      ],
      "metadata": {
        "colab": {
          "base_uri": "https://localhost:8080/"
        },
        "id": "w4GYjGt6u7qR",
        "outputId": "fe537b38-7dd1-46d2-a87e-e7690cb6cbd9"
      },
      "execution_count": null,
      "outputs": [
        {
          "output_type": "execute_result",
          "data": {
            "text/plain": [
              "(Decimal('96715548691908563725129715319330136306760792735235105.2225461946476'),\n",
              " 'UjoeCqKmpOPtfNVsxtDV',\n",
              " 8327,\n",
              " 'bennettandrew@example.com',\n",
              " 'http://www.white.org/',\n",
              " datetime.datetime(1982, 7, 8, 10, 32, 47),\n",
              " 4796873426858.58)"
            ]
          },
          "metadata": {},
          "execution_count": 135
        }
      ]
    },
    {
      "cell_type": "code",
      "source": [
        "faker.pydict()"
      ],
      "metadata": {
        "colab": {
          "base_uri": "https://localhost:8080/"
        },
        "id": "DUTCbyDzu9RC",
        "outputId": "85d1d2bd-43e6-465f-b081-d8a82ef6b13d"
      },
      "execution_count": null,
      "outputs": [
        {
          "output_type": "execute_result",
          "data": {
            "text/plain": [
              "{'a': datetime.datetime(1994, 5, 13, 5, 31, 17),\n",
              " 'example': 'djones@example.net',\n",
              " 'health': 54276645272706.0,\n",
              " 'issue': 'LWtquzLXuyuYCoRSgEcT',\n",
              " 'party': 59577.8713890424,\n",
              " 'seat': 'http://www.eaton-jones.com/',\n",
              " 'son': datetime.datetime(2016, 12, 16, 23, 13, 24),\n",
              " 'song': -12496939.447306,\n",
              " 'south': 'iJjMfGwDeQHKjLGSzuuY'}"
            ]
          },
          "metadata": {},
          "execution_count": 136
        }
      ]
    },
    {
      "cell_type": "code",
      "source": [
        "faker.pydecimal()"
      ],
      "metadata": {
        "colab": {
          "base_uri": "https://localhost:8080/"
        },
        "id": "tvLNodxHu-pc",
        "outputId": "2dd7b396-fc21-4ffa-a0b6-c46a8531c668"
      },
      "execution_count": null,
      "outputs": [
        {
          "output_type": "execute_result",
          "data": {
            "text/plain": [
              "Decimal('895374785062453842148334315357555167898302.2819374662259287')"
            ]
          },
          "metadata": {},
          "execution_count": 138
        }
      ]
    },
    {
      "cell_type": "code",
      "source": [
        "faker.pyint()"
      ],
      "metadata": {
        "colab": {
          "base_uri": "https://localhost:8080/"
        },
        "id": "cxIaCN4vvAps",
        "outputId": "659e1546-c288-4407-ddb1-4226181c8cd3"
      },
      "execution_count": null,
      "outputs": [
        {
          "output_type": "execute_result",
          "data": {
            "text/plain": [
              "2163"
            ]
          },
          "metadata": {},
          "execution_count": 139
        }
      ]
    },
    {
      "cell_type": "code",
      "source": [
        "!pip install faker_vehicle"
      ],
      "metadata": {
        "colab": {
          "base_uri": "https://localhost:8080/"
        },
        "id": "bposxnzBvC13",
        "outputId": "fe32d0f7-2baa-4842-8573-9f34fccd605a"
      },
      "execution_count": null,
      "outputs": [
        {
          "output_type": "stream",
          "name": "stdout",
          "text": [
            "Collecting faker_vehicle\n",
            "  Downloading faker_vehicle-0.2.0-py2.py3-none-any.whl (162 kB)\n",
            "\u001b[?25l\r\u001b[K     |██                              | 10 kB 17.6 MB/s eta 0:00:01\r\u001b[K     |████                            | 20 kB 17.5 MB/s eta 0:00:01\r\u001b[K     |██████                          | 30 kB 11.0 MB/s eta 0:00:01\r\u001b[K     |████████                        | 40 kB 9.5 MB/s eta 0:00:01\r\u001b[K     |██████████                      | 51 kB 4.6 MB/s eta 0:00:01\r\u001b[K     |████████████                    | 61 kB 5.4 MB/s eta 0:00:01\r\u001b[K     |██████████████▏                 | 71 kB 5.7 MB/s eta 0:00:01\r\u001b[K     |████████████████▏               | 81 kB 5.8 MB/s eta 0:00:01\r\u001b[K     |██████████████████▏             | 92 kB 6.4 MB/s eta 0:00:01\r\u001b[K     |████████████████████▏           | 102 kB 5.1 MB/s eta 0:00:01\r\u001b[K     |██████████████████████▏         | 112 kB 5.1 MB/s eta 0:00:01\r\u001b[K     |████████████████████████▏       | 122 kB 5.1 MB/s eta 0:00:01\r\u001b[K     |██████████████████████████▎     | 133 kB 5.1 MB/s eta 0:00:01\r\u001b[K     |████████████████████████████▎   | 143 kB 5.1 MB/s eta 0:00:01\r\u001b[K     |██████████████████████████████▎ | 153 kB 5.1 MB/s eta 0:00:01\r\u001b[K     |████████████████████████████████| 162 kB 5.1 MB/s \n",
            "\u001b[?25hRequirement already satisfied: faker in /usr/local/lib/python3.7/dist-packages (from faker_vehicle) (13.3.5)\n",
            "Requirement already satisfied: typing-extensions>=3.10.0.2 in /usr/local/lib/python3.7/dist-packages (from faker->faker_vehicle) (4.1.1)\n",
            "Requirement already satisfied: python-dateutil>=2.4 in /usr/local/lib/python3.7/dist-packages (from faker->faker_vehicle) (2.8.2)\n",
            "Requirement already satisfied: six>=1.5 in /usr/local/lib/python3.7/dist-packages (from python-dateutil>=2.4->faker->faker_vehicle) (1.15.0)\n",
            "Installing collected packages: faker-vehicle\n",
            "Successfully installed faker-vehicle-0.2.0\n"
          ]
        }
      ]
    },
    {
      "cell_type": "code",
      "source": [
        "from faker_vehicle import VehicleProvider"
      ],
      "metadata": {
        "id": "k74qnfyxvTDN"
      },
      "execution_count": null,
      "outputs": []
    },
    {
      "cell_type": "code",
      "source": [
        "faker.add_provider(VehicleProvider)"
      ],
      "metadata": {
        "id": "rc1uctKKvWGA"
      },
      "execution_count": null,
      "outputs": []
    },
    {
      "cell_type": "code",
      "source": [
        "faker.vehicle_year_make_model_cat()"
      ],
      "metadata": {
        "colab": {
          "base_uri": "https://localhost:8080/",
          "height": 35
        },
        "id": "R1DwCJ6MvZ-i",
        "outputId": "fb523f6e-c4ba-438c-ed81-5b2e45d43f81"
      },
      "execution_count": null,
      "outputs": [
        {
          "output_type": "execute_result",
          "data": {
            "text/plain": [
              "'2014 Nissan Armada (SUV)'"
            ],
            "application/vnd.google.colaboratory.intrinsic+json": {
              "type": "string"
            }
          },
          "metadata": {},
          "execution_count": 145
        }
      ]
    },
    {
      "cell_type": "code",
      "source": [
        "faker.vehicle_year_make_model()"
      ],
      "metadata": {
        "colab": {
          "base_uri": "https://localhost:8080/",
          "height": 35
        },
        "id": "5IWQyDbtvcy0",
        "outputId": "4df3ae23-8ba6-42da-cf83-d36ef6251d90"
      },
      "execution_count": null,
      "outputs": [
        {
          "output_type": "execute_result",
          "data": {
            "text/plain": [
              "'1995 Chevrolet Sportvan G30'"
            ],
            "application/vnd.google.colaboratory.intrinsic+json": {
              "type": "string"
            }
          },
          "metadata": {},
          "execution_count": 147
        }
      ]
    },
    {
      "cell_type": "code",
      "source": [
        "!pip install faker-credit-score"
      ],
      "metadata": {
        "colab": {
          "base_uri": "https://localhost:8080/"
        },
        "id": "O-cWaWI6vg3i",
        "outputId": "a818ea4b-18e8-4aeb-9694-f465952096a7"
      },
      "execution_count": null,
      "outputs": [
        {
          "output_type": "stream",
          "name": "stdout",
          "text": [
            "Collecting faker-credit-score\n",
            "  Downloading faker_credit_score-0.3.0.tar.gz (5.3 kB)\n",
            "Requirement already satisfied: Faker in /usr/local/lib/python3.7/dist-packages (from faker-credit-score) (13.3.5)\n",
            "Requirement already satisfied: python-dateutil>=2.4 in /usr/local/lib/python3.7/dist-packages (from Faker->faker-credit-score) (2.8.2)\n",
            "Requirement already satisfied: typing-extensions>=3.10.0.2 in /usr/local/lib/python3.7/dist-packages (from Faker->faker-credit-score) (4.1.1)\n",
            "Requirement already satisfied: six>=1.5 in /usr/local/lib/python3.7/dist-packages (from python-dateutil>=2.4->Faker->faker-credit-score) (1.15.0)\n",
            "Building wheels for collected packages: faker-credit-score\n",
            "  Building wheel for faker-credit-score (setup.py) ... \u001b[?25l\u001b[?25hdone\n",
            "  Created wheel for faker-credit-score: filename=faker_credit_score-0.3.0-py3-none-any.whl size=4217 sha256=10865e05b88f9ecd50c62a970d9250e7033bf52a8da3e59c0ad405460e11a5ad\n",
            "  Stored in directory: /root/.cache/pip/wheels/f5/7e/e5/542ce70c5cc10c1062535a205315dccc6c30805e7af2e86fd8\n",
            "Successfully built faker-credit-score\n",
            "Installing collected packages: faker-credit-score\n",
            "Successfully installed faker-credit-score-0.3.0\n"
          ]
        }
      ]
    },
    {
      "cell_type": "code",
      "source": [
        "from faker_credit_score import CreditScore"
      ],
      "metadata": {
        "id": "vnelys_Qvn3r"
      },
      "execution_count": null,
      "outputs": []
    },
    {
      "cell_type": "code",
      "source": [
        "faker.add_provider(CreditScore)"
      ],
      "metadata": {
        "id": "UCBt48mZvrZq"
      },
      "execution_count": null,
      "outputs": []
    },
    {
      "cell_type": "code",
      "source": [
        "faker.credit_score_provider()"
      ],
      "metadata": {
        "colab": {
          "base_uri": "https://localhost:8080/",
          "height": 35
        },
        "id": "8EjcMmr3vti0",
        "outputId": "403eb6b9-b761-410e-952b-27590441ea7e"
      },
      "execution_count": null,
      "outputs": [
        {
          "output_type": "execute_result",
          "data": {
            "text/plain": [
              "'Equifax'"
            ],
            "application/vnd.google.colaboratory.intrinsic+json": {
              "type": "string"
            }
          },
          "metadata": {},
          "execution_count": 154
        }
      ]
    },
    {
      "cell_type": "code",
      "source": [
        "faker.credit_score_full()"
      ],
      "metadata": {
        "colab": {
          "base_uri": "https://localhost:8080/",
          "height": 35
        },
        "id": "W0mu80GLvtEO",
        "outputId": "e0a5040c-e1e2-4884-836a-275f1be0dd73"
      },
      "execution_count": null,
      "outputs": [
        {
          "output_type": "execute_result",
          "data": {
            "text/plain": [
              "'FICO Score 8\\nEquifax\\n746\\n'"
            ],
            "application/vnd.google.colaboratory.intrinsic+json": {
              "type": "string"
            }
          },
          "metadata": {},
          "execution_count": 155
        }
      ]
    },
    {
      "cell_type": "code",
      "source": [
        "!pip install faker_airtravel"
      ],
      "metadata": {
        "colab": {
          "base_uri": "https://localhost:8080/"
        },
        "id": "-aC5CtS7vzHd",
        "outputId": "a31a2272-7eac-4337-dffb-92a442b63eb9"
      },
      "execution_count": null,
      "outputs": [
        {
          "output_type": "stream",
          "name": "stdout",
          "text": [
            "Collecting faker_airtravel\n",
            "  Downloading faker_airtravel-0.4-py2.py3-none-any.whl (18 kB)\n",
            "Installing collected packages: faker-airtravel\n",
            "Successfully installed faker-airtravel-0.4\n"
          ]
        }
      ]
    },
    {
      "cell_type": "code",
      "source": [
        "from faker_airtravel import AirTravelProvider"
      ],
      "metadata": {
        "id": "wCQMwXkiwAD1"
      },
      "execution_count": null,
      "outputs": []
    },
    {
      "cell_type": "code",
      "source": [
        "faker.add_provider(AirTravelProvider)                   "
      ],
      "metadata": {
        "id": "sq4IJqm9wDh7"
      },
      "execution_count": null,
      "outputs": []
    },
    {
      "cell_type": "code",
      "source": [
        "faker.airport_iata()"
      ],
      "metadata": {
        "colab": {
          "base_uri": "https://localhost:8080/",
          "height": 35
        },
        "id": "IFdcfNO1wG7E",
        "outputId": "6a95edc3-0c0c-48c3-8232-f01bd45b8974"
      },
      "execution_count": null,
      "outputs": [
        {
          "output_type": "execute_result",
          "data": {
            "text/plain": [
              "'IND'"
            ],
            "application/vnd.google.colaboratory.intrinsic+json": {
              "type": "string"
            }
          },
          "metadata": {},
          "execution_count": 160
        }
      ]
    },
    {
      "cell_type": "code",
      "source": [
        "faker.airport_object()"
      ],
      "metadata": {
        "colab": {
          "base_uri": "https://localhost:8080/"
        },
        "id": "b5kAeP8iwJ-F",
        "outputId": "260ce3d3-0019-48c9-b30f-8500224ca027"
      },
      "execution_count": null,
      "outputs": [
        {
          "output_type": "execute_result",
          "data": {
            "text/plain": [
              "{'airport': 'Narita International airport',\n",
              " 'city': 'Narita-shi',\n",
              " 'country': 'Japan',\n",
              " 'iata': 'NRT',\n",
              " 'icao': 'RJAA',\n",
              " 'state': 'Chiba Prefecture'}"
            ]
          },
          "metadata": {},
          "execution_count": 163
        }
      ]
    },
    {
      "cell_type": "code",
      "source": [
        "faker.flight()"
      ],
      "metadata": {
        "colab": {
          "base_uri": "https://localhost:8080/"
        },
        "id": "gNmep3VMwOBV",
        "outputId": "3942a192-5aaa-44dc-b0d6-92efd6b57012"
      },
      "execution_count": null,
      "outputs": [
        {
          "output_type": "execute_result",
          "data": {
            "text/plain": [
              "{'airline': 'Royal Air Maroc',\n",
              " 'destination': {'airport': 'Trelew Almirante Zar airport',\n",
              "  'city': 'Trelew',\n",
              "  'country': 'Argentina',\n",
              "  'iata': 'REL',\n",
              "  'icao': '',\n",
              "  'state': 'Chubut'},\n",
              " 'origin': {'airport': 'Hongqiao airport',\n",
              "  'city': 'Shanghai',\n",
              "  'country': 'China',\n",
              "  'iata': 'SHA',\n",
              "  'icao': 'ZSSS',\n",
              "  'state': 'Shanghai'},\n",
              " 'price': 295,\n",
              " 'stops': 3}"
            ]
          },
          "metadata": {},
          "execution_count": 164
        }
      ]
    },
    {
      "cell_type": "code",
      "source": [
        "print(f'Datetime this century: {faker.date_time_this_century()}')\n",
        "print(f'Datetime this decade: {faker.date_time_this_decade()}')\n",
        "print(f'Datetime this year: {faker.date_time_this_year()}')\n",
        "print(f'Datetime this month: {faker.date_time_this_month()}')\n",
        "\n",
        "print('-------------------------')\n",
        "\n",
        "print(f'Date this century: {faker.date_this_century()}')\n",
        "print(f'Date this decade: {faker.date_this_decade()}')\n",
        "print(f'Date this year: {faker.date_this_year()}')\n",
        "print(f'Date this month: {faker.date_this_month()}')\n",
        "\n",
        "print('-------------------------')"
      ],
      "metadata": {
        "colab": {
          "base_uri": "https://localhost:8080/"
        },
        "id": "VFvNWo8OwUXB",
        "outputId": "30fe34cc-c999-4731-aa27-c4f91ab402b0"
      },
      "execution_count": null,
      "outputs": [
        {
          "output_type": "stream",
          "name": "stdout",
          "text": [
            "Datetime this century: 2004-11-16 23:38:34\n",
            "Datetime this decade: 2020-01-07 08:53:17\n",
            "Datetime this year: 2022-03-29 22:45:39\n",
            "Datetime this month: 2022-04-12 23:38:36\n",
            "-------------------------\n",
            "Date this century: 2009-11-08\n",
            "Date this decade: 2020-07-21\n",
            "Date this year: 2022-02-28\n",
            "Date this month: 2022-04-01\n",
            "-------------------------\n"
          ]
        }
      ]
    },
    {
      "cell_type": "code",
      "source": [
        "faker.date_between_dates(date_start=\"-5y\", date_end='-4y')"
      ],
      "metadata": {
        "colab": {
          "base_uri": "https://localhost:8080/"
        },
        "id": "pgiBEwrYwpXy",
        "outputId": "fa262d7c-ab8d-40e1-cb06-2c0a1111d3eb"
      },
      "execution_count": null,
      "outputs": [
        {
          "output_type": "execute_result",
          "data": {
            "text/plain": [
              "datetime.date(2017, 7, 23)"
            ]
          },
          "metadata": {},
          "execution_count": 195
        }
      ]
    },
    {
      "cell_type": "code",
      "source": [
        "TOTAL_SECONDS = 60*60*24*2 # two days\n",
        "series = faker.time_series(start_date='-12d', end_date='now', precision=TOTAL_SECONDS)\n",
        "for val in series:\n",
        "    print(val[0])"
      ],
      "metadata": {
        "colab": {
          "base_uri": "https://localhost:8080/"
        },
        "id": "9U7eWuGixvhM",
        "outputId": "15ab2cba-257d-48f1-f822-b7900a024462"
      },
      "execution_count": null,
      "outputs": [
        {
          "output_type": "stream",
          "name": "stdout",
          "text": [
            "2022-04-08 21:05:51\n",
            "2022-04-10 21:05:51\n",
            "2022-04-12 21:05:51\n",
            "2022-04-14 21:05:51\n",
            "2022-04-16 21:05:51\n",
            "2022-04-18 21:05:51\n"
          ]
        }
      ]
    },
    {
      "cell_type": "code",
      "source": [
        ""
      ],
      "metadata": {
        "id": "GchzYuc5y4r0"
      },
      "execution_count": null,
      "outputs": []
    }
  ]
}