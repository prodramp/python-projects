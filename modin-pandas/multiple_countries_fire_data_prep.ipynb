{
 "cells": [
  {
   "cell_type": "code",
   "execution_count": null,
   "id": "7893c719",
   "metadata": {},
   "outputs": [],
   "source": [
    "import glob\n",
    "from datetime import datetime\n",
    "from tqdm import tqdm"
   ]
  },
  {
   "cell_type": "code",
   "execution_count": null,
   "id": "f05c51b9",
   "metadata": {},
   "outputs": [],
   "source": [
    "import pandas as pdo"
   ]
  },
  {
   "cell_type": "code",
   "execution_count": null,
   "id": "444af01b",
   "metadata": {},
   "outputs": [],
   "source": [
    "import modin.pandas as pdm"
   ]
  },
  {
   "cell_type": "code",
   "execution_count": null,
   "id": "54bb12d3",
   "metadata": {},
   "outputs": [],
   "source": [
    "!python --version"
   ]
  },
  {
   "cell_type": "code",
   "execution_count": null,
   "id": "0e462a69",
   "metadata": {},
   "outputs": [],
   "source": [
    "!pip show pandas"
   ]
  },
  {
   "cell_type": "code",
   "execution_count": null,
   "id": "d7e8ce69",
   "metadata": {},
   "outputs": [],
   "source": [
    "!pip show modin"
   ]
  },
  {
   "cell_type": "code",
   "execution_count": null,
   "id": "0af12154",
   "metadata": {},
   "outputs": [],
   "source": [
    "!ls -lah ../wildfire"
   ]
  },
  {
   "cell_type": "code",
   "execution_count": null,
   "id": "0ed0dda4",
   "metadata": {},
   "outputs": [],
   "source": [
    "all_csv_files = glob.glob('../wildfire/wildfire-data/**/*.csv', recursive=True)"
   ]
  },
  {
   "cell_type": "code",
   "execution_count": null,
   "id": "964eda49",
   "metadata": {},
   "outputs": [],
   "source": [
    "print(len(all_csv_files))\n",
    "all_csv_files"
   ]
  },
  {
   "cell_type": "code",
   "execution_count": null,
   "id": "b45cd3f7",
   "metadata": {},
   "outputs": [],
   "source": [
    "all_us_files = list(filter(lambda k: 'United_States' in k, all_csv_files))\n",
    "all_aus_files = list(filter(lambda k: 'Australia.csv' in k, all_csv_files))\n",
    "all_greenland_files = list(filter(lambda k: 'Greenland.csv' in k, all_csv_files))\n",
    "all_Papua_New_Guinea_files = list(filter(lambda k: 'Papua_New_Guinea.csv' in k, all_csv_files))\n",
    "all_Mexico_files = list(filter(lambda k: 'Mexico' in k, all_csv_files))\n",
    "all_China_files = list(filter(lambda k: 'China' in k, all_csv_files))"
   ]
  },
  {
   "cell_type": "code",
   "execution_count": null,
   "id": "17ed7901",
   "metadata": {},
   "outputs": [],
   "source": [
    "all_fire_files = all_aus_files + all_us_files + all_greenland_files + all_Papua_New_Guinea_files + all_Mexico_files + all_China_files"
   ]
  },
  {
   "cell_type": "code",
   "execution_count": null,
   "id": "32ea7e59",
   "metadata": {},
   "outputs": [],
   "source": [
    "all_fire_files"
   ]
  },
  {
   "cell_type": "code",
   "execution_count": null,
   "id": "e950b530",
   "metadata": {},
   "outputs": [],
   "source": [
    "print(len(all_fire_files))"
   ]
  },
  {
   "cell_type": "code",
   "execution_count": null,
   "id": "601bc597",
   "metadata": {},
   "outputs": [],
   "source": [
    "# Taken this idea from the H2O.ai wild fire competition github repo and changed it meet the local need\n",
    "rows = []\n",
    "fire_df = []\n",
    "row_sum = 0\n",
    "t_start = datetime.now()\n",
    "for f in tqdm(all_fire_files):\n",
    "    # Using pandas\n",
    "    df = pdo.read_csv(f, parse_dates=['acq_time'], low_memory=False) \n",
    "    csv_name = f.split('/')[-1]\n",
    "    row = [\n",
    "        f, csv_name, df.shape[0], df.shape[1], df.acq_date.min(), df.acq_date.max(),\n",
    "        df.satellite.unique(), df.instrument.max(), df.version.max(),\n",
    "        df.latitude.nunique(), df.longitude.nunique(),\n",
    "        df.confidence.nunique(), df.satellite.nunique(), df.acq_date.nunique()\n",
    "    ]\n",
    "    if isinstance(df.confidence[0], str):\n",
    "        df.confidence = df.confidence.replace({'l': 0, 'n': 50, 'h': 100})\n",
    "    rows.append(row)\n",
    "    row_sum = row_sum + df.shape[0]\n",
    "    fire_df.append(df)\n",
    "cols = [\n",
    "    'path', 'csv', 'rows', 'cols', 'start', 'end',\n",
    "    'satellite', 'instrument', 'version',\n",
    "    'lats', 'lons', 'confs', 'sats', 'days'\n",
    "]\n",
    "# Using pandas\n",
    "filestats = pdo.DataFrame(rows, columns=cols)\n",
    "filestats.sort_values(by=['start', 'instrument'])\n",
    "print(\"Total Rows: \" + str(row_sum))\n",
    "\n",
    "# Using pandas\n",
    "master_fire_df = pdo.concat(fire_df)\n",
    "t_end = datetime.now()\n",
    "t_end.strftime('%Y-%m-%d %H:%M:%S')\n",
    "f'Total time {(t_end - t_start).seconds} (s)'"
   ]
  },
  {
   "cell_type": "markdown",
   "id": "5ca79236",
   "metadata": {},
   "source": [
    "```\n",
    "Total Rows: 37164492\n",
    "'Total time 77 (s)'\n",
    "```"
   ]
  },
  {
   "cell_type": "markdown",
   "id": "10083409",
   "metadata": {},
   "source": [
    "## initializing modin and setting its configuration ##"
   ]
  },
  {
   "cell_type": "code",
   "execution_count": null,
   "id": "a05e73ce",
   "metadata": {},
   "outputs": [],
   "source": [
    "from modin.config import Engine\n",
    "Engine.put(\"dask\")\n",
    "from distributed import Client\n",
    "client = Client()"
   ]
  },
  {
   "cell_type": "code",
   "execution_count": null,
   "id": "347567f5",
   "metadata": {},
   "outputs": [],
   "source": []
  },
  {
   "cell_type": "code",
   "execution_count": null,
   "id": "6cef3406",
   "metadata": {},
   "outputs": [],
   "source": [
    "# Taken this idea from the H2O.ai wild fire competition github repo and changed it meet the local need\n",
    "rows = []\n",
    "fire_df = []\n",
    "row_sum = 0\n",
    "t_start = datetime.now()\n",
    "for f in tqdm(all_fire_files):\n",
    "    # Using modin pandas\n",
    "    df = pdm.read_csv(f, parse_dates=['acq_time'], low_memory=False) \n",
    "    csv_name = f.split('/')[-1]\n",
    "    row = [\n",
    "        f, csv_name, df.shape[0], df.shape[1], df.acq_date.min(), df.acq_date.max(),\n",
    "        df.satellite.unique(), df.instrument.max(), df.version.max(),\n",
    "        df.latitude.nunique(), df.longitude.nunique(),\n",
    "        df.confidence.nunique(), df.satellite.nunique(), df.acq_date.nunique()\n",
    "    ]\n",
    "    if isinstance(df.confidence[0], str):\n",
    "        df.confidence = df.confidence.replace({'l': 0, 'n': 50, 'h': 100})\n",
    "    rows.append(row)\n",
    "    row_sum = row_sum + df.shape[0]\n",
    "    fire_df.append(df)\n",
    "cols = [\n",
    "    'path', 'csv', 'rows', 'cols', 'start', 'end',\n",
    "    'satellite', 'instrument', 'version',\n",
    "    'lats', 'lons', 'confs', 'sats', 'days'\n",
    "]\n",
    "# Using modin pandas\n",
    "filestats = pdm.DataFrame(rows, columns=cols)\n",
    "filestats.sort_values(by=['start', 'instrument'])\n",
    "print(\"Total Rows: \" + str(row_sum))\n",
    "\n",
    "# Using modin pandas\n",
    "master_fire_df = pdm.concat(fire_df)\n",
    "t_end = datetime.now()\n",
    "t_end.strftime('%Y-%m-%d %H:%M:%S')\n",
    "f'Total time {(t_end - t_start).seconds} (s)'"
   ]
  },
  {
   "cell_type": "code",
   "execution_count": null,
   "id": "f34c0b87",
   "metadata": {},
   "outputs": [],
   "source": [
    "f'Total time {(t_end - t_start).seconds} (s)'"
   ]
  },
  {
   "cell_type": "code",
   "execution_count": null,
   "id": "a8ce18ce",
   "metadata": {},
   "outputs": [],
   "source": [
    "master_fire_df.shape"
   ]
  },
  {
   "cell_type": "code",
   "execution_count": null,
   "id": "99057e81",
   "metadata": {},
   "outputs": [],
   "source": [
    "master_fire_df"
   ]
  },
  {
   "cell_type": "code",
   "execution_count": null,
   "id": "989fdf6c",
   "metadata": {},
   "outputs": [],
   "source": [
    "master_fire_df.to_csv('mix_fire.csv.gz', index=False, compression='gzip')\n",
    "#master_fire_df.to_csv('mix_fire.csv', index=False)"
   ]
  },
  {
   "cell_type": "code",
   "execution_count": null,
   "id": "7670b7c8",
   "metadata": {},
   "outputs": [],
   "source": []
  }
 ],
 "metadata": {
  "kernelspec": {
   "display_name": "Python 3 (ipykernel)",
   "language": "python",
   "name": "python3"
  },
  "language_info": {
   "codemirror_mode": {
    "name": "ipython",
    "version": 3
   },
   "file_extension": ".py",
   "mimetype": "text/x-python",
   "name": "python",
   "nbconvert_exporter": "python",
   "pygments_lexer": "ipython3",
   "version": "3.9.7"
  }
 },
 "nbformat": 4,
 "nbformat_minor": 5
}
