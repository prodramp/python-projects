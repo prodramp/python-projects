{
 "cells": [
  {
   "cell_type": "markdown",
   "id": "a697beb7",
   "metadata": {},
   "source": [
    "# Scale your pandas workflows by changing one line of code #\n",
    "- https://github.com/modin-project/modin\n",
    "    \n",
    "## With Pandas ##\n",
    "```\n",
    "import pandas as pd\n",
    "```\n",
    "## With modin pandas ##\n",
    "```\n",
    "import modin.pandas as pd\n",
    "```"
   ]
  },
  {
   "cell_type": "code",
   "execution_count": null,
   "id": "4ebe3b4f",
   "metadata": {},
   "outputs": [],
   "source": [
    "!python --version"
   ]
  },
  {
   "cell_type": "code",
   "execution_count": null,
   "id": "f7aa78ed",
   "metadata": {},
   "outputs": [],
   "source": [
    "!pip show pandas"
   ]
  },
  {
   "cell_type": "code",
   "execution_count": null,
   "id": "ab8b7c93",
   "metadata": {},
   "outputs": [],
   "source": [
    "!pip show modin"
   ]
  },
  {
   "cell_type": "code",
   "execution_count": null,
   "id": "26ef6080",
   "metadata": {},
   "outputs": [],
   "source": [
    "!ls  -lha ../wildfire/wildfire-data "
   ]
  },
  {
   "cell_type": "code",
   "execution_count": null,
   "id": "516996ff",
   "metadata": {},
   "outputs": [],
   "source": [
    "from datetime import datetime\n",
    "import pandas as pdo \n",
    "import modin.pandas as pd"
   ]
  },
  {
   "cell_type": "code",
   "execution_count": null,
   "id": "44a9fc06",
   "metadata": {},
   "outputs": [],
   "source": [
    "from modin.config import Engine"
   ]
  },
  {
   "cell_type": "code",
   "execution_count": null,
   "id": "8ca98afe",
   "metadata": {},
   "outputs": [],
   "source": [
    "Engine.put(\"dask\")"
   ]
  },
  {
   "cell_type": "code",
   "execution_count": null,
   "id": "c6fefc4e",
   "metadata": {},
   "outputs": [],
   "source": [
    "from distributed import Client\n",
    "client = Client()"
   ]
  },
  {
   "cell_type": "code",
   "execution_count": null,
   "id": "70189f2d",
   "metadata": {},
   "outputs": [],
   "source": [
    "!ls -lah"
   ]
  },
  {
   "cell_type": "code",
   "execution_count": null,
   "id": "c90ce3a7",
   "metadata": {},
   "outputs": [],
   "source": [
    "source = \"mix_fire.csv\""
   ]
  },
  {
   "cell_type": "markdown",
   "id": "ed1997c3",
   "metadata": {},
   "source": [
    "## Reading CSV (not zipped)"
   ]
  },
  {
   "cell_type": "code",
   "execution_count": null,
   "id": "8a3268b4",
   "metadata": {},
   "outputs": [],
   "source": [
    "t0 = datetime.now()\n",
    "df_pd = pdo.read_csv(source, low_memory=False)\n",
    "end = datetime.now()\n",
    "end.strftime('%Y-%m-%d %H:%M:%S')\n",
    "f'Total time {(end - t0).seconds} (s)'"
   ]
  },
  {
   "cell_type": "code",
   "execution_count": null,
   "id": "c0362321",
   "metadata": {},
   "outputs": [],
   "source": [
    "df_pd.shape"
   ]
  },
  {
   "cell_type": "code",
   "execution_count": null,
   "id": "7625a9d6",
   "metadata": {},
   "outputs": [],
   "source": [
    "t0 = datetime.now()\n",
    "df = pd.read_csv(source)\n",
    "end = datetime.now()\n",
    "end.strftime('%Y-%m-%d %H:%M:%S')\n",
    "f'Total time {(end - t0).seconds} (s)'"
   ]
  },
  {
   "cell_type": "code",
   "execution_count": null,
   "id": "4b1551e2",
   "metadata": {},
   "outputs": [],
   "source": [
    "df.shape"
   ]
  },
  {
   "cell_type": "markdown",
   "id": "7810d6f0",
   "metadata": {},
   "source": [
    "## Reading gzip CSV (Zipped)"
   ]
  },
  {
   "cell_type": "code",
   "execution_count": null,
   "id": "715f1981",
   "metadata": {},
   "outputs": [],
   "source": [
    "source_gz = 'mix_fire.csv.gz'"
   ]
  },
  {
   "cell_type": "code",
   "execution_count": null,
   "id": "4031bec7",
   "metadata": {},
   "outputs": [],
   "source": [
    "t0 = datetime.now()\n",
    "df_pd_gz = pdo.read_csv(source_gz, low_memory=False)\n",
    "end = datetime.now()\n",
    "end.strftime('%Y-%m-%d %H:%M:%S')\n",
    "f'Total time {(end - t0).seconds} (s)'"
   ]
  },
  {
   "cell_type": "code",
   "execution_count": null,
   "id": "da79e28e",
   "metadata": {},
   "outputs": [],
   "source": [
    "t0 = datetime.now()\n",
    "df_mo_gz = pd.read_csv(source_gz)\n",
    "end = datetime.now()\n",
    "end.strftime('%Y-%m-%d %H:%M:%S')\n",
    "f'Total time {(end - t0).seconds} (s)'"
   ]
  },
  {
   "cell_type": "markdown",
   "id": "21b461c7",
   "metadata": {},
   "source": [
    "## checking dataframes"
   ]
  },
  {
   "cell_type": "code",
   "execution_count": null,
   "id": "4db7c953",
   "metadata": {},
   "outputs": [],
   "source": [
    "print(df_pd_gz.shape)\n",
    "print(df_mo_gz.shape)"
   ]
  },
  {
   "cell_type": "code",
   "execution_count": null,
   "id": "9654ed81",
   "metadata": {},
   "outputs": [],
   "source": [
    "PRECISION = 1"
   ]
  },
  {
   "cell_type": "markdown",
   "id": "08ee773c",
   "metadata": {},
   "source": [
    "## Using Modin Pandas"
   ]
  },
  {
   "cell_type": "code",
   "execution_count": null,
   "id": "bc6549e7",
   "metadata": {},
   "outputs": [],
   "source": [
    "t_start = datetime.now()\n",
    "## ----\n",
    "df = df_pd_gz[['latitude', 'longitude', 'acq_date', 'confidence']]\n",
    "df.latitude = df.latitude.round(PRECISION)\n",
    "df.longitude = df.longitude.round(PRECISION)\n",
    "df['acq_date'] = pd.to_datetime(df['acq_date'])\n",
    "df['year'] = df.acq_date.dt.year\n",
    "df['month'] = df.acq_date.dt.month\n",
    "total_fires = df.groupby(['latitude', 'longitude', 'year', 'month']).size().reset_index()\n",
    "total_fires.columns = ['latitude', 'longitude', 'year', 'month', 'fire_count']\n",
    "yearly_fires = total_fires.groupby(['longitude', 'latitude', 'year', ]).count().reset_index()\n",
    "global_fires = total_fires.groupby(['latitude', 'longitude']).sum().reset_index()\n",
    "# ----\n",
    "t_end = datetime.now()\n",
    "t_end.strftime('%Y-%m-%d %H:%M:%S')\n",
    "f'Total time {(t_end - t_start).seconds} (s)'"
   ]
  },
  {
   "cell_type": "code",
   "execution_count": null,
   "id": "1d7f3fe8",
   "metadata": {},
   "outputs": [],
   "source": [
    "print(yearly_fires.shape)\n",
    "yearly_fires"
   ]
  },
  {
   "cell_type": "code",
   "execution_count": null,
   "id": "7a953f2a",
   "metadata": {},
   "outputs": [],
   "source": [
    "print(global_fires.shape)\n",
    "global_fires"
   ]
  },
  {
   "cell_type": "code",
   "execution_count": null,
   "id": "e9d15eb2",
   "metadata": {},
   "outputs": [],
   "source": [
    "import plotly.express as px\n",
    "import plotly.figure_factory as ff\n",
    "import numpy as np\n",
    "MAPBOX_TOKEN = 'pk.eyJ1IjoiZm9kZ2Fib3JtYXRoIiwiYSI6ImNrZmY3Nzc2bjBiemkyeG8zdGNzcXgzMGIifQ.J0dZhMiuZTPVexL8nrpS6Q'\n",
    "px.set_mapbox_access_token(MAPBOX_TOKEN)"
   ]
  },
  {
   "cell_type": "code",
   "execution_count": null,
   "id": "b70a5b47",
   "metadata": {},
   "outputs": [],
   "source": [
    "t_start = datetime.now()\n",
    "## ----\n",
    "fig = ff.create_hexbin_mapbox(\n",
    "    data_frame=global_fires, lat='latitude', lon='longitude',\n",
    "    nx_hexagon=100, opacity=0.9, labels={\"color\": \"Hotspot records\"},\n",
    "    color='fire_count', agg_func=np.sum, color_continuous_scale=\"Reds\"\n",
    ")\n",
    "fig.show()\n",
    "# ----\n",
    "t_end = datetime.now()\n",
    "t_end.strftime('%Y-%m-%d %H:%M:%S')\n",
    "f'Total time {(t_end - t_start).seconds} (s)'"
   ]
  },
  {
   "cell_type": "markdown",
   "id": "da3719ad",
   "metadata": {},
   "source": [
    "## Using Pandas "
   ]
  },
  {
   "cell_type": "code",
   "execution_count": null,
   "id": "88127406",
   "metadata": {},
   "outputs": [],
   "source": [
    "t_start = datetime.now()\n",
    "## ----\n",
    "df = df_mo_gz[['latitude', 'longitude', 'acq_date', 'confidence']]\n",
    "df.latitude = df.latitude.round(PRECISION)\n",
    "df.longitude = df.longitude.round(PRECISION)\n",
    "df['acq_date'] = pd.to_datetime(df['acq_date'])\n",
    "df['year'] = df.acq_date.dt.year\n",
    "df['month'] = df.acq_date.dt.month\n",
    "total_fires = df.groupby(['latitude', 'longitude', 'year', 'month']).size().reset_index()\n",
    "total_fires.columns = ['latitude', 'longitude', 'year', 'month', 'fire_count']\n",
    "yearly_fires = total_fires.groupby(['longitude', 'latitude', 'year', ]).count().reset_index()\n",
    "global_fires = total_fires.groupby(['latitude', 'longitude']).sum().reset_index()\n",
    "# ----\n",
    "t_end = datetime.now()\n",
    "t_end.strftime('%Y-%m-%d %H:%M:%S')\n",
    "f'Total time {(t_end - t_start).seconds} (s)'"
   ]
  },
  {
   "cell_type": "code",
   "execution_count": null,
   "id": "5eadd663",
   "metadata": {},
   "outputs": [],
   "source": [
    "print(global_fires.shape)\n",
    "global_fires"
   ]
  },
  {
   "cell_type": "code",
   "execution_count": null,
   "id": "ac828a0d",
   "metadata": {},
   "outputs": [],
   "source": [
    "t_start = datetime.now()\n",
    "## ----\n",
    "fig = ff.create_hexbin_mapbox(\n",
    "    data_frame=global_fires, lat=0, lon=1,\n",
    "    nx_hexagon=100, opacity=0.9, labels={\"color\": \"Hotspot records\"},\n",
    "    color=4, agg_func=np.sum, color_continuous_scale=\"Reds\"\n",
    ")\n",
    "fig.show()\n",
    "# ----\n",
    "t_end = datetime.now()\n",
    "t_end.strftime('%Y-%m-%d %H:%M:%S')\n",
    "f'Total time {(t_end - t_start).seconds} (s)'"
   ]
  },
  {
   "cell_type": "code",
   "execution_count": null,
   "id": "43b488d3",
   "metadata": {},
   "outputs": [],
   "source": [
    "global_fires.columns"
   ]
  },
  {
   "cell_type": "code",
   "execution_count": null,
   "id": "f38befe2",
   "metadata": {},
   "outputs": [],
   "source": [
    "fig = px.density_mapbox(global_fires, lat=0, lon=1, z=4, radius=10,\n",
    "                        center=dict(lat=0, lon=180), zoom=0,\n",
    "                        mapbox_style=\"stamen-terrain\")\n",
    "fig.show()"
   ]
  },
  {
   "cell_type": "code",
   "execution_count": null,
   "id": "2f5812a7",
   "metadata": {},
   "outputs": [],
   "source": []
  }
 ],
 "metadata": {
  "kernelspec": {
   "display_name": "Python 3 (ipykernel)",
   "language": "python",
   "name": "python3"
  },
  "language_info": {
   "codemirror_mode": {
    "name": "ipython",
    "version": 3
   },
   "file_extension": ".py",
   "mimetype": "text/x-python",
   "name": "python",
   "nbconvert_exporter": "python",
   "pygments_lexer": "ipython3",
   "version": "3.9.7"
  }
 },
 "nbformat": 4,
 "nbformat_minor": 5
}
